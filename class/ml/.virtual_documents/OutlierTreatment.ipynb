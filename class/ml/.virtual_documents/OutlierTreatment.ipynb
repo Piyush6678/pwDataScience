import pandas as pd
import numpy as np 
import seaborn as sns
import matplotlib.pyplot as plt

import warnings
warnings.filterwarnings("ignore")



salary = [11, 40, 45, 68, 65, 68, 78, 90, 57, 74, 91, 92, 88, 68, 57, 48, 99, 101, 68, 77, 110, 140]


#five point summary
#min, 25th, 50th percentile, 75th percentile 100th percentile
np.quantile(salary,[0,0.25,0.50,0.75,1])












