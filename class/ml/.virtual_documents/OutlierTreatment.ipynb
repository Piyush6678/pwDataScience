import pandas as pd
import numpy as np 
import seaborn as sns
import matplotlib.pyplot as plt

import warnings
warnings.filterwarnings("ignore")



salary = [11, 40, 45, 68, 65, 68, 78, 90, 57, 74, 91, 92, 88, 68, 57, 48, 99, 101, 68, 77, 110, 140]


#five point summary
#min, 25th, 50th percentile, 75th percentile 100th percentile
np.quantile(salary,[0,0.25,0.50,0.75,1])


df=pd.DataFrame(salary,columns=["salary"])


df.describe()


#To check outliers>> distplot, boxplot
plt.figure(figsize=(12,5))
plt.subplot(1,2,1)
sns.histplot(df["salary"],kde=True)
plt.title("Dist plot")

plt.subplot(1,2,2)
sns.boxplot(data=df,x="salary")
plt.title("Box plot")
plt.show()


#here the distribution is not skewed as the outliers are present on both side
#In box plot, we see there are outliers

#dropping the outlier

#replace with mean and median

#capping the outlier


#dropping the outlier


Q1 = df['salary'].quantile(0.25)
Q3 = df['salary'].quantile(0.75)

IQR = Q3-Q1

lower_fence = Q1-1.5*IQR
upper_fence = Q3+1.5*IQR


df_filtered = df[(df.salary >= lower_fence) & (df.salary <= upper_fence)]


df.shape


df_filtered.shape


plt.figure(figsize = (12, 5))
plt.subplot(1, 2, 1)
sns.histplot(df_filtered['salary'], kde = True)
plt.title("Dist Plot")


plt.subplot(1, 2, 2)
sns.boxplot(data=df_filtered, x = 'salary')
plt.title("Box plot")
plt.show()


#imputation with mean 
df['Salary_impuuted_mean'] = np.where((df.Salary >= upper_fence) | (df.Salary <= lower_fence), df['Salary'].mean(), df['Salary'])


plt.figure(figsize = (12, 5))
plt.subplot(1, 2, 1)
sns.histplot(df['Salary_impuuted_mean'], kde = True)
plt.title("Dist Plot")


plt.subplot(1, 2, 2)
sns.boxplot(data=df, x = 'Salary_impuuted_mean')
plt.title("Box plot")
plt.show()


#imputation with median
df['Salary_impuuted_median'] = np.where((df.Salary >= upper_fence) | (df.Salary <= lower_fence), df['Salary'].median(), df['Salary'])


plt.figure(figsize = (12, 5))
plt.subplot(1, 2, 1)
sns.histplot(df['Salary_impuuted_median'], kde = True)
plt.title("Dist Plot")


plt.subplot(1, 2, 2)
sns.boxplot(data=df, x = 'Salary_impuuted_median')
plt.title("Box plot")
plt.show() 


#capping >> replacing the nearest value which is not outlier
df
