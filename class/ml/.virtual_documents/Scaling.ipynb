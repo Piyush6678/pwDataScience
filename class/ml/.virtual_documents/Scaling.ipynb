import pandas as pd
import seaborn as sns
import numpy as np
import warnings
warnings.filterwarnings('ignore')


#feature scaling
#standardisation >> mu=0, sigma=1
#normalisation(minmax scaling) >> data comes between 0 and 1
#unit vector>> 1


df = sns.load_dataset('tips')


df


sns.distplot(df["total_bill"])


mean = np.mean(df["total_bill"])
std = np.std(df["total_bill"])


std_data = []
for i in list(df["total_bill"]):
    zscore = (i-mean)/std
    std_data.append(zscore)


std_data


#feature scaling is optional, it doesn't change the distribution of data


sns.distplot(std_data)


from sklearn.preprocessing import StandardScaler


scaler = StandardScaler()


scaler


scaler.fit(df[['total_bill']]) #it will calculate mu and sigma


scaler


scaler.transform(df[['total_bill']])


df


scaler.fit_transform(df[["total_bill", "tip"]])


pd.DataFrame(scaler.fit_transform(df[["total_bill", "tip"]]), columns = ['total_bill', 'tip'])


scaler.transform([[13, 12]])


#normalization/minmax scaling

from sklearn.preprocessing import MinMaxScaler
min_max = MinMaxScaler()


min_max.fit_transform(df[["total_bill", "tip"]])


min_max.transform([[10, 2]])


#unit vector
from sklearn.preprocessing import normalize


uv = normalize(df[["total_bill"]])
uv #since one dimension so all the values are 1


#assignment

df = sns.load_dataset("taxis")


df


normalize(df[['distance', 'fare', 'tip']])


scaler.fit_transform(df[['distance', 'fare', 'tip']])


min_max.fit_transform(df[['distance', 'fare', 'tip']])



