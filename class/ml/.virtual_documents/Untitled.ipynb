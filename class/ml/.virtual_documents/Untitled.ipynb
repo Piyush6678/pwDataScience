import pandas as pd
import numpy as np


# Create a sample dataset with missing values
data = {
    'A': [1, 2, 100, 4, 5],
    'B': [3, np.nan, 7, 8, 9],
    'C': [np.nan, 12, 13, 14, 15],
    'D': [16, 17, 18, np.nan, 20]
}


# Convert the dictionary to a Pandas DataFrame
df = pd.DataFrame(data)
print("Original DataFrame:")
print(df)



