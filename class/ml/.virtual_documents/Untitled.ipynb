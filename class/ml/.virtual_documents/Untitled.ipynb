import pandas as pd
import numpy as np


# Create a sample dataset with missing values
data = {
    'A': [1, 2, 100, 4, 5],
    'B': [3, np.nan, 7, 8, 9],
    'C': [np.nan, 12, 13, 14, 15],
    'D': [16, 17, 18, np.nan, 20]
}


# Convert the dictionary to a Pandas DataFrame
df = pd.DataFrame(data)
print("Original DataFrame:")
print(df)


df.isnull().sum()


# dropping rows with null values
df.dropna()


# dropping cols with null value
df.dropna(axis=1)


#impute with mean value
df["B"].fillna(df["B"].mean())


#impute with median value
df["B"].fillna(df["B"].median())


#impute with random/0 value
df["B"].fillna(0)


import seaborn as sns
df=sns.load_dataset("titanic")
df.head()


df.isnull().sum()


df.dropna().shape


# imputation of missing value 
# age is misiing at random value assume



sns.histplot(df.age,kde=True)


# whenever you have normal ditribution impute with mean 
df["imputed_ageMean"]=df["age"].fillna(df.age.mean())


df[["age","imputed_ageMean"]]


# sns.distplot(df["imputed_ageMean"],kde=True) use dis plot new syntax
sns.displot(df["imputed_ageMean"],kde=True) 


# mean imputation work for  normally distributted data eith no outliers in data 


# median imputation
df["imputed_ageMedian"]=df["age"].fillna(df.age.median())



sns.displot(df["imputed_ageMedian"],kde=True) 


# imputation of categorical data 
df["embarked"]


df["embarked"].unique()


df[df["embarked"].isnull()] # missing completely at random 


# how many not null value 
df.notna().sum()


df[df["embarked"].notna()]["embarked"].mode() #s


df.imputed_embarked=df["embarked"].fillna("s")
df[["embarked","imputed_embarked"]]



