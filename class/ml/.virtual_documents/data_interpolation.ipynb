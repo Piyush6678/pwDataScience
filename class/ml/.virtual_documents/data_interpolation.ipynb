#data interpolation >> is a process of estimating unknow values from the known values

#linear interpolation
#cubic interpolation
#polynomial interpolation


import numpy as np
import matplotlib.pyplot as plt

x = np.array([1, 2, 3, 4, 5])
y = np.array([1, 3, 5, 7, 9])

plt.scatter(x, y)


#linear interplotaion>>linear in nature
x_new = np.linspace(1, 5, 10) #create new x values
y_interp = np.interp(x_new, x, y)


plt.scatter(x_new, y_interp)


#cubic interpolation
x = np.array([1, 2, 3, 4, 5])
y = np.array([1, 8, 27, 64, 125])

plt.scatter(x, y)


from scipy.interpolate import interp1d
f = interp1d(x, y, kind = 'cubic')


x_new = np.linspace(1, 5, 10)
y_interp = f(x_new)


plt.scatter(x_new, y_interp)


#polynomial interpolation
x = np.array([1, 2, 3, 4, 5])
y = np.array([1, 4, 9, 1, 25])

#interpolate using polynomial interpolation
p = np.polyfit(x, y, 2)


x_new = np.linspace(1, 5, 10)
y_interp = np.polyval(p, x_new)


plt.scatter(x, y)



plt.scatter(x_new, y_interp)


#use case >> missing data, generation of new datapoint



