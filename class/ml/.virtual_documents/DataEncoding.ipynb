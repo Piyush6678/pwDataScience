#data encoding >> converting categorical columns into numeric
#Nominal/OHE
#label and ordinal encoding
#Target guided ordinal encoding


#Nominal/OHE >> Binary vector for each of the categories
#example single, married, separated
#single: [1, 0, 0]
#married: [0, 1, 0]
#separated: [0, 0, 1]


import pandas as pd
from sklearn.preprocessing import OneHotEncoder
df = pd.DataFrame({"status": ["single", "married", "separated", "single", "married"]})


df


encoder = OneHotEncoder()


encoder


encoded = encoder.fit_transform(df[["status"]]).toarray()


encoded


encoder.get_feature_names_out()


encoder_df = pd.DataFrame(encoded, columns = encoder.get_feature_names_out())


encoder_df


encoder.transform([["single"]]).toarray()


#h/w
#pd.get_dummies()


pd.concat([df, encoder_df], axis = 1)


import seaborn as sns
sns.load_dataset("tips")


#label encoding >> assign unique label to the categories
# using map or using library


df


from sklearn.preprocessing import LabelEncoder
label_encoder = LabelEncoder()


label_encoder.fit_transform(df[['status']])


label_encoder.transform([["separated"]])


#ordinal encoding

#High school : 1
#gradiate: 2
#post graduate: 3
#Phd: 4


from sklearn.preprocessing import OrdinalEncoder
df = pd.DataFrame({"qualification": ["HS","GR", "PG", "PHD", "HS", "PHD"]})


df


encoder = OrdinalEncoder(categories=[["HS", "GR", "PG", "PHD"]])


encoder.fit_transform(df[["qualification"]])


#new data
encoder.transform([["PG"]])


#Target guided ordinal encoding
#relationship with target variable
#A lot of unique categories
#replace the category with mean and median of respective group


df = pd.DataFrame({'time':['lunch', 'breakfast', 'dinner', 'lunch', 'breakfast', 'dinner', 'lunch', 'breakfast', 'dinner'],
             'total_bill': [120, 130, 90, 125, 150, 190, 160, 180, 189]})


df


mean_price = df.groupby('time')['total_bill'].mean().to_dict()


df["time_encoded"] = df['time'].map(mean_price)


df


sns.load_dataset("tips")



