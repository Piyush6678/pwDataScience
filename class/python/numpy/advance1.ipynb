{
 "cells": [
  {
   "cell_type": "code",
   "execution_count": 2,
   "id": "f9e63646-90e9-4c91-9e35-8dbf19d5ddba",
   "metadata": {},
   "outputs": [
    {
     "data": {
      "text/plain": [
       "array([[0., 0., 0., 0.],\n",
       "       [0., 0., 0., 0.],\n",
       "       [0., 0., 0., 0.]])"
      ]
     },
     "execution_count": 2,
     "metadata": {},
     "output_type": "execute_result"
    }
   ],
   "source": [
    "import numpy as np \n",
    "np.zeros(5) # 1d array of size 5 with zero default float  \n",
    "np.zeros(5,dtype=int) # 1d array of size 5 with zero \n",
    "np.zeros((3,4)) # 1d array of size 5 with zero "
   ]
  },
  {
   "cell_type": "code",
   "execution_count": 6,
   "id": "c6e76daa-4bab-49d6-9c2b-8b9e9fe013ac",
   "metadata": {},
   "outputs": [
    {
     "data": {
      "text/plain": [
       "array([1, 1, 1, 1])"
      ]
     },
     "execution_count": 6,
     "metadata": {},
     "output_type": "execute_result"
    }
   ],
   "source": [
    "np.ones(4,dtype=int)"
   ]
  },
  {
   "cell_type": "code",
   "execution_count": 16,
   "id": "a6017440-5c29-46cf-b033-ffdbbeced110",
   "metadata": {},
   "outputs": [],
   "source": [
    "# 3d array\n",
    "brr=np.zeros((3,4,5))\n"
   ]
  },
  {
   "cell_type": "code",
   "execution_count": 20,
   "id": "a89afa72-85c3-4fb9-83db-bc5be921772d",
   "metadata": {},
   "outputs": [
    {
     "data": {
      "text/plain": [
       "array([[[5., 5., 5., 5., 5.],\n",
       "        [5., 5., 5., 5., 5.],\n",
       "        [5., 5., 5., 5., 5.],\n",
       "        [5., 5., 5., 5., 5.]],\n",
       "\n",
       "       [[5., 5., 5., 5., 5.],\n",
       "        [5., 5., 5., 5., 5.],\n",
       "        [5., 5., 5., 5., 5.],\n",
       "        [5., 5., 5., 5., 5.]],\n",
       "\n",
       "       [[5., 5., 5., 5., 5.],\n",
       "        [5., 5., 5., 5., 5.],\n",
       "        [5., 5., 5., 5., 5.],\n",
       "        [5., 5., 5., 5., 5.]]])"
      ]
     },
     "execution_count": 20,
     "metadata": {},
     "output_type": "execute_result"
    }
   ],
   "source": [
    "brr+5# add 5 to eachele  "
   ]
  },
  {
   "cell_type": "code",
   "execution_count": 24,
   "id": "fd17303a-55e2-4b33-a571-e1a971721966",
   "metadata": {},
   "outputs": [
    {
     "data": {
      "text/plain": [
       "array([[5., 5., 5., 5.],\n",
       "       [5., 5., 5., 5.],\n",
       "       [5., 5., 5., 5.]])"
      ]
     },
     "execution_count": 24,
     "metadata": {},
     "output_type": "execute_result"
    }
   ],
   "source": [
    "arr=np.zeros((3,4))+5\n",
    "arr"
   ]
  },
  {
   "cell_type": "code",
   "execution_count": 26,
   "id": "4f370175-a072-49bb-9b18-5bcc714eaba7",
   "metadata": {},
   "outputs": [
    {
     "data": {
      "text/plain": [
       "array([[10., 10., 10., 10.],\n",
       "       [10., 10., 10., 10.],\n",
       "       [10., 10., 10., 10.]])"
      ]
     },
     "execution_count": 26,
     "metadata": {},
     "output_type": "execute_result"
    }
   ],
   "source": [
    "arr*2 #multi[ly each ele by 2  "
   ]
  },
  {
   "cell_type": "code",
   "execution_count": 30,
   "id": "62405bbc-74ba-43b6-a27c-43995d0ed5bf",
   "metadata": {},
   "outputs": [
    {
     "data": {
      "text/plain": [
       "array([[3., 3., 3., 3.],\n",
       "       [3., 3., 3., 3.],\n",
       "       [3., 3., 3., 3.]])"
      ]
     },
     "execution_count": 30,
     "metadata": {},
     "output_type": "execute_result"
    }
   ],
   "source": [
    "arr -2 # subtract 2 from each element"
   ]
  },
  {
   "cell_type": "code",
   "execution_count": 32,
   "id": "aa5f7544-dd50-4c3c-8451-3baa7d8f4cac",
   "metadata": {},
   "outputs": [
    {
     "data": {
      "text/plain": [
       "array([[1., 1., 1., 1.],\n",
       "       [1., 1., 1., 1.],\n",
       "       [1., 1., 1., 1.]])"
      ]
     },
     "execution_count": 32,
     "metadata": {},
     "output_type": "execute_result"
    }
   ],
   "source": [
    "arr/5 #divide elements by 5 "
   ]
  },
  {
   "cell_type": "code",
   "execution_count": 34,
   "id": "b9ac4526-2cf5-4b72-8974-2d06abe6bd02",
   "metadata": {},
   "outputs": [
    {
     "data": {
      "text/plain": [
       "array([[1., 0., 0.],\n",
       "       [0., 1., 0.],\n",
       "       [0., 0., 1.]])"
      ]
     },
     "execution_count": 34,
     "metadata": {},
     "output_type": "execute_result"
    }
   ],
   "source": [
    "np.eye(3) # 3X3 array all diagonal elements 1 rest are 0 "
   ]
  },
  {
   "cell_type": "code",
   "execution_count": 36,
   "id": "9e48c689-88cc-4c11-a830-0ccfc34b25d3",
   "metadata": {},
   "outputs": [
    {
     "data": {
      "text/plain": [
       "array([[1, 0, 0],\n",
       "       [0, 1, 0],\n",
       "       [0, 0, 1]])"
      ]
     },
     "execution_count": 36,
     "metadata": {},
     "output_type": "execute_result"
    }
   ],
   "source": [
    "np.eye(3,dtype=int)"
   ]
  },
  {
   "cell_type": "code",
   "execution_count": 42,
   "id": "863eb359-ebb0-4aee-9534-a0e3f57d2778",
   "metadata": {},
   "outputs": [],
   "source": [
    "arr=np.empty((3,4)) # random elements"
   ]
  },
  {
   "cell_type": "code",
   "execution_count": 44,
   "id": "6ac0de83-f606-4dda-970f-68bc32fc5a50",
   "metadata": {},
   "outputs": [
    {
     "data": {
      "text/plain": [
       "4"
      ]
     },
     "execution_count": 44,
     "metadata": {},
     "output_type": "execute_result"
    }
   ],
   "source": [
    "import random\n",
    "random.choice((1,2,3,4))\n",
    "random.randrange(1,10)"
   ]
  },
  {
   "cell_type": "code",
   "execution_count": 46,
   "id": "ed5600dd-8ee4-440c-8e70-576ae6625abf",
   "metadata": {},
   "outputs": [
    {
     "data": {
      "text/plain": [
       "0.4146853530943767"
      ]
     },
     "execution_count": 46,
     "metadata": {},
     "output_type": "execute_result"
    }
   ],
   "source": [
    "random.random() # random included 0 to 1 1 is not included 0 is included"
   ]
  },
  {
   "cell_type": "code",
   "execution_count": 48,
   "id": "9418e417-9d30-4107-9cb2-96134a2f9603",
   "metadata": {},
   "outputs": [],
   "source": [
    "l=[1,2,3,4,5]\n",
    "random.shuffle(l)"
   ]
  },
  {
   "cell_type": "code",
   "execution_count": 50,
   "id": "3a57bd96-e8f9-4921-8988-2f9b1efa2178",
   "metadata": {},
   "outputs": [
    {
     "data": {
      "text/plain": [
       "[4, 3, 5, 2, 1]"
      ]
     },
     "execution_count": 50,
     "metadata": {},
     "output_type": "execute_result"
    }
   ],
   "source": [
    "l"
   ]
  },
  {
   "cell_type": "code",
   "execution_count": 52,
   "id": "e21daa0e-7a71-40dd-9080-1b7464c565ff",
   "metadata": {},
   "outputs": [
    {
     "data": {
      "text/plain": [
       "11.780990570549914"
      ]
     },
     "execution_count": 52,
     "metadata": {},
     "output_type": "execute_result"
    }
   ],
   "source": [
    "random.uniform(7,14) # gives uniform distribution"
   ]
  },
  {
   "cell_type": "code",
   "execution_count": 54,
   "id": "db4637dc-a36f-4a61-8b4d-80d463723e1f",
   "metadata": {},
   "outputs": [
    {
     "data": {
      "text/plain": [
       "array([0.13561066, 0.26230659, 0.38398603, 0.80932223, 0.10783891])"
      ]
     },
     "execution_count": 54,
     "metadata": {},
     "output_type": "execute_result"
    }
   ],
   "source": [
    "# random in mumpy \n",
    "np.array([])\n",
    "np.random.random_sample((5)) # array of 5 random numbers"
   ]
  },
  {
   "cell_type": "code",
   "execution_count": 58,
   "id": "b7989126-6de2-42a1-a886-999096ee4c32",
   "metadata": {},
   "outputs": [
    {
     "data": {
      "text/plain": [
       "array([0.79393938, 0.22300284, 0.96866037])"
      ]
     },
     "execution_count": 58,
     "metadata": {},
     "output_type": "execute_result"
    }
   ],
   "source": [
    "np.random.rand(3) # 1 d array "
   ]
  },
  {
   "cell_type": "code",
   "execution_count": 60,
   "id": "7d23c505-e432-4bad-85f7-31950e4faaf2",
   "metadata": {},
   "outputs": [
    {
     "data": {
      "text/plain": [
       "array([-1.09860767,  0.56605755,  1.27529249, -2.09659465])"
      ]
     },
     "execution_count": 60,
     "metadata": {},
     "output_type": "execute_result"
    }
   ],
   "source": [
    "np.random.randn(4)"
   ]
  },
  {
   "cell_type": "code",
   "execution_count": 64,
   "id": "ca532db1-edcf-447c-b9b2-d3d86ddddd38",
   "metadata": {},
   "outputs": [
    {
     "data": {
      "text/plain": [
       "array([[3, 4, 3, 1],\n",
       "       [2, 3, 2, 3],\n",
       "       [4, 3, 3, 1]])"
      ]
     },
     "execution_count": 64,
     "metadata": {},
     "output_type": "execute_result"
    }
   ],
   "source": [
    "arr=np.random.randint(1,5,size=(3,4)) # 5 is excluded"
   ]
  },
  {
   "cell_type": "code",
   "execution_count": 70,
   "id": "09d6362a-3965-460d-ab89-18277ee018e1",
   "metadata": {},
   "outputs": [
    {
     "data": {
      "text/plain": [
       "12"
      ]
     },
     "execution_count": 70,
     "metadata": {},
     "output_type": "execute_result"
    }
   ],
   "source": [
    "arr.ndim\n",
    "arr.size"
   ]
  },
  {
   "cell_type": "code",
   "execution_count": null,
   "id": "c3b9a3c9-cc81-4d41-bbcd-00d0e8841fdb",
   "metadata": {},
   "outputs": [],
   "source": []
  }
 ],
 "metadata": {
  "kernelspec": {
   "display_name": "Python 3 (ipykernel)",
   "language": "python",
   "name": "python3"
  },
  "language_info": {
   "codemirror_mode": {
    "name": "ipython",
    "version": 3
   },
   "file_extension": ".py",
   "mimetype": "text/x-python",
   "name": "python",
   "nbconvert_exporter": "python",
   "pygments_lexer": "ipython3",
   "version": "3.12.7"
  }
 },
 "nbformat": 4,
 "nbformat_minor": 5
}
