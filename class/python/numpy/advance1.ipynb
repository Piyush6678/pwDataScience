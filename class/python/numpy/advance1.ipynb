{
 "cells": [
  {
   "cell_type": "code",
   "execution_count": 2,
   "id": "f9e63646-90e9-4c91-9e35-8dbf19d5ddba",
   "metadata": {},
   "outputs": [
    {
     "data": {
      "text/plain": [
       "array([[0., 0., 0., 0.],\n",
       "       [0., 0., 0., 0.],\n",
       "       [0., 0., 0., 0.]])"
      ]
     },
     "execution_count": 2,
     "metadata": {},
     "output_type": "execute_result"
    }
   ],
   "source": [
    "import numpy as np \n",
    "np.zeros(5) # 1d array of size 5 with zero default float  \n",
    "np.zeros(5,dtype=int) # 1d array of size 5 with zero \n",
    "np.zeros((3,4)) # 1d array of size 5 with zero "
   ]
  },
  {
   "cell_type": "code",
   "execution_count": 6,
   "id": "c6e76daa-4bab-49d6-9c2b-8b9e9fe013ac",
   "metadata": {},
   "outputs": [
    {
     "data": {
      "text/plain": [
       "array([1, 1, 1, 1])"
      ]
     },
     "execution_count": 6,
     "metadata": {},
     "output_type": "execute_result"
    }
   ],
   "source": [
    "np.ones(4,dtype=int)"
   ]
  },
  {
   "cell_type": "code",
   "execution_count": 16,
   "id": "a6017440-5c29-46cf-b033-ffdbbeced110",
   "metadata": {},
   "outputs": [],
   "source": [
    "# 3d array\n",
    "brr=np.zeros((3,4,5))\n"
   ]
  },
  {
   "cell_type": "code",
   "execution_count": 18,
   "id": "a89afa72-85c3-4fb9-83db-bc5be921772d",
   "metadata": {},
   "outputs": [
    {
     "data": {
      "text/plain": [
       "array([[[5., 5., 5., 5., 5.],\n",
       "        [5., 5., 5., 5., 5.],\n",
       "        [5., 5., 5., 5., 5.],\n",
       "        [5., 5., 5., 5., 5.]],\n",
       "\n",
       "       [[5., 5., 5., 5., 5.],\n",
       "        [5., 5., 5., 5., 5.],\n",
       "        [5., 5., 5., 5., 5.],\n",
       "        [5., 5., 5., 5., 5.]],\n",
       "\n",
       "       [[5., 5., 5., 5., 5.],\n",
       "        [5., 5., 5., 5., 5.],\n",
       "        [5., 5., 5., 5., 5.],\n",
       "        [5., 5., 5., 5., 5.]]])"
      ]
     },
     "execution_count": 18,
     "metadata": {},
     "output_type": "execute_result"
    }
   ],
   "source": [
    "brr+5# add 5 to "
   ]
  },
  {
   "cell_type": "code",
   "execution_count": null,
   "id": "fd17303a-55e2-4b33-a571-e1a971721966",
   "metadata": {},
   "outputs": [],
   "source": []
  }
 ],
 "metadata": {
  "kernelspec": {
   "display_name": "Python 3 (ipykernel)",
   "language": "python",
   "name": "python3"
  },
  "language_info": {
   "codemirror_mode": {
    "name": "ipython",
    "version": 3
   },
   "file_extension": ".py",
   "mimetype": "text/x-python",
   "name": "python",
   "nbconvert_exporter": "python",
   "pygments_lexer": "ipython3",
   "version": "3.12.7"
  }
 },
 "nbformat": 4,
 "nbformat_minor": 5
}
