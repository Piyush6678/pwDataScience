{
 "cells": [
  {
   "cell_type": "code",
   "execution_count": 2,
   "id": "f9e63646-90e9-4c91-9e35-8dbf19d5ddba",
   "metadata": {},
   "outputs": [
    {
     "data": {
      "text/plain": [
       "array([[0., 0., 0., 0.],\n",
       "       [0., 0., 0., 0.],\n",
       "       [0., 0., 0., 0.]])"
      ]
     },
     "execution_count": 2,
     "metadata": {},
     "output_type": "execute_result"
    }
   ],
   "source": [
    "import numpy as np \n",
    "np.zeros(5) # 1d array of size 5 with zero default float  \n",
    "np.zeros(5,dtype=int) # 1d array of size 5 with zero \n",
    "np.zeros((3,4)) # 1d array of size 5 with zero "
   ]
  },
  {
   "cell_type": "code",
   "execution_count": 6,
   "id": "c6e76daa-4bab-49d6-9c2b-8b9e9fe013ac",
   "metadata": {},
   "outputs": [
    {
     "data": {
      "text/plain": [
       "array([1, 1, 1, 1])"
      ]
     },
     "execution_count": 6,
     "metadata": {},
     "output_type": "execute_result"
    }
   ],
   "source": [
    "np.ones(4,dtype=int)"
   ]
  },
  {
   "cell_type": "code",
   "execution_count": 16,
   "id": "a6017440-5c29-46cf-b033-ffdbbeced110",
   "metadata": {},
   "outputs": [],
   "source": [
    "# 3d array\n",
    "brr=np.zeros((3,4,5))\n"
   ]
  },
  {
   "cell_type": "code",
   "execution_count": 20,
   "id": "a89afa72-85c3-4fb9-83db-bc5be921772d",
   "metadata": {},
   "outputs": [
    {
     "data": {
      "text/plain": [
       "array([[[5., 5., 5., 5., 5.],\n",
       "        [5., 5., 5., 5., 5.],\n",
       "        [5., 5., 5., 5., 5.],\n",
       "        [5., 5., 5., 5., 5.]],\n",
       "\n",
       "       [[5., 5., 5., 5., 5.],\n",
       "        [5., 5., 5., 5., 5.],\n",
       "        [5., 5., 5., 5., 5.],\n",
       "        [5., 5., 5., 5., 5.]],\n",
       "\n",
       "       [[5., 5., 5., 5., 5.],\n",
       "        [5., 5., 5., 5., 5.],\n",
       "        [5., 5., 5., 5., 5.],\n",
       "        [5., 5., 5., 5., 5.]]])"
      ]
     },
     "execution_count": 20,
     "metadata": {},
     "output_type": "execute_result"
    }
   ],
   "source": [
    "brr+5# add 5 to eachele  "
   ]
  },
  {
   "cell_type": "code",
   "execution_count": 24,
   "id": "fd17303a-55e2-4b33-a571-e1a971721966",
   "metadata": {},
   "outputs": [
    {
     "data": {
      "text/plain": [
       "array([[5., 5., 5., 5.],\n",
       "       [5., 5., 5., 5.],\n",
       "       [5., 5., 5., 5.]])"
      ]
     },
     "execution_count": 24,
     "metadata": {},
     "output_type": "execute_result"
    }
   ],
   "source": [
    "arr=np.zeros((3,4))+5\n",
    "arr"
   ]
  },
  {
   "cell_type": "code",
   "execution_count": 26,
   "id": "4f370175-a072-49bb-9b18-5bcc714eaba7",
   "metadata": {},
   "outputs": [
    {
     "data": {
      "text/plain": [
       "array([[10., 10., 10., 10.],\n",
       "       [10., 10., 10., 10.],\n",
       "       [10., 10., 10., 10.]])"
      ]
     },
     "execution_count": 26,
     "metadata": {},
     "output_type": "execute_result"
    }
   ],
   "source": [
    "arr*2 #multi[ly each ele by 2  "
   ]
  },
  {
   "cell_type": "code",
   "execution_count": 30,
   "id": "62405bbc-74ba-43b6-a27c-43995d0ed5bf",
   "metadata": {},
   "outputs": [
    {
     "data": {
      "text/plain": [
       "array([[3., 3., 3., 3.],\n",
       "       [3., 3., 3., 3.],\n",
       "       [3., 3., 3., 3.]])"
      ]
     },
     "execution_count": 30,
     "metadata": {},
     "output_type": "execute_result"
    }
   ],
   "source": [
    "arr -2 # subtract 2 from each element"
   ]
  },
  {
   "cell_type": "code",
   "execution_count": 32,
   "id": "aa5f7544-dd50-4c3c-8451-3baa7d8f4cac",
   "metadata": {},
   "outputs": [
    {
     "data": {
      "text/plain": [
       "array([[1., 1., 1., 1.],\n",
       "       [1., 1., 1., 1.],\n",
       "       [1., 1., 1., 1.]])"
      ]
     },
     "execution_count": 32,
     "metadata": {},
     "output_type": "execute_result"
    }
   ],
   "source": [
    "arr/5 #divide elements by 5 "
   ]
  },
  {
   "cell_type": "code",
   "execution_count": 34,
   "id": "b9ac4526-2cf5-4b72-8974-2d06abe6bd02",
   "metadata": {},
   "outputs": [
    {
     "data": {
      "text/plain": [
       "array([[1., 0., 0.],\n",
       "       [0., 1., 0.],\n",
       "       [0., 0., 1.]])"
      ]
     },
     "execution_count": 34,
     "metadata": {},
     "output_type": "execute_result"
    }
   ],
   "source": [
    "np.eye(3) # 3X3 array all diagonal elements 1 rest are 0 "
   ]
  },
  {
   "cell_type": "code",
   "execution_count": 36,
   "id": "9e48c689-88cc-4c11-a830-0ccfc34b25d3",
   "metadata": {},
   "outputs": [
    {
     "data": {
      "text/plain": [
       "array([[1, 0, 0],\n",
       "       [0, 1, 0],\n",
       "       [0, 0, 1]])"
      ]
     },
     "execution_count": 36,
     "metadata": {},
     "output_type": "execute_result"
    }
   ],
   "source": [
    "np.eye(3,dtype=int)"
   ]
  },
  {
   "cell_type": "code",
   "execution_count": 42,
   "id": "863eb359-ebb0-4aee-9534-a0e3f57d2778",
   "metadata": {},
   "outputs": [],
   "source": [
    "arr=np.empty((3,4)) # random elements"
   ]
  },
  {
   "cell_type": "code",
   "execution_count": 44,
   "id": "6ac0de83-f606-4dda-970f-68bc32fc5a50",
   "metadata": {},
   "outputs": [
    {
     "data": {
      "text/plain": [
       "4"
      ]
     },
     "execution_count": 44,
     "metadata": {},
     "output_type": "execute_result"
    }
   ],
   "source": [
    "import random\n",
    "random.choice((1,2,3,4))\n",
    "random.randrange(1,10)"
   ]
  },
  {
   "cell_type": "code",
   "execution_count": 46,
   "id": "ed5600dd-8ee4-440c-8e70-576ae6625abf",
   "metadata": {},
   "outputs": [
    {
     "data": {
      "text/plain": [
       "0.4146853530943767"
      ]
     },
     "execution_count": 46,
     "metadata": {},
     "output_type": "execute_result"
    }
   ],
   "source": [
    "random.random() # random included 0 to 1 1 is not included 0 is included"
   ]
  },
  {
   "cell_type": "code",
   "execution_count": 48,
   "id": "9418e417-9d30-4107-9cb2-96134a2f9603",
   "metadata": {},
   "outputs": [],
   "source": [
    "l=[1,2,3,4,5]\n",
    "random.shuffle(l)"
   ]
  },
  {
   "cell_type": "code",
   "execution_count": 50,
   "id": "3a57bd96-e8f9-4921-8988-2f9b1efa2178",
   "metadata": {},
   "outputs": [
    {
     "data": {
      "text/plain": [
       "[4, 3, 5, 2, 1]"
      ]
     },
     "execution_count": 50,
     "metadata": {},
     "output_type": "execute_result"
    }
   ],
   "source": [
    "l"
   ]
  },
  {
   "cell_type": "code",
   "execution_count": 52,
   "id": "e21daa0e-7a71-40dd-9080-1b7464c565ff",
   "metadata": {},
   "outputs": [
    {
     "data": {
      "text/plain": [
       "11.780990570549914"
      ]
     },
     "execution_count": 52,
     "metadata": {},
     "output_type": "execute_result"
    }
   ],
   "source": [
    "random.uniform(7,14) # gives uniform distribution"
   ]
  },
  {
   "cell_type": "code",
   "execution_count": 54,
   "id": "db4637dc-a36f-4a61-8b4d-80d463723e1f",
   "metadata": {},
   "outputs": [
    {
     "data": {
      "text/plain": [
       "array([0.13561066, 0.26230659, 0.38398603, 0.80932223, 0.10783891])"
      ]
     },
     "execution_count": 54,
     "metadata": {},
     "output_type": "execute_result"
    }
   ],
   "source": [
    "# random in mumpy \n",
    "np.array([])\n",
    "np.random.random_sample((5)) # array of 5 random numbers"
   ]
  },
  {
   "cell_type": "code",
   "execution_count": 58,
   "id": "b7989126-6de2-42a1-a886-999096ee4c32",
   "metadata": {},
   "outputs": [
    {
     "data": {
      "text/plain": [
       "array([0.79393938, 0.22300284, 0.96866037])"
      ]
     },
     "execution_count": 58,
     "metadata": {},
     "output_type": "execute_result"
    }
   ],
   "source": [
    "np.random.rand(3) # 1 d array "
   ]
  },
  {
   "cell_type": "code",
   "execution_count": 60,
   "id": "7d23c505-e432-4bad-85f7-31950e4faaf2",
   "metadata": {},
   "outputs": [
    {
     "data": {
      "text/plain": [
       "array([-1.09860767,  0.56605755,  1.27529249, -2.09659465])"
      ]
     },
     "execution_count": 60,
     "metadata": {},
     "output_type": "execute_result"
    }
   ],
   "source": [
    "np.random.randn(4)"
   ]
  },
  {
   "cell_type": "code",
   "execution_count": 86,
   "id": "ca532db1-edcf-447c-b9b2-d3d86ddddd38",
   "metadata": {},
   "outputs": [],
   "source": [
    "arr=np.random.randint(1,5,size=(3,4)) # 5 is excluded"
   ]
  },
  {
   "cell_type": "code",
   "execution_count": 88,
   "id": "09d6362a-3965-460d-ab89-18277ee018e1",
   "metadata": {},
   "outputs": [
    {
     "data": {
      "text/plain": [
       "array([[2, 1, 3, 4],\n",
       "       [4, 3, 2, 3],\n",
       "       [3, 1, 3, 2]])"
      ]
     },
     "execution_count": 88,
     "metadata": {},
     "output_type": "execute_result"
    }
   ],
   "source": [
    "arr.ndim\n",
    "arr.size\n",
    "arr"
   ]
  },
  {
   "cell_type": "code",
   "execution_count": 90,
   "id": "d8c224f8-b2d8-4acd-ad2f-6fff99321e9b",
   "metadata": {},
   "outputs": [
    {
     "data": {
      "text/plain": [
       "array([[2, 1, 3, 4, 4, 3],\n",
       "       [2, 3, 3, 1, 3, 2]])"
      ]
     },
     "execution_count": 90,
     "metadata": {},
     "output_type": "execute_result"
    }
   ],
   "source": [
    "# reshaping of array \n",
    "arr.reshape(2,6) # size must be same \n"
   ]
  },
  {
   "cell_type": "code",
   "execution_count": 92,
   "id": "a99af917-cc5c-458f-8520-f3218c3f2ad4",
   "metadata": {},
   "outputs": [
    {
     "data": {
      "text/plain": [
       "array([[2, 1, 3, 4],\n",
       "       [4, 3, 2, 3],\n",
       "       [3, 1, 3, 2]])"
      ]
     },
     "execution_count": 92,
     "metadata": {},
     "output_type": "execute_result"
    }
   ],
   "source": [
    "arr.reshape(4,-1) # use any negative value if no. col/row is not sure \n",
    "arr"
   ]
  },
  {
   "cell_type": "code",
   "execution_count": 94,
   "id": "1407e460-ee1e-40b8-8046-a7f2fe759322",
   "metadata": {},
   "outputs": [
    {
     "data": {
      "text/plain": [
       "array([[2, 1, 3, 4],\n",
       "       [4, 3, 2, 3],\n",
       "       [3, 1, 3, 2]])"
      ]
     },
     "execution_count": 94,
     "metadata": {},
     "output_type": "execute_result"
    }
   ],
   "source": [
    "arr.reshape(12,1).base # to see original array"
   ]
  },
  {
   "cell_type": "code",
   "execution_count": 96,
   "id": "802c6080-2860-41df-bec6-ec346e8b8065",
   "metadata": {},
   "outputs": [
    {
     "data": {
      "text/plain": [
       "array([[[2, 1, 3],\n",
       "        [4, 4, 3]],\n",
       "\n",
       "       [[2, 3, 3],\n",
       "        [1, 3, 2]]])"
      ]
     },
     "execution_count": 96,
     "metadata": {},
     "output_type": "execute_result"
    }
   ],
   "source": [
    "arr.reshape(2,2,3)"
   ]
  },
  {
   "cell_type": "code",
   "execution_count": 98,
   "id": "04c6f2bd-3216-4175-8901-c69a15ba7b34",
   "metadata": {},
   "outputs": [
    {
     "data": {
      "text/plain": [
       "array([[[[2, 1, 3],\n",
       "         [4, 4, 3]],\n",
       "\n",
       "        [[2, 3, 3],\n",
       "         [1, 3, 2]]]])"
      ]
     },
     "execution_count": 98,
     "metadata": {},
     "output_type": "execute_result"
    }
   ],
   "source": [
    "arr.reshape(1,2,2,3)"
   ]
  },
  {
   "cell_type": "code",
   "execution_count": 102,
   "id": "2df49d5b-e110-4423-a1b8-a9fbca307340",
   "metadata": {},
   "outputs": [],
   "source": [
    "# conditions on array\n",
    "arr=np.random.randint(1,10,size=(5,6))"
   ]
  },
  {
   "cell_type": "code",
   "execution_count": 104,
   "id": "7ea81d85-53cf-4912-9131-a1a0b1061b40",
   "metadata": {},
   "outputs": [
    {
     "data": {
      "text/plain": [
       "array([[False,  True,  True, False, False,  True],\n",
       "       [ True,  True,  True, False,  True, False],\n",
       "       [ True, False, False,  True,  True, False],\n",
       "       [ True,  True,  True,  True, False, False],\n",
       "       [ True, False,  True,  True, False,  True]])"
      ]
     },
     "execution_count": 104,
     "metadata": {},
     "output_type": "execute_result"
    }
   ],
   "source": [
    "arr>3 # true if elements if value is >3"
   ]
  },
  {
   "cell_type": "code",
   "execution_count": 106,
   "id": "35835455-ac45-433d-96e0-e8778e1cbc9e",
   "metadata": {},
   "outputs": [
    {
     "data": {
      "text/plain": [
       "array([8, 4, 8, 8, 5, 4, 9, 4, 6, 8, 4, 6, 8, 5, 9, 5, 7, 6])"
      ]
     },
     "execution_count": 106,
     "metadata": {},
     "output_type": "execute_result"
    }
   ],
   "source": [
    "arr[arr>3] # select all the elements of array where condition is true"
   ]
  },
  {
   "cell_type": "code",
   "execution_count": 108,
   "id": "507360d2-f22f-45c3-8296-a240405753fc",
   "metadata": {},
   "outputs": [
    {
     "data": {
      "text/plain": [
       "array([3, 8, 4, 3, 1, 8])"
      ]
     },
     "execution_count": 108,
     "metadata": {},
     "output_type": "execute_result"
    }
   ],
   "source": [
    "# to access elements \n",
    "arr[0]"
   ]
  },
  {
   "cell_type": "code",
   "execution_count": 110,
   "id": "1ca5070d-9a0b-4b7a-b91d-e7932673fd68",
   "metadata": {},
   "outputs": [
    {
     "data": {
      "text/plain": [
       "8"
      ]
     },
     "execution_count": 110,
     "metadata": {},
     "output_type": "execute_result"
    }
   ],
   "source": [
    "arr[0][1]"
   ]
  },
  {
   "cell_type": "code",
   "execution_count": 112,
   "id": "30285c48-9782-4e96-98e5-1086c9bf5bfb",
   "metadata": {},
   "outputs": [
    {
     "data": {
      "text/plain": [
       "array([[3, 8, 4, 3, 1, 8],\n",
       "       [8, 5, 4, 3, 9, 2],\n",
       "       [4, 1, 2, 6, 8, 3]])"
      ]
     },
     "execution_count": 112,
     "metadata": {},
     "output_type": "execute_result"
    }
   ],
   "source": [
    "arr[0:3]"
   ]
  },
  {
   "cell_type": "code",
   "execution_count": 114,
   "id": "524ad4f8-c9e5-4cbc-94db-783e9d3fe118",
   "metadata": {},
   "outputs": [
    {
     "data": {
      "text/plain": [
       "array([[8, 5, 4, 3, 9, 2]])"
      ]
     },
     "execution_count": 114,
     "metadata": {},
     "output_type": "execute_result"
    }
   ],
   "source": [
    "arr[1:2]"
   ]
  },
  {
   "cell_type": "code",
   "execution_count": 116,
   "id": "3b6574fc-b20b-47b6-b91f-c78133cad235",
   "metadata": {},
   "outputs": [
    {
     "data": {
      "text/plain": [
       "array([[3, 4],\n",
       "       [8, 4],\n",
       "       [4, 2]])"
      ]
     },
     "execution_count": 116,
     "metadata": {},
     "output_type": "execute_result"
    }
   ],
   "source": [
    "arr[0:3,[0,2]]"
   ]
  },
  {
   "cell_type": "code",
   "execution_count": 120,
   "id": "d5ff6bd3-0d9a-4d79-891e-fb1198bd7d78",
   "metadata": {},
   "outputs": [
    {
     "data": {
      "text/plain": [
       "array([[3, 8],\n",
       "       [8, 5],\n",
       "       [4, 1]])"
      ]
     },
     "execution_count": 120,
     "metadata": {},
     "output_type": "execute_result"
    }
   ],
   "source": [
    "# slicing array\n",
    "arr[0:3,0:2]"
   ]
  },
  {
   "cell_type": "code",
   "execution_count": 122,
   "id": "131bcd66-0a4e-455f-93b5-dd3894352ea2",
   "metadata": {},
   "outputs": [
    {
     "data": {
      "text/plain": [
       "array([[3, 8],\n",
       "       [8, 5],\n",
       "       [4, 1]])"
      ]
     },
     "execution_count": 122,
     "metadata": {},
     "output_type": "execute_result"
    }
   ],
   "source": [
    "arr1=arr[0:3,0:2]\n",
    "arr1"
   ]
  },
  {
   "cell_type": "code",
   "execution_count": 126,
   "id": "707f7155-c953-415b-af8c-949d4831c00b",
   "metadata": {},
   "outputs": [],
   "source": [
    "# mathematical operation on 2 array\n",
    "arr1=np.random.randint(1,10,(3,3))\n",
    "arr2=np.random.randint(1,10,(3,3))"
   ]
  },
  {
   "cell_type": "code",
   "execution_count": 128,
   "id": "00930f5c-92ec-4516-91a8-cd8414c979d5",
   "metadata": {},
   "outputs": [
    {
     "data": {
      "text/plain": [
       "array([[10,  8, 12],\n",
       "       [10, 13,  3],\n",
       "       [12,  9, 15]])"
      ]
     },
     "execution_count": 128,
     "metadata": {},
     "output_type": "execute_result"
    }
   ],
   "source": [
    "arr1+arr2 # index wise addition"
   ]
  },
  {
   "cell_type": "code",
   "execution_count": 130,
   "id": "35fb83b0-bc47-45de-9799-98193c94de9f",
   "metadata": {},
   "outputs": [
    {
     "data": {
      "text/plain": [
       "array([[16, 15, 36],\n",
       "       [16, 40,  2],\n",
       "       [35, 20, 56]])"
      ]
     },
     "execution_count": 130,
     "metadata": {},
     "output_type": "execute_result"
    }
   ],
   "source": [
    "arr1*arr2 # index wise multiplication not a matrix multiplication"
   ]
  },
  {
   "cell_type": "code",
   "execution_count": 136,
   "id": "9f0bbbee-de1f-452b-a8a7-d2d9e1155e69",
   "metadata": {},
   "outputs": [
    {
     "data": {
      "text/plain": [
       "array([[4.        , 1.66666667, 1.        ],\n",
       "       [4.        , 0.625     , 0.5       ],\n",
       "       [0.71428571, 1.25      , 0.875     ]])"
      ]
     },
     "execution_count": 136,
     "metadata": {},
     "output_type": "execute_result"
    }
   ],
   "source": [
    "arr1/arr2"
   ]
  },
  {
   "cell_type": "markdown",
   "id": "fa7525da-9cef-4c5b-bf8a-a7fca1a5dbbc",
   "metadata": {},
   "source": [
    "## "
   ]
  },
  {
   "cell_type": "code",
   "execution_count": 141,
   "id": "b69d549d-848c-4e7d-9694-6b94255bb72c",
   "metadata": {},
   "outputs": [
    {
     "data": {
      "text/plain": [
       "array([[ 6,  2,  0],\n",
       "       [ 6, -3, -1],\n",
       "       [-2,  1, -1]])"
      ]
     },
     "execution_count": 141,
     "metadata": {},
     "output_type": "execute_result"
    }
   ],
   "source": [
    "arr1 -arr2"
   ]
  },
  {
   "cell_type": "code",
   "execution_count": 143,
   "id": "98c6b73b-3da2-44bc-8522-8df3a16c8bd1",
   "metadata": {},
   "outputs": [
    {
     "name": "stderr",
     "output_type": "stream",
     "text": [
      "C:\\Users\\hp\\AppData\\Local\\Temp\\ipykernel_30360\\2734841744.py:1: RuntimeWarning: divide by zero encountered in divide\n",
      "  arr1/0 # gives oinfinity\n"
     ]
    },
    {
     "data": {
      "text/plain": [
       "array([[inf, inf, inf],\n",
       "       [inf, inf, inf],\n",
       "       [inf, inf, inf]])"
      ]
     },
     "execution_count": 143,
     "metadata": {},
     "output_type": "execute_result"
    }
   ],
   "source": [
    "arr1/0 # gives oinfinity with warning"
   ]
  },
  {
   "cell_type": "code",
   "execution_count": 147,
   "id": "b2281d3b-192d-4a57-8e6a-aaac65bf02c4",
   "metadata": {},
   "outputs": [
    {
     "data": {
      "text/plain": [
       "array([[ 68,  88, 106],\n",
       "       [ 33,  68,  66],\n",
       "       [ 69,  83,  96]])"
      ]
     },
     "execution_count": 147,
     "metadata": {},
     "output_type": "execute_result"
    }
   ],
   "source": [
    "# matrix multiplication\n",
    "arr1 @arr2\n",
    "# or\n",
    "np.dot(arr1,arr2)"
   ]
  },
  {
   "cell_type": "code",
   "execution_count": 149,
   "id": "c1f610a1-cb35-4af6-8a1b-9d3b902c19b2",
   "metadata": {},
   "outputs": [],
   "source": [
    "# broadcasting\n",
    "arr=np.zeros((3,4))"
   ]
  },
  {
   "cell_type": "code",
   "execution_count": null,
   "id": "cedd17a1-7db3-4053-b720-5df37637b124",
   "metadata": {},
   "outputs": [],
   "source": [
    "arr+5"
   ]
  }
 ],
 "metadata": {
  "kernelspec": {
   "display_name": "Python 3 (ipykernel)",
   "language": "python",
   "name": "python3"
  },
  "language_info": {
   "codemirror_mode": {
    "name": "ipython",
    "version": 3
   },
   "file_extension": ".py",
   "mimetype": "text/x-python",
   "name": "python",
   "nbconvert_exporter": "python",
   "pygments_lexer": "ipython3",
   "version": "3.12.7"
  }
 },
 "nbformat": 4,
 "nbformat_minor": 5
}
