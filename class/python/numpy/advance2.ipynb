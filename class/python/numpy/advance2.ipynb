{
 "cells": [
  {
   "cell_type": "code",
   "execution_count": 1,
   "id": "3e27b426-98b1-41cd-9cb0-0e8db702acd9",
   "metadata": {},
   "outputs": [],
   "source": [
    "import numpy as np"
   ]
  },
  {
   "cell_type": "code",
   "execution_count": 3,
   "id": "9226e6db-9c63-4781-9365-6bfc2fa2a27b",
   "metadata": {},
   "outputs": [],
   "source": [
    "arr1=np.random.randint(1,3,(3,3))\n",
    "arr2=np.random.randint(1,3,(3,3))"
   ]
  },
  {
   "cell_type": "code",
   "execution_count": 5,
   "id": "df7320c1-6d01-4911-b1bf-b195578c3c68",
   "metadata": {},
   "outputs": [
    {
     "data": {
      "text/plain": [
       "array([2, 2, 1, 2, 2, 1, 1, 1, 1])"
      ]
     },
     "execution_count": 5,
     "metadata": {},
     "output_type": "execute_result"
    }
   ],
   "source": [
    "arr1.flatten() # Return a copy of the array collapsed into one dimension.\n"
   ]
  },
  {
   "cell_type": "code",
   "execution_count": 7,
   "id": "a5a808aa-357f-4092-a9c1-3f43957ce022",
   "metadata": {},
   "outputs": [
    {
     "data": {
      "text/plain": [
       "array([[1, 2, 3, 4, 5]])"
      ]
     },
     "execution_count": 7,
     "metadata": {},
     "output_type": "execute_result"
    }
   ],
   "source": [
    "# expand dimension\n",
    "arr=np.array([1,2,3,4,5])\n",
    "np.expand_dims(arr,axis=0) # increase the deimension by 1 >> 0 means row wise 1 means col wise "
   ]
  },
  {
   "cell_type": "code",
   "execution_count": 9,
   "id": "d921bb97-abb0-4c22-84bc-a409cb2a401c",
   "metadata": {},
   "outputs": [
    {
     "data": {
      "text/plain": [
       "array([[1],\n",
       "       [2],\n",
       "       [3],\n",
       "       [4],\n",
       "       [5]])"
      ]
     },
     "execution_count": 9,
     "metadata": {},
     "output_type": "execute_result"
    }
   ],
   "source": [
    "np.expand_dims(arr,axis=1)"
   ]
  },
  {
   "cell_type": "code",
   "execution_count": 11,
   "id": "1ecf5ea4-5641-46e2-985b-0b60b9a7a5a3",
   "metadata": {},
   "outputs": [
    {
     "data": {
      "text/plain": [
       "array([[[0., 0., 0., 0.]],\n",
       "\n",
       "       [[0., 0., 0., 0.]],\n",
       "\n",
       "       [[0., 0., 0., 0.]]])"
      ]
     },
     "execution_count": 11,
     "metadata": {},
     "output_type": "execute_result"
    }
   ],
   "source": [
    "arr=np.zeros((3,4))\n",
    "np.expand_dims(arr,axis=0) \n",
    "np.expand_dims(arr,axis=1)"
   ]
  },
  {
   "cell_type": "code",
   "execution_count": 25,
   "id": "5f206628-2dfb-48fd-8b2f-60ee7d6f2914",
   "metadata": {},
   "outputs": [
    {
     "data": {
      "text/plain": [
       "array([[1],\n",
       "       [2],\n",
       "       [3]])"
      ]
     },
     "execution_count": 25,
     "metadata": {},
     "output_type": "execute_result"
    }
   ],
   "source": [
    "a=np.array([[1],[2],[3]])\n",
    "a"
   ]
  },
  {
   "cell_type": "code",
   "execution_count": 13,
   "id": "bfeecaf9-8014-4aa0-b854-4c08c00b704a",
   "metadata": {},
   "outputs": [
    {
     "data": {
      "text/plain": [
       "array([1, 2, 3])"
      ]
     },
     "execution_count": 13,
     "metadata": {},
     "output_type": "execute_result"
    }
   ],
   "source": [
    "\n",
    "np.squeeze(a)# remove 1 dimension"
   ]
  },
  {
   "cell_type": "code",
   "execution_count": 27,
   "id": "dee30684-7ffd-462a-9e15-d6ddc169e930",
   "metadata": {},
   "outputs": [
    {
     "data": {
      "text/plain": [
       "array([1, 1, 1, 1, 2, 2, 2, 2, 3, 3, 3, 3])"
      ]
     },
     "execution_count": 27,
     "metadata": {},
     "output_type": "execute_result"
    }
   ],
   "source": [
    "np.repeat(a,4)"
   ]
  },
  {
   "cell_type": "code",
   "execution_count": 31,
   "id": "a32e509e-db2d-4a7b-9829-cee57174febe",
   "metadata": {},
   "outputs": [
    {
     "data": {
      "text/plain": [
       "array([[1],\n",
       "       [1],\n",
       "       [1],\n",
       "       [1],\n",
       "       [2],\n",
       "       [2],\n",
       "       [2],\n",
       "       [2],\n",
       "       [3],\n",
       "       [3],\n",
       "       [3],\n",
       "       [3]])"
      ]
     },
     "execution_count": 31,
     "metadata": {},
     "output_type": "execute_result"
    }
   ],
   "source": [
    "np.repeat(a,4,axis=0)"
   ]
  },
  {
   "cell_type": "code",
   "execution_count": 33,
   "id": "477a5c67-7b8e-4ee4-a2e2-b76e2308fc60",
   "metadata": {},
   "outputs": [
    {
     "data": {
      "text/plain": [
       "array([[1, 1, 1, 1],\n",
       "       [2, 2, 2, 2],\n",
       "       [3, 3, 3, 3]])"
      ]
     },
     "execution_count": 33,
     "metadata": {},
     "output_type": "execute_result"
    }
   ],
   "source": [
    "np.repeat(a,4,axis=1)"
   ]
  },
  {
   "cell_type": "code",
   "execution_count": 37,
   "id": "b07455a9-bbfa-4a4a-ace5-a2eae05ca657",
   "metadata": {},
   "outputs": [
    {
     "data": {
      "text/plain": [
       "array([[2],\n",
       "       [3],\n",
       "       [1]])"
      ]
     },
     "execution_count": 37,
     "metadata": {},
     "output_type": "execute_result"
    }
   ],
   "source": [
    "np.roll(a,-1) # shift 1 place"
   ]
  },
  {
   "cell_type": "code",
   "execution_count": 39,
   "id": "2ed3036d-8ad3-4c68-94a7-ef48285fe49f",
   "metadata": {},
   "outputs": [
    {
     "data": {
      "text/plain": [
       "array([[3],\n",
       "       [1],\n",
       "       [2]])"
      ]
     },
     "execution_count": 39,
     "metadata": {},
     "output_type": "execute_result"
    }
   ],
   "source": [
    "np.roll(a,1) # shift 1 place"
   ]
  },
  {
   "cell_type": "code",
   "execution_count": 41,
   "id": "a154e058-492f-40e9-88c3-014570324692",
   "metadata": {},
   "outputs": [],
   "source": [
    "c=np.array([[1,2],[3,4],[5,6],[7,8]])"
   ]
  },
  {
   "cell_type": "code",
   "execution_count": 45,
   "id": "18e9b290-f990-4242-8fcd-c5b79628f51f",
   "metadata": {},
   "outputs": [
    {
     "data": {
      "text/plain": [
       "array([[7, 8],\n",
       "       [1, 2],\n",
       "       [3, 4],\n",
       "       [5, 6]])"
      ]
     },
     "execution_count": 45,
     "metadata": {},
     "output_type": "execute_result"
    }
   ],
   "source": [
    "np.roll(c,2)"
   ]
  },
  {
   "cell_type": "code",
   "execution_count": 51,
   "id": "4d1d25bf-25e4-4cd3-bb7e-9618cea24d72",
   "metadata": {},
   "outputs": [
    {
     "data": {
      "text/plain": [
       "array([[5, 6],\n",
       "       [7, 8],\n",
       "       [1, 2],\n",
       "       [3, 4]])"
      ]
     },
     "execution_count": 51,
     "metadata": {},
     "output_type": "execute_result"
    }
   ],
   "source": [
    "np.roll(c,2,axis=0)"
   ]
  },
  {
   "cell_type": "code",
   "execution_count": 53,
   "id": "090746d5-1665-471f-a457-ff097bcc3182",
   "metadata": {},
   "outputs": [
    {
     "data": {
      "text/plain": [
       "array([[-2, -2, -1],\n",
       "       [-2, -2, -1],\n",
       "       [-1, -1, -1]])"
      ]
     },
     "execution_count": 53,
     "metadata": {},
     "output_type": "execute_result"
    }
   ],
   "source": [
    "-arr1"
   ]
  },
  {
   "cell_type": "code",
   "execution_count": 55,
   "id": "27b05a8d-2c8b-436a-af07-86f72307de92",
   "metadata": {},
   "outputs": [],
   "source": [
    "# operation on numpy atrings array\n",
    "d=np.array([\"pw\",\"skills\"])"
   ]
  },
  {
   "cell_type": "code",
   "execution_count": 57,
   "id": "9a7bb7ed-b359-45aa-a06e-b58936bd046e",
   "metadata": {},
   "outputs": [
    {
     "data": {
      "text/plain": [
       "array(['PW', 'SKILLS'], dtype='<U6')"
      ]
     },
     "execution_count": 57,
     "metadata": {},
     "output_type": "execute_result"
    }
   ],
   "source": [
    "np.char.upper(d) "
   ]
  },
  {
   "cell_type": "code",
   "execution_count": 59,
   "id": "e19cc383-a898-4e72-bc58-6a1b8649ab63",
   "metadata": {},
   "outputs": [
    {
     "data": {
      "text/plain": [
       "array(['Pw', 'Skills'], dtype='<U6')"
      ]
     },
     "execution_count": 59,
     "metadata": {},
     "output_type": "execute_result"
    }
   ],
   "source": [
    "np.char.capitalize(d)"
   ]
  },
  {
   "cell_type": "code",
   "execution_count": 63,
   "id": "c9198803-5319-465d-805e-c20601cfef31",
   "metadata": {},
   "outputs": [
    {
     "data": {
      "text/plain": [
       "array([[0.90929743, 0.90929743, 0.84147098],\n",
       "       [0.90929743, 0.90929743, 0.84147098],\n",
       "       [0.84147098, 0.84147098, 0.84147098]])"
      ]
     },
     "execution_count": 63,
     "metadata": {},
     "output_type": "execute_result"
    }
   ],
   "source": [
    "np.sin(arr1)"
   ]
  },
  {
   "cell_type": "code",
   "execution_count": 67,
   "id": "349a99e0-b58b-48f8-abb8-c058d355ec0c",
   "metadata": {},
   "outputs": [
    {
     "data": {
      "text/plain": [
       "array([[-0.41614684, -0.41614684,  0.54030231],\n",
       "       [-0.41614684, -0.41614684,  0.54030231],\n",
       "       [ 0.54030231,  0.54030231,  0.54030231]])"
      ]
     },
     "execution_count": 67,
     "metadata": {},
     "output_type": "execute_result"
    }
   ],
   "source": [
    "np.cos(arr1)\n"
   ]
  },
  {
   "cell_type": "code",
   "execution_count": 77,
   "id": "a1053fc8-5605-410a-bfbe-37919bfbd483",
   "metadata": {},
   "outputs": [
    {
     "data": {
      "text/plain": [
       "array([[0.30103, 0.30103, 0.     ],\n",
       "       [0.30103, 0.30103, 0.     ],\n",
       "       [0.     , 0.     , 0.     ]])"
      ]
     },
     "execution_count": 77,
     "metadata": {},
     "output_type": "execute_result"
    }
   ],
   "source": [
    "np.log10(arr1)\n"
   ]
  },
  {
   "cell_type": "markdown",
   "id": "53a3cb32-5022-4a9c-821f-7a55245871f0",
   "metadata": {},
   "source": [
    "### "
   ]
  },
  {
   "cell_type": "code",
   "execution_count": 80,
   "id": "f89c6861-fdc1-45a4-b41b-9e8addd9daea",
   "metadata": {},
   "outputs": [
    {
     "data": {
      "text/plain": [
       "array([[8, 8, 1],\n",
       "       [8, 8, 1],\n",
       "       [1, 1, 1]], dtype=int32)"
      ]
     },
     "execution_count": 80,
     "metadata": {},
     "output_type": "execute_result"
    }
   ],
   "source": [
    "np.power(arr1,3)"
   ]
  },
  {
   "cell_type": "code",
   "execution_count": 84,
   "id": "c2f40656-7678-4e5e-a117-33ebea10448a",
   "metadata": {},
   "outputs": [
    {
     "data": {
      "text/plain": [
       "2"
      ]
     },
     "execution_count": 84,
     "metadata": {},
     "output_type": "execute_result"
    }
   ],
   "source": [
    "np.max(arr1)\n"
   ]
  },
  {
   "cell_type": "code",
   "execution_count": 86,
   "id": "3e4e5824-f734-4ad5-bca7-ff29dc6df6d1",
   "metadata": {},
   "outputs": [
    {
     "data": {
      "text/plain": [
       "array([[7.3890561 , 7.3890561 , 2.71828183],\n",
       "       [7.3890561 , 7.3890561 , 2.71828183],\n",
       "       [2.71828183, 2.71828183, 2.71828183]])"
      ]
     },
     "execution_count": 86,
     "metadata": {},
     "output_type": "execute_result"
    }
   ],
   "source": [
    "np.exp(arr1)"
   ]
  },
  {
   "cell_type": "code",
   "execution_count": 88,
   "id": "cc86b6d1-a675-4e8b-b898-162594a61d6b",
   "metadata": {},
   "outputs": [
    {
     "data": {
      "text/plain": [
       "1.4444444444444444"
      ]
     },
     "execution_count": 88,
     "metadata": {},
     "output_type": "execute_result"
    }
   ],
   "source": [
    "np.mean(arr1)"
   ]
  },
  {
   "cell_type": "code",
   "execution_count": 90,
   "id": "6dd2dc0d-c671-4bd3-8745-21661b9b28fd",
   "metadata": {},
   "outputs": [
    {
     "data": {
      "text/plain": [
       "0.4969039949999533"
      ]
     },
     "execution_count": 90,
     "metadata": {},
     "output_type": "execute_result"
    }
   ],
   "source": [
    "np.std(arr1)"
   ]
  },
  {
   "cell_type": "code",
   "execution_count": 92,
   "id": "cdd27449-6e3a-43ac-8232-bd0de44c8cba",
   "metadata": {},
   "outputs": [
    {
     "data": {
      "text/plain": [
       "0.2469135802469136"
      ]
     },
     "execution_count": 92,
     "metadata": {},
     "output_type": "execute_result"
    }
   ],
   "source": [
    "np.var(arr1)"
   ]
  },
  {
   "cell_type": "code",
   "execution_count": 96,
   "id": "f69388ae-7e18-4735-80c7-c25e276d990f",
   "metadata": {},
   "outputs": [
    {
     "data": {
      "text/plain": [
       "array([[ 1,  0, -1],\n",
       "       [ 1,  0,  0],\n",
       "       [-1,  0, -1]])"
      ]
     },
     "execution_count": 96,
     "metadata": {},
     "output_type": "execute_result"
    }
   ],
   "source": [
    "np.subtract(arr1,arr2)"
   ]
  },
  {
   "cell_type": "code",
   "execution_count": 98,
   "id": "b5aef966-c096-4c21-b179-c8230b294276",
   "metadata": {},
   "outputs": [
    {
     "data": {
      "text/plain": [
       "array([[2, 4, 2],\n",
       "       [2, 4, 1],\n",
       "       [2, 1, 2]])"
      ]
     },
     "execution_count": 98,
     "metadata": {},
     "output_type": "execute_result"
    }
   ],
   "source": [
    "np.multiply(arr1,arr2)"
   ]
  },
  {
   "cell_type": "code",
   "execution_count": 100,
   "id": "6ba8da78-b58d-4825-840a-24feab31c250",
   "metadata": {},
   "outputs": [
    {
     "data": {
      "text/plain": [
       "array([[0, 0, 1],\n",
       "       [0, 0, 0],\n",
       "       [1, 0, 1]])"
      ]
     },
     "execution_count": 100,
     "metadata": {},
     "output_type": "execute_result"
    }
   ],
   "source": [
    "np.mod(arr1,arr2)"
   ]
  },
  {
   "cell_type": "code",
   "execution_count": 102,
   "id": "db8258f7-d09e-43ac-81f0-7bb37a66af0e",
   "metadata": {},
   "outputs": [
    {
     "data": {
      "text/plain": [
       "array([[1.41421356, 1.41421356, 1.        ],\n",
       "       [1.41421356, 1.41421356, 1.        ],\n",
       "       [1.        , 1.        , 1.        ]])"
      ]
     },
     "execution_count": 102,
     "metadata": {},
     "output_type": "execute_result"
    }
   ],
   "source": [
    "np.sqrt(arr1)"
   ]
  },
  {
   "cell_type": "code",
   "execution_count": 104,
   "id": "daa217c6-b1e6-4f1c-8913-e6468d9f8782",
   "metadata": {},
   "outputs": [],
   "source": [
    "# sorting and swarching\n"
   ]
  },
  {
   "cell_type": "code",
   "execution_count": 106,
   "id": "5d70413b-92d6-4fe1-9615-bf4406f535bd",
   "metadata": {},
   "outputs": [
    {
     "data": {
      "text/plain": [
       "array([[1, 2, 2],\n",
       "       [1, 2, 2],\n",
       "       [1, 1, 1]])"
      ]
     },
     "execution_count": 106,
     "metadata": {},
     "output_type": "execute_result"
    }
   ],
   "source": [
    "np.sort(arr1)"
   ]
  },
  {
   "cell_type": "code",
   "execution_count": 112,
   "id": "ee5087d1-73da-42a4-a3ed-50b9bd08f986",
   "metadata": {},
   "outputs": [],
   "source": [
    "e=np.array([2,4,64,0,0,2345,645])"
   ]
  },
  {
   "cell_type": "code",
   "execution_count": 110,
   "id": "227a6f5d-38ac-4402-a1d3-f42f299df894",
   "metadata": {},
   "outputs": [
    {
     "data": {
      "text/plain": [
       "2"
      ]
     },
     "execution_count": 110,
     "metadata": {},
     "output_type": "execute_result"
    }
   ],
   "source": [
    "np.searchsorted(e,32) # give index "
   ]
  },
  {
   "cell_type": "code",
   "execution_count": 114,
   "id": "c7b77949-cfaf-472c-afe6-c45f720a65cb",
   "metadata": {},
   "outputs": [
    {
     "data": {
      "text/plain": [
       "5"
      ]
     },
     "execution_count": 114,
     "metadata": {},
     "output_type": "execute_result"
    }
   ],
   "source": [
    "np.count_nonzero(e)"
   ]
  },
  {
   "cell_type": "code",
   "execution_count": 116,
   "id": "d910011d-c9ef-4aa6-bbef-80a8afebe121",
   "metadata": {},
   "outputs": [
    {
     "data": {
      "text/plain": [
       "(array([0, 1, 2, 5, 6], dtype=int64),)"
      ]
     },
     "execution_count": 116,
     "metadata": {},
     "output_type": "execute_result"
    }
   ],
   "source": [
    "np.where(e>0)"
   ]
  },
  {
   "cell_type": "code",
   "execution_count": 118,
   "id": "ab0d07aa-b45f-4e77-8029-b1edbb536250",
   "metadata": {},
   "outputs": [
    {
     "data": {
      "text/plain": [
       "array([   2,    4,   64, 2345,  645])"
      ]
     },
     "execution_count": 118,
     "metadata": {},
     "output_type": "execute_result"
    }
   ],
   "source": [
    "np.extract(e>0,e)"
   ]
  },
  {
   "cell_type": "code",
   "execution_count": 120,
   "id": "6ad8fccc-71d8-415e-a94e-15d68081cc53",
   "metadata": {},
   "outputs": [
    {
     "data": {
      "text/plain": [
       "array([   33554432,    67108864,  1073741824,           0,           0,\n",
       "         688455680, -2063466496])"
      ]
     },
     "execution_count": 120,
     "metadata": {},
     "output_type": "execute_result"
    }
   ],
   "source": [
    "e.byteswap()"
   ]
  },
  {
   "cell_type": "code",
   "execution_count": 122,
   "id": "12f3f37c-3837-4ba7-8508-7d5b9c4df0b8",
   "metadata": {},
   "outputs": [],
   "source": [
    "import numpy.matlib as nm"
   ]
  },
  {
   "cell_type": "code",
   "execution_count": 124,
   "id": "101d3aeb-504c-4eab-88c7-197bb4aeb892",
   "metadata": {},
   "outputs": [
    {
     "data": {
      "text/plain": [
       "matrix([[0., 0., 0., 0., 0.]])"
      ]
     },
     "execution_count": 124,
     "metadata": {},
     "output_type": "execute_result"
    }
   ],
   "source": [
    "nm.zeros(5)"
   ]
  },
  {
   "cell_type": "code",
   "execution_count": 126,
   "id": "296e17b2-a021-4432-a222-cadba71c5652",
   "metadata": {},
   "outputs": [],
   "source": [
    "# numpy linear algebra\n"
   ]
  },
  {
   "cell_type": "code",
   "execution_count": 128,
   "id": "2ca489b3-0c43-40e1-8316-026ee2fc4e96",
   "metadata": {},
   "outputs": [
    {
     "data": {
      "text/plain": [
       "0.0"
      ]
     },
     "execution_count": 128,
     "metadata": {},
     "output_type": "execute_result"
    }
   ],
   "source": [
    "np.linalg.det(arr1)"
   ]
  },
  {
   "cell_type": "code",
   "execution_count": 130,
   "id": "5f59a79c-1987-4834-b1ba-193aeb72ab44",
   "metadata": {},
   "outputs": [],
   "source": [
    "# inverse "
   ]
  },
  {
   "cell_type": "code",
   "execution_count": 132,
   "id": "81d6a7b9-e9c2-410b-a77d-d92d0d12c4e8",
   "metadata": {},
   "outputs": [
    {
     "data": {
      "text/plain": [
       "array([[-1.        ,  0.66666667,  0.66666667],\n",
       "       [ 0.        ,  0.66666667, -0.33333333],\n",
       "       [ 1.        , -1.        ,  0.        ]])"
      ]
     },
     "execution_count": 132,
     "metadata": {},
     "output_type": "execute_result"
    }
   ],
   "source": [
    "np.linalg.inv(arr2)"
   ]
  },
  {
   "cell_type": "code",
   "execution_count": 136,
   "id": "6d209506-faac-4fcf-8920-8830f8367938",
   "metadata": {},
   "outputs": [],
   "source": [
    "# solving equation using numpy array\n",
    "a=np.array([[7,5.3,-3],[3,-5,2],[5,3,-7]])\n",
    "b=np.array([16,8,,3,2])"
   ]
  },
  {
   "cell_type": "code",
   "execution_count": null,
   "id": "e0456dbd-065d-4f62-8753-585b6e1ef14b",
   "metadata": {},
   "outputs": [],
   "source": []
  }
 ],
 "metadata": {
  "kernelspec": {
   "display_name": "Python 3 (ipykernel)",
   "language": "python",
   "name": "python3"
  },
  "language_info": {
   "codemirror_mode": {
    "name": "ipython",
    "version": 3
   },
   "file_extension": ".py",
   "mimetype": "text/x-python",
   "name": "python",
   "nbconvert_exporter": "python",
   "pygments_lexer": "ipython3",
   "version": "3.12.7"
  }
 },
 "nbformat": 4,
 "nbformat_minor": 5
}
