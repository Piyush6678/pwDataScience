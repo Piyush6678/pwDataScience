{
 "cells": [
  {
   "cell_type": "code",
   "execution_count": 2,
   "id": "c332761d-bbb7-4757-9da4-ce57e4311391",
   "metadata": {},
   "outputs": [],
   "source": [
    "# start logging and debugging\n",
    "# debugging>> it is the process to identify and fixing the bugs /issues in the code\n"
   ]
  },
  {
   "cell_type": "code",
   "execution_count": 3,
   "id": "83331513-9c90-44c0-9f0e-e6b8c2c0b0a1",
   "metadata": {},
   "outputs": [],
   "source": [
    "# example\n"
   ]
  },
  {
   "cell_type": "code",
   "execution_count": 4,
   "id": "d7584919-3571-415a-9609-a321450e327e",
   "metadata": {},
   "outputs": [
    {
     "ename": "ZeroDivisionError",
     "evalue": "division by zero",
     "output_type": "error",
     "traceback": [
      "\u001b[1;31m---------------------------------------------------------------------------\u001b[0m",
      "\u001b[1;31mZeroDivisionError\u001b[0m                         Traceback (most recent call last)",
      "Cell \u001b[1;32mIn[4], line 4\u001b[0m\n\u001b[0;32m      2\u001b[0m     \u001b[38;5;28;01mreturn\u001b[39;00m a\u001b[38;5;241m/\u001b[39mb\n\u001b[0;32m      3\u001b[0m \u001b[38;5;28;01mfor\u001b[39;00m i \u001b[38;5;129;01min\u001b[39;00m \u001b[38;5;28mrange\u001b[39m(\u001b[38;5;241m-\u001b[39m\u001b[38;5;241m10\u001b[39m,\u001b[38;5;241m10\u001b[39m):\n\u001b[1;32m----> 4\u001b[0m     divide(i,i\u001b[38;5;241m+\u001b[39m\u001b[38;5;241m1\u001b[39m)\n",
      "Cell \u001b[1;32mIn[4], line 2\u001b[0m, in \u001b[0;36mdivide\u001b[1;34m(a, b)\u001b[0m\n\u001b[0;32m      1\u001b[0m \u001b[38;5;28;01mdef\u001b[39;00m \u001b[38;5;21mdivide\u001b[39m(a,b):\n\u001b[1;32m----> 2\u001b[0m     \u001b[38;5;28;01mreturn\u001b[39;00m a\u001b[38;5;241m/\u001b[39mb\n",
      "\u001b[1;31mZeroDivisionError\u001b[0m: division by zero"
     ]
    }
   ],
   "source": [
    "def divide(a,b):\n",
    "    return a/b\n",
    "for i in range(-10,10):\n",
    "    divide(i,i+1)\n",
    "     # gives error \n",
    "# breaking the code 2 steps loop and divide function"
   ]
  },
  {
   "cell_type": "code",
   "execution_count": 5,
   "id": "90e17dd1-eed5-4083-af13-e92f0352dd69",
   "metadata": {},
   "outputs": [
    {
     "name": "stdout",
     "output_type": "stream",
     "text": [
      "-10 -9\n",
      "-9 -8\n",
      "-8 -7\n",
      "-7 -6\n",
      "-6 -5\n",
      "-5 -4\n",
      "-4 -3\n",
      "-3 -2\n",
      "-2 -1\n",
      "-1 0\n"
     ]
    },
    {
     "ename": "ZeroDivisionError",
     "evalue": "division by zero",
     "output_type": "error",
     "traceback": [
      "\u001b[1;31m---------------------------------------------------------------------------\u001b[0m",
      "\u001b[1;31mZeroDivisionError\u001b[0m                         Traceback (most recent call last)",
      "Cell \u001b[1;32mIn[5], line 6\u001b[0m\n\u001b[0;32m      4\u001b[0m \u001b[38;5;28;01mfor\u001b[39;00m i \u001b[38;5;129;01min\u001b[39;00m \u001b[38;5;28mrange\u001b[39m(\u001b[38;5;241m-\u001b[39m\u001b[38;5;241m10\u001b[39m,\u001b[38;5;241m10\u001b[39m):\n\u001b[0;32m      5\u001b[0m     \u001b[38;5;28mprint\u001b[39m(i,i\u001b[38;5;241m+\u001b[39m\u001b[38;5;241m1\u001b[39m)\n\u001b[1;32m----> 6\u001b[0m     divide(i,i\u001b[38;5;241m+\u001b[39m\u001b[38;5;241m1\u001b[39m)\n",
      "Cell \u001b[1;32mIn[5], line 3\u001b[0m, in \u001b[0;36mdivide\u001b[1;34m(a, b)\u001b[0m\n\u001b[0;32m      2\u001b[0m \u001b[38;5;28;01mdef\u001b[39;00m \u001b[38;5;21mdivide\u001b[39m(a,b):\n\u001b[1;32m----> 3\u001b[0m     \u001b[38;5;28;01mreturn\u001b[39;00m a\u001b[38;5;241m/\u001b[39mb\n",
      "\u001b[1;31mZeroDivisionError\u001b[0m: division by zero"
     ]
    }
   ],
   "source": [
    "# using print statement to debug\n",
    "def divide(a,b):\n",
    "    return a/b\n",
    "for i in range(-10,10):\n",
    "    print(i,i+1)\n",
    "    divide(i,i+1) \n",
    "# from print statement breaking at i=-1"
   ]
  },
  {
   "cell_type": "code",
   "execution_count": 7,
   "id": "68816709-d68c-4a4e-9ad8-3cc63a332500",
   "metadata": {},
   "outputs": [
    {
     "name": "stdout",
     "output_type": "stream",
     "text": [
      "-10 -9\n",
      "-10 -9\n",
      "-9 -8\n",
      "-9 -8\n",
      "-8 -7\n",
      "-8 -7\n",
      "-7 -6\n",
      "-7 -6\n",
      "-6 -5\n",
      "-6 -5\n",
      "-5 -4\n",
      "-5 -4\n",
      "-4 -3\n",
      "-4 -3\n",
      "-3 -2\n",
      "-3 -2\n",
      "-2 -1\n",
      "-2 -1\n",
      "-1 0\n",
      "-1 0\n"
     ]
    },
    {
     "ename": "ZeroDivisionError",
     "evalue": "division by zero",
     "output_type": "error",
     "traceback": [
      "\u001b[1;31m---------------------------------------------------------------------------\u001b[0m",
      "\u001b[1;31mZeroDivisionError\u001b[0m                         Traceback (most recent call last)",
      "Cell \u001b[1;32mIn[7], line 7\u001b[0m\n\u001b[0;32m      5\u001b[0m \u001b[38;5;28;01mfor\u001b[39;00m i \u001b[38;5;129;01min\u001b[39;00m \u001b[38;5;28mrange\u001b[39m(\u001b[38;5;241m-\u001b[39m\u001b[38;5;241m10\u001b[39m,\u001b[38;5;241m10\u001b[39m):\n\u001b[0;32m      6\u001b[0m     \u001b[38;5;28mprint\u001b[39m(i,i\u001b[38;5;241m+\u001b[39m\u001b[38;5;241m1\u001b[39m)\n\u001b[1;32m----> 7\u001b[0m     divide(i,i\u001b[38;5;241m+\u001b[39m\u001b[38;5;241m1\u001b[39m)\n",
      "Cell \u001b[1;32mIn[7], line 4\u001b[0m, in \u001b[0;36mdivide\u001b[1;34m(a, b)\u001b[0m\n\u001b[0;32m      2\u001b[0m \u001b[38;5;28;01mdef\u001b[39;00m \u001b[38;5;21mdivide\u001b[39m(a,b):\n\u001b[0;32m      3\u001b[0m     \u001b[38;5;28mprint\u001b[39m(a,b)\n\u001b[1;32m----> 4\u001b[0m     \u001b[38;5;28;01mreturn\u001b[39;00m a\u001b[38;5;241m/\u001b[39mb\n",
      "\u001b[1;31mZeroDivisionError\u001b[0m: division by zero"
     ]
    }
   ],
   "source": [
    "# using another print statement to debug\n",
    "def divide(a,b):\n",
    "    print(a,b)\n",
    "    return a/b\n",
    "for i in range(-10,10):\n",
    "    print(i,i+1)\n",
    "    divide(i,i+1) \n",
    "# from print statement value goes in divide b is 0 gives error "
   ]
  },
  {
   "cell_type": "code",
   "execution_count": 9,
   "id": "0c0d6a82-f38d-4b39-9f4e-b8496fe18943",
   "metadata": {},
   "outputs": [
    {
     "name": "stdout",
     "output_type": "stream",
     "text": [
      "1.1111111111111112\n",
      "1.125\n",
      "1.1428571428571428\n",
      "1.1666666666666667\n",
      "1.2\n",
      "1.25\n",
      "1.3333333333333333\n",
      "1.5\n",
      "2.0\n",
      "Zero division error\n",
      "0.0\n",
      "0.5\n",
      "0.6666666666666666\n",
      "0.75\n",
      "0.8\n",
      "0.8333333333333334\n",
      "0.8571428571428571\n",
      "0.875\n",
      "0.8888888888888888\n",
      "0.9\n"
     ]
    }
   ],
   "source": [
    "# breaking the code in terms of execution\n",
    "\n",
    "def divide(a,b):\n",
    "    if(b==0):\n",
    "        return  (\"Zero division error\")\n",
    "    else: \n",
    "        return a/b\n",
    "for i in range(-10,10):\n",
    "  \n",
    "    print(divide(i,i+1)) \n"
   ]
  },
  {
   "cell_type": "code",
   "execution_count": 11,
   "id": "991c116d-a0f6-453c-b116-e6e3a140e41a",
   "metadata": {},
   "outputs": [],
   "source": [
    "# print stement is not a good practice \n",
    "# good for only simple code nut not for complex \n",
    "# use logging instead of printing \n",
    "# logging it records the state and flow of your program\n"
   ]
  },
  {
   "cell_type": "code",
   "execution_count": 13,
   "id": "27e20507-6901-40ac-b70e-90d83b712b7a",
   "metadata": {},
   "outputs": [],
   "source": [
    "# step 1 remove some elements 3 step 2 >> capitalise\n",
    "# step 2 capitalise\n",
    "# step 3 remove metropolitan cities\n",
    "# step 4 lower case\n",
    "# if list is empty after step 4   throw error\n",
    "#>> logging supports different levels of logging"
   ]
  },
  {
   "cell_type": "code",
   "execution_count": 15,
   "id": "6bbe7f1c-7cc1-4333-ac76-4c1c0218b9ab",
   "metadata": {},
   "outputs": [],
   "source": [
    "import logging"
   ]
  },
  {
   "cell_type": "code",
   "execution_count": 17,
   "id": "ee35ad7d-21f6-402b-b44f-7521e3c5f7ba",
   "metadata": {},
   "outputs": [],
   "source": [
    "logging.basicConfig(filename=\"test.log\",level=logging.INFO)"
   ]
  },
  {
   "cell_type": "code",
   "execution_count": 19,
   "id": "404b7ccc-b4ea-463f-82d1-f7bb6403a2bc",
   "metadata": {},
   "outputs": [],
   "source": [
    "logging.info(\"this is my normal information\")\n",
    "logging.warning(\"there can be empty list here\")\n",
    "logging.debug(\"this is not in test.log less than info   \")\n",
    "logging.error(\"soem error has happend\")\n",
    "logging.critical(\"software ha stoped\")\n"
   ]
  },
  {
   "cell_type": "markdown",
   "id": "9c13cdf0-73c5-49fe-ad27-0306547c1c5d",
   "metadata": {},
   "source": [
    "1 DEBUG > lowest level of logging to give detailed information of any variable\n",
    "2 INFO this is used to convey that the code is working fine  \n",
    "example data analytics is complete\n",
    "3 warning : used to indicate something unexpected happen \n",
    "4 error serious problem with some funtion \n",
    "5 critical Termination of program\n",
    "\n",
    "the above level of logging is executed  in same order >> debug is lowest and critical is highest priority"
   ]
  },
  {
   "cell_type": "code",
   "execution_count": 35,
   "id": "bf318b8f-59ab-4295-8c51-366092724d07",
   "metadata": {},
   "outputs": [],
   "source": [
    "import logging\n",
    "logging.basicConfig(filename=\"test3.log\",level=logging.DEBUG,format='%(asctime)s % (levelname)s %(message)s')"
   ]
  },
  {
   "cell_type": "code",
   "execution_count": 38,
   "id": "26e69cfc-ed1a-449b-9f13-ba9c3826b008",
   "metadata": {},
   "outputs": [],
   "source": [
    "logging.debug(\"test debug\")"
   ]
  },
  {
   "cell_type": "code",
   "execution_count": null,
   "id": "d2cdce99-bedc-400f-8518-73f125a4bef5",
   "metadata": {},
   "outputs": [],
   "source": []
  }
 ],
 "metadata": {
  "kernelspec": {
   "display_name": "Python 3 (ipykernel)",
   "language": "python",
   "name": "python3"
  },
  "language_info": {
   "codemirror_mode": {
    "name": "ipython",
    "version": 3
   },
   "file_extension": ".py",
   "mimetype": "text/x-python",
   "name": "python",
   "nbconvert_exporter": "python",
   "pygments_lexer": "ipython3",
   "version": "3.12.7"
  }
 },
 "nbformat": 4,
 "nbformat_minor": 5
}
