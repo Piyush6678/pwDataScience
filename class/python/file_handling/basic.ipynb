{
 "cells": [
  {
   "cell_type": "code",
   "execution_count": null,
   "id": "f9ac3759-15b5-4ac0-9026-8f5703d02cd9",
   "metadata": {},
   "outputs": [],
   "source": [
    "# mode\n",
    "# r -read \n",
    "# w-write \n",
    "# a append#r+w -read and write"
   ]
  },
  {
   "cell_type": "code",
   "execution_count": 5,
   "id": "3e9a1dc4-cfa7-4c0d-8258-7648a9323787",
   "metadata": {},
   "outputs": [],
   "source": [
    "#open(\"file.txt\",\"r\") # if there is no file and you open in read mode it will give you error\n",
    "file=open(\"file.txt\",\"w\")# if file is not there it will create and open it"
   ]
  },
  {
   "cell_type": "code",
   "execution_count": 7,
   "id": "d5695fcc-d18d-43ac-93c3-68bad79d2439",
   "metadata": {},
   "outputs": [
    {
     "data": {
      "text/plain": [
       "39"
      ]
     },
     "execution_count": 7,
     "metadata": {},
     "output_type": "execute_result"
    }
   ],
   "source": [
    "file.write(\"Hello this is my first line in file.txt\") # 39 no of bytes"
   ]
  },
  {
   "cell_type": "code",
   "execution_count": 9,
   "id": "e43b56ff-64ac-4567-bbcb-ee28d566f76f",
   "metadata": {},
   "outputs": [],
   "source": [
    "# as of now you open the file you will not able to see any text\n",
    "# you have to close the file \n",
    "file.close()"
   ]
  },
  {
   "cell_type": "code",
   "execution_count": 12,
   "id": "876d9d26-0f6a-4110-a214-74e432eb4bb3",
   "metadata": {},
   "outputs": [
    {
     "data": {
      "text/plain": [
       "<_io.TextIOWrapper name='file.txt' mode='w' encoding='cp1252'>"
      ]
     },
     "execution_count": 12,
     "metadata": {},
     "output_type": "execute_result"
    }
   ],
   "source": [
    "file"
   ]
  },
  {
   "cell_type": "code",
   "execution_count": null,
   "id": "7d25161d-9aa2-4959-a68e-2de90c15196f",
   "metadata": {},
   "outputs": [],
   "source": []
  }
 ],
 "metadata": {
  "kernelspec": {
   "display_name": "Python 3 (ipykernel)",
   "language": "python",
   "name": "python3"
  },
  "language_info": {
   "codemirror_mode": {
    "name": "ipython",
    "version": 3
   },
   "file_extension": ".py",
   "mimetype": "text/x-python",
   "name": "python",
   "nbconvert_exporter": "python",
   "pygments_lexer": "ipython3",
   "version": "3.12.7"
  }
 },
 "nbformat": 4,
 "nbformat_minor": 5
}
