{
 "cells": [
  {
   "cell_type": "code",
   "execution_count": null,
   "id": "f9ac3759-15b5-4ac0-9026-8f5703d02cd9",
   "metadata": {},
   "outputs": [],
   "source": [
    "# mode\n",
    "# r -read \n",
    "# w-write \n",
    "# a append#r+w -read and write"
   ]
  },
  {
   "cell_type": "code",
   "execution_count": 5,
   "id": "3e9a1dc4-cfa7-4c0d-8258-7648a9323787",
   "metadata": {},
   "outputs": [],
   "source": [
    "#open(\"file.txt\",\"r\") # if there is no file and you open in read mode it will give you error\n",
    "file=open(\"file.txt\",\"w\")# if file is not there it will create and open it"
   ]
  },
  {
   "cell_type": "code",
   "execution_count": null,
   "id": "d5695fcc-d18d-43ac-93c3-68bad79d2439",
   "metadata": {},
   "outputs": [],
   "source": [
    "file.write(\""
   ]
  }
 ],
 "metadata": {
  "kernelspec": {
   "display_name": "Python 3 (ipykernel)",
   "language": "python",
   "name": "python3"
  },
  "language_info": {
   "codemirror_mode": {
    "name": "ipython",
    "version": 3
   },
   "file_extension": ".py",
   "mimetype": "text/x-python",
   "name": "python",
   "nbconvert_exporter": "python",
   "pygments_lexer": "ipython3",
   "version": "3.12.7"
  }
 },
 "nbformat": 4,
 "nbformat_minor": 5
}
