{
 "cells": [
  {
   "cell_type": "code",
   "execution_count": null,
   "id": "f9ac3759-15b5-4ac0-9026-8f5703d02cd9",
   "metadata": {},
   "outputs": [],
   "source": [
    "# mode\n",
    "# r -read \n",
    "# w-write \n",
    "# a append#r+w -read and write"
   ]
  },
  {
   "cell_type": "code",
   "execution_count": 5,
   "id": "3e9a1dc4-cfa7-4c0d-8258-7648a9323787",
   "metadata": {},
   "outputs": [],
   "source": [
    "#open(\"file.txt\",\"r\") # if there is no file and you open in read mode it will give you error\n",
    "file=open(\"file.txt\",\"w\")# if file is not there it will create and open it"
   ]
  },
  {
   "cell_type": "code",
   "execution_count": 7,
   "id": "d5695fcc-d18d-43ac-93c3-68bad79d2439",
   "metadata": {},
   "outputs": [
    {
     "data": {
      "text/plain": [
       "39"
      ]
     },
     "execution_count": 7,
     "metadata": {},
     "output_type": "execute_result"
    }
   ],
   "source": [
    "file.write(\"Hello this is my first line in file.txt\") # 39 no of bytes"
   ]
  },
  {
   "cell_type": "code",
   "execution_count": 9,
   "id": "e43b56ff-64ac-4567-bbcb-ee28d566f76f",
   "metadata": {},
   "outputs": [],
   "source": [
    "# as of now you open the file you will not able to see any text\n",
    "# you have to close the file \n",
    "file.close()"
   ]
  },
  {
   "cell_type": "code",
   "execution_count": 14,
   "id": "876d9d26-0f6a-4110-a214-74e432eb4bb3",
   "metadata": {},
   "outputs": [
    {
     "data": {
      "text/plain": [
       "True"
      ]
     },
     "execution_count": 14,
     "metadata": {},
     "output_type": "execute_result"
    }
   ],
   "source": [
    "file # file attributes \n",
    "file.closed # true"
   ]
  },
  {
   "cell_type": "code",
   "execution_count": 16,
   "id": "7d25161d-9aa2-4959-a68e-2de90c15196f",
   "metadata": {},
   "outputs": [
    {
     "data": {
      "text/plain": [
       "'file.txt'"
      ]
     },
     "execution_count": 16,
     "metadata": {},
     "output_type": "execute_result"
    }
   ],
   "source": [
    "file.name"
   ]
  },
  {
   "cell_type": "code",
   "execution_count": 18,
   "id": "1726144b-e25c-47e0-9495-75db36718105",
   "metadata": {},
   "outputs": [
    {
     "data": {
      "text/plain": [
       "'w'"
      ]
     },
     "execution_count": 18,
     "metadata": {},
     "output_type": "execute_result"
    }
   ],
   "source": [
    "file.mode"
   ]
  },
  {
   "cell_type": "code",
   "execution_count": 29,
   "id": "ca5b91d9-30ad-4861-8b9d-3e5ec1134537",
   "metadata": {},
   "outputs": [],
   "source": [
    "#file.write(\"seconde write \") # you cannot write in a closed file \n",
    "# file= open(\"file.txt\",\"w\") # it will truncate all earlier content \n",
    "\n",
    "file = open(\"file.txt\",\"a\")\n",
    "file.write(\"new line\") \n",
    "file.close()"
   ]
  },
  {
   "cell_type": "code",
   "execution_count": 34,
   "id": "137d7b79-09cd-4528-bb1f-71e25dd83267",
   "metadata": {},
   "outputs": [],
   "source": [
    "file= open(\"file.txt\",\"r\")"
   ]
  },
  {
   "cell_type": "code",
   "execution_count": 36,
   "id": "069e1d94-b4d8-4691-8a20-b103060674d1",
   "metadata": {},
   "outputs": [
    {
     "name": "stdout",
     "output_type": "stream",
     "text": [
      "Hello this is my first line in file.txt\n",
      "\n",
      "new line\n",
      "\n",
      "new line\n",
      "\n",
      "new linenew line\n"
     ]
    }
   ],
   "source": [
    "for i in file :\n",
    "    print(i)"
   ]
  },
  {
   "cell_type": "code",
   "execution_count": 42,
   "id": "2218c05b-2e17-41cb-b811-5a2481751ee0",
   "metadata": {},
   "outputs": [
    {
     "name": "stdout",
     "output_type": "stream",
     "text": [
      "\n"
     ]
    },
    {
     "data": {
      "text/plain": [
       "77"
      ]
     },
     "execution_count": 42,
     "metadata": {},
     "output_type": "execute_result"
    }
   ],
   "source": [
    "print(file.read()) # here the cursor / pointer is at lastposition\n",
    "file.tell()"
   ]
  },
  {
   "cell_type": "code",
   "execution_count": 46,
   "id": "d62b49c6-ff46-40b9-8157-a116e11997e5",
   "metadata": {},
   "outputs": [
    {
     "data": {
      "text/plain": [
       "0"
      ]
     },
     "execution_count": 46,
     "metadata": {},
     "output_type": "execute_result"
    }
   ],
   "source": [
    "file.seek(0)"
   ]
  },
  {
   "cell_type": "code",
   "execution_count": 48,
   "id": "e5526929-53b5-4af8-9b39-3f5e8c55ca0e",
   "metadata": {},
   "outputs": [
    {
     "name": "stdout",
     "output_type": "stream",
     "text": [
      "Hello this is my first line in file.txt\n",
      "new line\n",
      "\n"
     ]
    }
   ],
   "source": [
    "print(file.read()) #Hello this is my first line in file.txt new line"
   ]
  },
  {
   "cell_type": "code",
   "execution_count": 56,
   "id": "488323e0-7131-4a6c-b8dc-e68df65b0515",
   "metadata": {},
   "outputs": [
    {
     "name": "stdout",
     "output_type": "stream",
     "text": [
      "['Hello this is my first line in file.txt\\n', 'new line\\n']\n"
     ]
    },
    {
     "data": {
      "text/plain": [
       "0"
      ]
     },
     "execution_count": 56,
     "metadata": {},
     "output_type": "execute_result"
    }
   ],
   "source": [
    "file=open(\"file.txt\",\"r\")\n",
    "print(file.readline())\n",
    "print(file.readlines()) # all lines comes in a list \n",
    "file.seek(0)\n"
   ]
  },
  {
   "cell_type": "code",
   "execution_count": null,
   "id": "3154f71e-59ed-432e-9b0d-5ecca0181779",
   "metadata": {},
   "outputs": [],
   "source": [
    "!pwd # gives presend working directory"
   ]
  },
  {
   "cell_type": "code",
   "execution_count": 58,
   "id": "fa17ead1-a40c-4e91-9753-a1d98ee9c286",
   "metadata": {},
   "outputs": [],
   "source": [
    "import os\n"
   ]
  },
  {
   "cell_type": "code",
   "execution_count": 62,
   "id": "9a35a425-36f4-4b90-a2d3-0f1ed65340e7",
   "metadata": {},
   "outputs": [
    {
     "data": {
      "text/plain": [
       "'D:\\\\desktop\\\\after git\\\\pw-DataScience\\\\class\\\\python\\\\file_handling'"
      ]
     },
     "execution_count": 62,
     "metadata": {},
     "output_type": "execute_result"
    }
   ],
   "source": [
    "os.getcwd()"
   ]
  },
  {
   "cell_type": "code",
   "execution_count": 64,
   "id": "5cd73090-ae6e-49b7-bd4f-011efb2a94e3",
   "metadata": {},
   "outputs": [
    {
     "data": {
      "text/plain": [
       "51"
      ]
     },
     "execution_count": 64,
     "metadata": {},
     "output_type": "execute_result"
    }
   ],
   "source": [
    "os.path.getsize(\"file.txt\")\n"
   ]
  },
  {
   "cell_type": "code",
   "execution_count": 68,
   "id": "24c6e518-3d1a-4069-b324-dd8c9fb77516",
   "metadata": {},
   "outputs": [],
   "source": [
    "os.mkdir(\"test\")"
   ]
  },
  {
   "cell_type": "code",
   "execution_count": 70,
   "id": "5fc3f7ac-ea68-48dc-9b9e-98d20c624701",
   "metadata": {},
   "outputs": [],
   "source": [
    "os.mkdir(\"test/test1\")"
   ]
  },
  {
   "cell_type": "code",
   "execution_count": 76,
   "id": "dac695b6-35d4-4bc6-ace0-2fb070378344",
   "metadata": {},
   "outputs": [],
   "source": [
    "os.makedirs(\"test2/test3\") "
   ]
  },
  {
   "cell_type": "code",
   "execution_count": 78,
   "id": "bd0bc1dd-17d9-41d3-830a-47d0991551e6",
   "metadata": {},
   "outputs": [
    {
     "name": "stdout",
     "output_type": "stream",
     "text": [
      " Volume in drive D is New Volume\n",
      " Volume Serial Number is 2A17-5C50\n",
      "\n",
      " Directory of D:\\desktop\\after git\\pw-DataScience\\class\\python\\file_handling\n",
      "\n",
      "04-10-2025  12:06 PM    <DIR>          .\n",
      "04-10-2025  02:00 AM    <DIR>          ..\n",
      "04-10-2025  11:04 AM    <DIR>          .ipynb_checkpoints\n",
      "04-10-2025  12:05 PM             8,176 basic.ipynb\n",
      "04-10-2025  11:16 AM                51 file.txt\n",
      "04-10-2025  12:05 PM    <DIR>          test\n",
      "04-10-2025  12:06 PM    <DIR>          test2\n",
      "               2 File(s)          8,227 bytes\n",
      "               5 Dir(s)  269,887,164,416 bytes free\n"
     ]
    }
   ],
   "source": [
    "ls"
   ]
  },
  {
   "cell_type": "code",
   "execution_count": 84,
   "id": "4f0f0525-c140-4dd8-bf14-7cd57e2166ee",
   "metadata": {},
   "outputs": [],
   "source": [
    "# os.rmdir(\"folder_name\") # delete empty dir\n",
    "import shutil\n",
    "shutil.rmtree(\"test\")# remove folder hiearchy\n"
   ]
  },
  {
   "cell_type": "code",
   "execution_count": 92,
   "id": "5a61a4c5-fd78-4eb7-a2bb-df14491f492b",
   "metadata": {},
   "outputs": [],
   "source": [
    "os.makedirs(\"test/test1\")\n",
    "f=open(\"test/test1/testfile.txt\",\"w\")"
   ]
  },
  {
   "cell_type": "code",
   "execution_count": 96,
   "id": "642a0d74-0743-48b4-8318-64bbdb3268f9",
   "metadata": {},
   "outputs": [
    {
     "data": {
      "text/plain": [
       "'D:\\\\desktop\\\\after git\\\\pw-DataScience\\\\class\\\\python\\\\file_handling\\\\testfile.txt'"
      ]
     },
     "execution_count": 96,
     "metadata": {},
     "output_type": "execute_result"
    }
   ],
   "source": [
    "# copying above ffile in current location\n",
    "# shutil.copy(src,dest)\n",
    "shutil.copy(\"D:\\\\desktop\\\\after git\\\\pw-DataScience\\\\class\\\\python\\\\file_handling\\\\test/test1/testfile.txt\",\"D:\\\\desktop\\\\after git\\\\pw-DataScience\\\\class\\\\python\\\\file_handling\")"
   ]
  },
  {
   "cell_type": "code",
   "execution_count": 98,
   "id": "986b4856-22ed-4929-8a73-af7aaf6ebb4b",
   "metadata": {},
   "outputs": [],
   "source": [
    "# shutil.move (src,dest) # move the file \n"
   ]
  },
  {
   "cell_type": "code",
   "execution_count": 102,
   "id": "c229ec84-de5d-4162-97e6-c614ef5a54a8",
   "metadata": {},
   "outputs": [],
   "source": [
    "with open(\"file.txt\",\"w\") as f:# with statment ensures file is closed properly after block of code  \n",
    "            # important>> free up system resouces and avoid issues loke data corruption or file lock\n",
    "\n",
    "    f.write(\"this is my second line\")"
   ]
  },
  {
   "cell_type": "code",
   "execution_count": null,
   "id": "a16dfc5a-8129-48a8-ab74-d354c73f6d85",
   "metadata": {},
   "outputs": [],
   "source": []
  }
 ],
 "metadata": {
  "kernelspec": {
   "display_name": "Python 3 (ipykernel)",
   "language": "python",
   "name": "python3"
  },
  "language_info": {
   "codemirror_mode": {
    "name": "ipython",
    "version": 3
   },
   "file_extension": ".py",
   "mimetype": "text/x-python",
   "name": "python",
   "nbconvert_exporter": "python",
   "pygments_lexer": "ipython3",
   "version": "3.12.7"
  }
 },
 "nbformat": 4,
 "nbformat_minor": 5
}
