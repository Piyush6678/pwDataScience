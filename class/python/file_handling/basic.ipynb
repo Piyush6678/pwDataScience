{
 "cells": [
  {
   "cell_type": "code",
   "execution_count": null,
   "id": "f9ac3759-15b5-4ac0-9026-8f5703d02cd9",
   "metadata": {},
   "outputs": [],
   "source": [
    "# mode\n",
    "# r -read \n",
    "# w-write \n",
    "# a append#r+w -read and write"
   ]
  },
  {
   "cell_type": "code",
   "execution_count": 5,
   "id": "3e9a1dc4-cfa7-4c0d-8258-7648a9323787",
   "metadata": {},
   "outputs": [],
   "source": [
    "#open(\"file.txt\",\"r\") # if there is no file and you open in read mode it will give you error\n",
    "file=open(\"file.txt\",\"w\")# if file is not there it will create and open it"
   ]
  },
  {
   "cell_type": "code",
   "execution_count": 7,
   "id": "d5695fcc-d18d-43ac-93c3-68bad79d2439",
   "metadata": {},
   "outputs": [
    {
     "data": {
      "text/plain": [
       "39"
      ]
     },
     "execution_count": 7,
     "metadata": {},
     "output_type": "execute_result"
    }
   ],
   "source": [
    "file.write(\"Hello this is my first line in file.txt\") # 39 no of bytes"
   ]
  },
  {
   "cell_type": "code",
   "execution_count": 9,
   "id": "e43b56ff-64ac-4567-bbcb-ee28d566f76f",
   "metadata": {},
   "outputs": [],
   "source": [
    "# as of now you open the file you will not able to see any text\n",
    "# you have to close the file \n",
    "file.close()"
   ]
  },
  {
   "cell_type": "code",
   "execution_count": 14,
   "id": "876d9d26-0f6a-4110-a214-74e432eb4bb3",
   "metadata": {},
   "outputs": [
    {
     "data": {
      "text/plain": [
       "True"
      ]
     },
     "execution_count": 14,
     "metadata": {},
     "output_type": "execute_result"
    }
   ],
   "source": [
    "file # file attributes \n",
    "file.closed # true"
   ]
  },
  {
   "cell_type": "code",
   "execution_count": 16,
   "id": "7d25161d-9aa2-4959-a68e-2de90c15196f",
   "metadata": {},
   "outputs": [
    {
     "data": {
      "text/plain": [
       "'file.txt'"
      ]
     },
     "execution_count": 16,
     "metadata": {},
     "output_type": "execute_result"
    }
   ],
   "source": [
    "file.name"
   ]
  },
  {
   "cell_type": "code",
   "execution_count": 18,
   "id": "1726144b-e25c-47e0-9495-75db36718105",
   "metadata": {},
   "outputs": [
    {
     "data": {
      "text/plain": [
       "'w'"
      ]
     },
     "execution_count": 18,
     "metadata": {},
     "output_type": "execute_result"
    }
   ],
   "source": [
    "file.mode"
   ]
  },
  {
   "cell_type": "code",
   "execution_count": 29,
   "id": "ca5b91d9-30ad-4861-8b9d-3e5ec1134537",
   "metadata": {},
   "outputs": [],
   "source": [
    "#file.write(\"seconde write \") # you cannot write in a closed file \n",
    "# file= open(\"file.txt\",\"w\") # it will truncate all earlier content \n",
    "\n",
    "file = open(\"file.txt\",\"a\")\n",
    "file.write(\"new line\") \n",
    "file.close()"
   ]
  },
  {
   "cell_type": "code",
   "execution_count": 34,
   "id": "137d7b79-09cd-4528-bb1f-71e25dd83267",
   "metadata": {},
   "outputs": [],
   "source": [
    "file= open(\"file.txt\",\"r\")"
   ]
  },
  {
   "cell_type": "code",
   "execution_count": 36,
   "id": "069e1d94-b4d8-4691-8a20-b103060674d1",
   "metadata": {},
   "outputs": [
    {
     "name": "stdout",
     "output_type": "stream",
     "text": [
      "Hello this is my first line in file.txt\n",
      "\n",
      "new line\n",
      "\n",
      "new line\n",
      "\n",
      "new linenew line\n"
     ]
    }
   ],
   "source": [
    "for i in file :\n",
    "    print(i)"
   ]
  },
  {
   "cell_type": "code",
   "execution_count": 42,
   "id": "2218c05b-2e17-41cb-b811-5a2481751ee0",
   "metadata": {},
   "outputs": [
    {
     "name": "stdout",
     "output_type": "stream",
     "text": [
      "\n"
     ]
    },
    {
     "data": {
      "text/plain": [
       "77"
      ]
     },
     "execution_count": 42,
     "metadata": {},
     "output_type": "execute_result"
    }
   ],
   "source": [
    "print(file.read()) # here the cursor / pointer is at lastposition\n",
    "file.tell()"
   ]
  },
  {
   "cell_type": "code",
   "execution_count": 46,
   "id": "d62b49c6-ff46-40b9-8157-a116e11997e5",
   "metadata": {},
   "outputs": [
    {
     "data": {
      "text/plain": [
       "0"
      ]
     },
     "execution_count": 46,
     "metadata": {},
     "output_type": "execute_result"
    }
   ],
   "source": [
    "file.seek(0)"
   ]
  },
  {
   "cell_type": "code",
   "execution_count": 48,
   "id": "e5526929-53b5-4af8-9b39-3f5e8c55ca0e",
   "metadata": {},
   "outputs": [
    {
     "name": "stdout",
     "output_type": "stream",
     "text": [
      "Hello this is my first line in file.txt\n",
      "new line\n",
      "\n"
     ]
    }
   ],
   "source": [
    "print(file.read()) #Hello this is my first line in file.txt new line"
   ]
  },
  {
   "cell_type": "code",
   "execution_count": 56,
   "id": "488323e0-7131-4a6c-b8dc-e68df65b0515",
   "metadata": {},
   "outputs": [
    {
     "name": "stdout",
     "output_type": "stream",
     "text": [
      "['Hello this is my first line in file.txt\\n', 'new line\\n']\n"
     ]
    },
    {
     "data": {
      "text/plain": [
       "0"
      ]
     },
     "execution_count": 56,
     "metadata": {},
     "output_type": "execute_result"
    }
   ],
   "source": [
    "file=open(\"file.txt\",\"r\")\n",
    "print(file.readline())\n",
    "print(file.readlines()) # all lines comes in a list \n",
    "file.seek(0)\n"
   ]
  },
  {
   "cell_type": "code",
   "execution_count": null,
   "id": "3154f71e-59ed-432e-9b0d-5ecca0181779",
   "metadata": {},
   "outputs": [],
   "source": [
    "!pwd # gives presend working directory"
   ]
  },
  {
   "cell_type": "code",
   "execution_count": 58,
   "id": "fa17ead1-a40c-4e91-9753-a1d98ee9c286",
   "metadata": {},
   "outputs": [],
   "source": [
    "import os\n"
   ]
  },
  {
   "cell_type": "code",
   "execution_count": 62,
   "id": "9a35a425-36f4-4b90-a2d3-0f1ed65340e7",
   "metadata": {},
   "outputs": [
    {
     "data": {
      "text/plain": [
       "'D:\\\\desktop\\\\after git\\\\pw-DataScience\\\\class\\\\python\\\\file_handling'"
      ]
     },
     "execution_count": 62,
     "metadata": {},
     "output_type": "execute_result"
    }
   ],
   "source": [
    "os.getcwd()"
   ]
  },
  {
   "cell_type": "code",
   "execution_count": 64,
   "id": "5cd73090-ae6e-49b7-bd4f-011efb2a94e3",
   "metadata": {},
   "outputs": [
    {
     "data": {
      "text/plain": [
       "51"
      ]
     },
     "execution_count": 64,
     "metadata": {},
     "output_type": "execute_result"
    }
   ],
   "source": [
    "os.path.getsize(\"file.txt\")\n"
   ]
  },
  {
   "cell_type": "code",
   "execution_count": 66,
   "id": "24c6e518-3d1a-4069-b324-dd8c9fb77516",
   "metadata": {},
   "outputs": [
    {
     "ename": "FileNotFoundError",
     "evalue": "[WinError 3] The system cannot find the path specified: 'test/test1'",
     "output_type": "error",
     "traceback": [
      "\u001b[1;31m---------------------------------------------------------------------------\u001b[0m",
      "\u001b[1;31mFileNotFoundError\u001b[0m                         Traceback (most recent call last)",
      "Cell \u001b[1;32mIn[66], line 1\u001b[0m\n\u001b[1;32m----> 1\u001b[0m os\u001b[38;5;241m.\u001b[39mmkdir(\u001b[38;5;124m\"\u001b[39m\u001b[38;5;124mtest/test1\u001b[39m\u001b[38;5;124m\"\u001b[39m)\n",
      "\u001b[1;31mFileNotFoundError\u001b[0m: [WinError 3] The system cannot find the path specified: 'test/test1'"
     ]
    }
   ],
   "source": [
    "os.mkdir(\"test/test1\")"
   ]
  },
  {
   "cell_type": "code",
   "execution_count": null,
   "id": "5fc3f7ac-ea68-48dc-9b9e-98d20c624701",
   "metadata": {},
   "outputs": [],
   "source": []
  }
 ],
 "metadata": {
  "kernelspec": {
   "display_name": "Python 3 (ipykernel)",
   "language": "python",
   "name": "python3"
  },
  "language_info": {
   "codemirror_mode": {
    "name": "ipython",
    "version": 3
   },
   "file_extension": ".py",
   "mimetype": "text/x-python",
   "name": "python",
   "nbconvert_exporter": "python",
   "pygments_lexer": "ipython3",
   "version": "3.12.7"
  }
 },
 "nbformat": 4,
 "nbformat_minor": 5
}
