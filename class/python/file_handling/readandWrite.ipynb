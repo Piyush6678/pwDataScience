{
 "cells": [
  {
   "cell_type": "code",
   "execution_count": 3,
   "id": "17f6acfa-09ce-41ee-8104-5ade9c7b67a2",
   "metadata": {},
   "outputs": [],
   "source": [
    "text_content = \"\"\"\n",
    "example1 \n",
    "example2\n",
    "example3\n",
    "\"\"\""
   ]
  },
  {
   "cell_type": "code",
   "execution_count": 5,
   "id": "f6d411a1-7b71-461e-b4fd-77e7614b20fc",
   "metadata": {},
   "outputs": [],
   "source": [
    "with open (\"example.txt\",\"w\") as f:\n",
    "    f.write(text_content)"
   ]
  },
  {
   "cell_type": "code",
   "execution_count": 7,
   "id": "e3de9c62-66cf-436a-a052-951d1c9f6389",
   "metadata": {},
   "outputs": [
    {
     "name": "stdout",
     "output_type": "stream",
     "text": [
      "\n",
      "example1 \n",
      "example2\n",
      "example3\n",
      "\n"
     ]
    }
   ],
   "source": [
    "with open(\"example.txt\",\"r\")as f:\n",
    "    data=f.read()\n",
    "print(data)"
   ]
  },
  {
   "cell_type": "code",
   "execution_count": 9,
   "id": "5b6fb8bb-6d81-4b11-96a3-43e0d69d455a",
   "metadata": {},
   "outputs": [],
   "source": [
    "# csv >> comma separated value files \n",
    "data=[[\"name\",\"course\",\"fees\"],\n",
    "      [\"piyush\",\"ds\",\"20000\"],\n",
    "      [\"mridul\",\"da\",\"15000\"]]\n"
   ]
  },
  {
   "cell_type": "code",
   "execution_count": 11,
   "id": "0e7aa157-46f4-4d2f-9f56-f5afb110fd0a",
   "metadata": {},
   "outputs": [],
   "source": [
    "import csv\n",
    "with open(\"course.csv\",\"w\") as f:\n",
    "    w=csv.writer(f)\n",
    "    for i in data :\n",
    "        w.writerow(i)"
   ]
  },
  {
   "cell_type": "code",
   "execution_count": 14,
   "id": "458adde1-2b46-421b-9564-e45471fe45ed",
   "metadata": {},
   "outputs": [
    {
     "name": "stdout",
     "output_type": "stream",
     "text": [
      "['name', 'course', 'fees']\n",
      "[]\n",
      "['piyush', 'ds', '20000']\n",
      "[]\n",
      "['mridul', 'da', '15000']\n",
      "[]\n"
     ]
    }
   ],
   "source": [
    "with open (\"course.csv\",\"r\") as f:\n",
    "    r=csv.reader(f)\n",
    "    for i in r:\n",
    "        print(i)"
   ]
  },
  {
   "cell_type": "code",
   "execution_count": 16,
   "id": "b1203329-18a3-4af7-a28a-1d4c6a5faf9e",
   "metadata": {},
   "outputs": [],
   "source": [
    "# json javascript object nottation \n",
    "data={\n",
    "    \"name\":\"Piyush\",\n",
    "    \"course\":\"ds\",\n",
    "    \"fee\":\"20000\"}"
   ]
  },
  {
   "cell_type": "code",
   "execution_count": 18,
   "id": "a9faff9d-7ee3-4a69-a4fd-7ad4c52d0ec4",
   "metadata": {},
   "outputs": [],
   "source": [
    "import json \n",
    "with open(\"course_json.json\",\"w\")as f:\n",
    "    json.dump(data,f)\n",
    "    "
   ]
  },
  {
   "cell_type": "code",
   "execution_count": 20,
   "id": "3ead59e3-067e-4339-8777-e7f8b6bc1b2a",
   "metadata": {},
   "outputs": [
    {
     "name": "stdout",
     "output_type": "stream",
     "text": [
      "{'name': 'Piyush', 'course': 'ds', 'fee': '20000'}\n"
     ]
    }
   ],
   "source": [
    "with open(\"course_json.json\",\"r\") as f:\n",
    "    data=json.load(f)\n",
    "    print(data)"
   ]
  },
  {
   "cell_type": "code",
   "execution_count": 22,
   "id": "dabe2f96-0444-4e77-bd17-837952c2be42",
   "metadata": {},
   "outputs": [],
   "source": [
    "# binary\n",
    "with open(\"test_bin.bin\",\"wb\") as f:\n",
    "    f.write(b\"\\x48\")"
   ]
  },
  {
   "cell_type": "code",
   "execution_count": null,
   "id": "439d1137-2f5b-4edb-a6d9-58cd7a770700",
   "metadata": {},
   "outputs": [],
   "source": []
  }
 ],
 "metadata": {
  "kernelspec": {
   "display_name": "Python 3 (ipykernel)",
   "language": "python",
   "name": "python3"
  },
  "language_info": {
   "codemirror_mode": {
    "name": "ipython",
    "version": 3
   },
   "file_extension": ".py",
   "mimetype": "text/x-python",
   "name": "python",
   "nbconvert_exporter": "python",
   "pygments_lexer": "ipython3",
   "version": "3.12.7"
  }
 },
 "nbformat": 4,
 "nbformat_minor": 5
}
