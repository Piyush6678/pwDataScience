{
 "cells": [
  {
   "cell_type": "code",
   "execution_count": 1,
   "id": "93c9ae4e-1612-4c95-a671-6cd860721206",
   "metadata": {},
   "outputs": [],
   "source": [
    "# exception is an event that occurs during programme execution that disrupts the code \n"
   ]
  },
  {
   "cell_type": "code",
   "execution_count": 3,
   "id": "24521e15-e2ce-464b-9327-6f3b639ceda1",
   "metadata": {},
   "outputs": [
    {
     "name": "stdout",
     "output_type": "stream",
     "text": [
      "2.0\n",
      "the code is running fine \n"
     ]
    },
    {
     "ename": "ZeroDivisionError",
     "evalue": "division by zero",
     "output_type": "error",
     "traceback": [
      "\u001b[1;31m---------------------------------------------------------------------------\u001b[0m",
      "\u001b[1;31mZeroDivisionError\u001b[0m                         Traceback (most recent call last)",
      "Cell \u001b[1;32mIn[3], line 3\u001b[0m\n\u001b[0;32m      1\u001b[0m \u001b[38;5;28mprint\u001b[39m(\u001b[38;5;241m4\u001b[39m\u001b[38;5;241m/\u001b[39m\u001b[38;5;241m2\u001b[39m)\n\u001b[0;32m      2\u001b[0m \u001b[38;5;28mprint\u001b[39m(\u001b[38;5;124m\"\u001b[39m\u001b[38;5;124mthe code is running fine \u001b[39m\u001b[38;5;124m\"\u001b[39m)\n\u001b[1;32m----> 3\u001b[0m \u001b[38;5;28mprint\u001b[39m(\u001b[38;5;241m6\u001b[39m\u001b[38;5;241m/\u001b[39m\u001b[38;5;241m0\u001b[39m) \u001b[38;5;66;03m# this is the exception/suspicious code  further code will not get executed\u001b[39;00m\n\u001b[0;32m      4\u001b[0m \u001b[38;5;28mprint\u001b[39m(\u001b[38;5;124m\"\u001b[39m\u001b[38;5;124mmy name is piyush\u001b[39m\u001b[38;5;124m\"\u001b[39m)\n\u001b[0;32m      5\u001b[0m \u001b[38;5;28mprint\u001b[39m(\u001b[38;5;241m2\u001b[39m\u001b[38;5;241m+\u001b[39m\u001b[38;5;241m5\u001b[39m) \n",
      "\u001b[1;31mZeroDivisionError\u001b[0m: division by zero"
     ]
    }
   ],
   "source": [
    "print(4/2)\n",
    "print(\"the code is running fine \")\n",
    "print(6/0) # this is the exception/suspicious code  further code will not get executed\n",
    "print(\"my name is piyush\")\n",
    "print(2+5) \n",
    "print(\"the code ends here\")\n"
   ]
  },
  {
   "cell_type": "code",
   "execution_count": null,
   "id": "30ad0afc-27a1-4cd1-8930-17a4037cc1fd",
   "metadata": {},
   "outputs": [],
   "source": [
    "# why do we need to handle suspicious code\n",
    "# robust application\n",
    "# understand edge cases\n",
    "\n",
    "# how to handle\n",
    "# using try catch\n",
    " \n"
   ]
  },
  {
   "cell_type": "code",
   "execution_count": 7,
   "id": "a45cd2a5-3ad6-4bbc-a7d6-996ff226f03e",
   "metadata": {},
   "outputs": [
    {
     "ename": "IndentationError",
     "evalue": "expected an indented block after 'try' statement on line 2 (379228147.py, line 4)",
     "output_type": "error",
     "traceback": [
      "\u001b[1;36m  Cell \u001b[1;32mIn[7], line 4\u001b[1;36m\u001b[0m\n\u001b[1;33m    except:\u001b[0m\n\u001b[1;37m    ^\u001b[0m\n\u001b[1;31mIndentationError\u001b[0m\u001b[1;31m:\u001b[0m expected an indented block after 'try' statement on line 2\n"
     ]
    }
   ],
   "source": [
    "# # try catch\n",
    "# try:\n",
    "#      # suspiciouscode\n",
    "# except:\n",
    "#     # if exception error"
   ]
  },
  {
   "cell_type": "code",
   "execution_count": 9,
   "id": "21b9e986-2f84-4675-9fc9-4d0afd8dd787",
   "metadata": {},
   "outputs": [
    {
     "name": "stdout",
     "output_type": "stream",
     "text": [
      " rooro occuerd in opening file i.e [Errno 2] No such file or directory: 'anonymous.txt'\n",
      "after try catch \n"
     ]
    }
   ],
   "source": [
    "try :\n",
    "    f=open(\"anonymous.txt\",\"r\")\n",
    "except Exception as e:\n",
    "    print(\" rror occuerd in opening file i.e\",e)\n",
    "    \n",
    "print(\"after try catch \")"
   ]
  },
  {
   "cell_type": "code",
   "execution_count": null,
   "id": "76f59686-c061-43e4-9287-296fe0526ae8",
   "metadata": {},
   "outputs": [],
   "source": []
  }
 ],
 "metadata": {
  "kernelspec": {
   "display_name": "Python 3 (ipykernel)",
   "language": "python",
   "name": "python3"
  },
  "language_info": {
   "codemirror_mode": {
    "name": "ipython",
    "version": 3
   },
   "file_extension": ".py",
   "mimetype": "text/x-python",
   "name": "python",
   "nbconvert_exporter": "python",
   "pygments_lexer": "ipython3",
   "version": "3.12.7"
  }
 },
 "nbformat": 4,
 "nbformat_minor": 5
}
