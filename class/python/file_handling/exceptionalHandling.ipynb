{
 "cells": [
  {
   "cell_type": "code",
   "execution_count": 1,
   "id": "93c9ae4e-1612-4c95-a671-6cd860721206",
   "metadata": {},
   "outputs": [],
   "source": [
    "# exception is an event that occurs during programme execution that disrupts the code \n"
   ]
  },
  {
   "cell_type": "code",
   "execution_count": 3,
   "id": "24521e15-e2ce-464b-9327-6f3b639ceda1",
   "metadata": {},
   "outputs": [
    {
     "name": "stdout",
     "output_type": "stream",
     "text": [
      "2.0\n",
      "the code is running fine \n"
     ]
    },
    {
     "ename": "ZeroDivisionError",
     "evalue": "division by zero",
     "output_type": "error",
     "traceback": [
      "\u001b[1;31m---------------------------------------------------------------------------\u001b[0m",
      "\u001b[1;31mZeroDivisionError\u001b[0m                         Traceback (most recent call last)",
      "Cell \u001b[1;32mIn[3], line 3\u001b[0m\n\u001b[0;32m      1\u001b[0m \u001b[38;5;28mprint\u001b[39m(\u001b[38;5;241m4\u001b[39m\u001b[38;5;241m/\u001b[39m\u001b[38;5;241m2\u001b[39m)\n\u001b[0;32m      2\u001b[0m \u001b[38;5;28mprint\u001b[39m(\u001b[38;5;124m\"\u001b[39m\u001b[38;5;124mthe code is running fine \u001b[39m\u001b[38;5;124m\"\u001b[39m)\n\u001b[1;32m----> 3\u001b[0m \u001b[38;5;28mprint\u001b[39m(\u001b[38;5;241m6\u001b[39m\u001b[38;5;241m/\u001b[39m\u001b[38;5;241m0\u001b[39m) \u001b[38;5;66;03m# this is the exception/suspicious code  further code will not get executed\u001b[39;00m\n\u001b[0;32m      4\u001b[0m \u001b[38;5;28mprint\u001b[39m(\u001b[38;5;124m\"\u001b[39m\u001b[38;5;124mmy name is piyush\u001b[39m\u001b[38;5;124m\"\u001b[39m)\n\u001b[0;32m      5\u001b[0m \u001b[38;5;28mprint\u001b[39m(\u001b[38;5;241m2\u001b[39m\u001b[38;5;241m+\u001b[39m\u001b[38;5;241m5\u001b[39m) \n",
      "\u001b[1;31mZeroDivisionError\u001b[0m: division by zero"
     ]
    }
   ],
   "source": [
    "print(4/2)\n",
    "print(\"the code is running fine \")\n",
    "print(6/0) # this is the exception/suspicious code  further code will not get executed\n",
    "print(\"my name is piyush\")\n",
    "print(2+5) \n",
    "print(\"the code ends here\")\n"
   ]
  },
  {
   "cell_type": "code",
   "execution_count": null,
   "id": "30ad0afc-27a1-4cd1-8930-17a4037cc1fd",
   "metadata": {},
   "outputs": [],
   "source": [
    "# why do we need to handle suspicious code\n",
    "# robust application\n",
    "# understand edge cases\n",
    "\n",
    "# how to handle\n",
    "# using try catch\n",
    " \n"
   ]
  },
  {
   "cell_type": "code",
   "execution_count": 7,
   "id": "a45cd2a5-3ad6-4bbc-a7d6-996ff226f03e",
   "metadata": {},
   "outputs": [
    {
     "ename": "IndentationError",
     "evalue": "expected an indented block after 'try' statement on line 2 (379228147.py, line 4)",
     "output_type": "error",
     "traceback": [
      "\u001b[1;36m  Cell \u001b[1;32mIn[7], line 4\u001b[1;36m\u001b[0m\n\u001b[1;33m    except:\u001b[0m\n\u001b[1;37m    ^\u001b[0m\n\u001b[1;31mIndentationError\u001b[0m\u001b[1;31m:\u001b[0m expected an indented block after 'try' statement on line 2\n"
     ]
    }
   ],
   "source": [
    "# # try catch\n",
    "# try:\n",
    "#      # suspiciouscode\n",
    "# except:\n",
    "#     # if exception error"
   ]
  },
  {
   "cell_type": "code",
   "execution_count": 9,
   "id": "21b9e986-2f84-4675-9fc9-4d0afd8dd787",
   "metadata": {},
   "outputs": [
    {
     "name": "stdout",
     "output_type": "stream",
     "text": [
      " rooro occuerd in opening file i.e [Errno 2] No such file or directory: 'anonymous.txt'\n",
      "after try catch \n"
     ]
    }
   ],
   "source": [
    "try :\n",
    "    f=open(\"anonymous.txt\",\"r\")\n",
    "except Exception as e:\n",
    "    print(\" rror occuerd in opening file i.e\",e)\n",
    "    \n",
    "print(\"after try catch \")"
   ]
  },
  {
   "cell_type": "code",
   "execution_count": 13,
   "id": "76f59686-c061-43e4-9287-296fe0526ae8",
   "metadata": {},
   "outputs": [
    {
     "name": "stdout",
     "output_type": "stream",
     "text": [
      "2.5\n",
      "runs if there is no exception\n"
     ]
    }
   ],
   "source": [
    "try :\n",
    "    print(5/2)\n",
    "except Exception as e:\n",
    "    print(\"exception happens\")\n",
    "else:\n",
    "    print(\"runs if there is no exception\")"
   ]
  },
  {
   "cell_type": "code",
   "execution_count": 15,
   "id": "4107fe1c-d0b0-4bab-8d9a-964adb655de1",
   "metadata": {},
   "outputs": [
    {
     "name": "stdout",
     "output_type": "stream",
     "text": [
      "2.5\n",
      "runs if there is no exception\n",
      "always executed even if there is exception or not \n"
     ]
    }
   ],
   "source": [
    "try :\n",
    "    print(5/2)\n",
    "except Exception as e:\n",
    "    print(\"exception happens\")\n",
    "else:\n",
    "    print(\"runs if there is no exception\")\n",
    "finally: \n",
    "    print(\"always executed even if there is exception or not \")"
   ]
  },
  {
   "cell_type": "code",
   "execution_count": 25,
   "id": "b11045db-e3b6-4c7a-a9c9-42db44de4ca4",
   "metadata": {},
   "outputs": [],
   "source": [
    "class validateSalary(Exception):\n",
    "    def __init__(self,msg):\n",
    "        self.msg=msg"
   ]
  },
  {
   "cell_type": "code",
   "execution_count": 27,
   "id": "12927a2f-ed47-49cf-930a-7385f1760f3d",
   "metadata": {},
   "outputs": [],
   "source": [
    "def validate_salary(salary):\n",
    "    if(salary<0): \n",
    "        raise validateSalary(\"negative salary is not possible\")\n",
    "    elif(salary>10000000):\n",
    "        raise validateSalary(\"too much for you \")\n",
    "    else:\n",
    "        raise validateSalary(\"salary is valid\")"
   ]
  },
  {
   "cell_type": "code",
   "execution_count": 33,
   "id": "93bb8d09-ac37-473e-b52f-5bbf4a6d3b80",
   "metadata": {},
   "outputs": [
    {
     "name": "stdin",
     "output_type": "stream",
     "text": [
      "enter you salary 40\n"
     ]
    },
    {
     "name": "stdout",
     "output_type": "stream",
     "text": [
      "salary is valid\n"
     ]
    }
   ],
   "source": [
    "try:\n",
    "    salary=int (input(\"enter you salary\"))\n",
    "    validate_salary(salary)\n",
    "except validateSalary as e:\n",
    "    print(e)"
   ]
  },
  {
   "cell_type": "code",
   "execution_count": 35,
   "id": "3700a391-f529-45f2-8441-dd38051cb76d",
   "metadata": {},
   "outputs": [
    {
     "name": "stdout",
     "output_type": "stream",
     "text": [
      "i am handling zero division error  division by zero\n"
     ]
    }
   ],
   "source": [
    " # best practice\n",
    "# specificity is error handling\n",
    "try:\n",
    "    10/0 # suspicious \n",
    "except ZeroDivisionError as e :\n",
    "    print(\"i am handling zero division error \",e)\n"
   ]
  },
  {
   "cell_type": "code",
   "execution_count": 39,
   "id": "e405b2d9-551f-4f97-95a0-08851d4c0f4d",
   "metadata": {},
   "outputs": [
    {
     "name": "stdout",
     "output_type": "stream",
     "text": [
      " divisionby string is not possible  unsupported operand type(s) for /: 'int' and 'str'\n"
     ]
    }
   ],
   "source": [
    "# type error\n",
    "try:\n",
    "    10/\"34\"\n",
    "except TypeError as e:\n",
    "    print (\" divisionby string is not possible \",e)\n",
    "    "
   ]
  },
  {
   "cell_type": "code",
   "execution_count": 41,
   "id": "2dd80339-1c6e-44ad-b720-cc66ada50910",
   "metadata": {},
   "outputs": [
    {
     "name": "stdout",
     "output_type": "stream",
     "text": [
      "the division  is  0.29411764705882354\n",
      " divisionby string is not possible  unsupported operand type(s) for /: 'int' and 'str'\n"
     ]
    }
   ],
   "source": [
    "# example to handle some expcpetion\n",
    "try:\n",
    "    10/\"2\"\n",
    "except TypeError as e:\n",
    "    print(\"the division  is \",10/int(\"2\"))\n",
    "    print (\" divisionby string is not possible \",e)\n",
    "    "
   ]
  },
  {
   "cell_type": "code",
   "execution_count": null,
   "id": "ee7f0679-f3e1-46c9-a6d4-f1b74ba67325",
   "metadata": {},
   "outputs": [],
   "source": [
    "# handling two soecifivexcepetion"
   ]
  }
 ],
 "metadata": {
  "kernelspec": {
   "display_name": "Python 3 (ipykernel)",
   "language": "python",
   "name": "python3"
  },
  "language_info": {
   "codemirror_mode": {
    "name": "ipython",
    "version": 3
   },
   "file_extension": ".py",
   "mimetype": "text/x-python",
   "name": "python",
   "nbconvert_exporter": "python",
   "pygments_lexer": "ipython3",
   "version": "3.12.7"
  }
 },
 "nbformat": 4,
 "nbformat_minor": 5
}
