import pandas as pd
# very useful with structured /tabular data


df=pd.read_csv("services.csv")



# by default pandas understand 1st row as the header aname 
pd.read_csv("services.csv",header=None) # internal integer indexes is provided for row and col by pandas


pd.read_csv("services.csv",skiprows=2) # skip first 2 row


# read only 2 col 
pd.read_csv("services.csv",usecols=["program_id","application_process"])


# data frame >> 2d in nature 
# series>> 1d in nature


type(df)



