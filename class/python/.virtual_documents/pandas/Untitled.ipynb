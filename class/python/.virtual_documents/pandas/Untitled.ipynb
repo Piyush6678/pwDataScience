import pandas as pd
# very useful with structured /tabular data


df=pd.read_csv("services.csv")



# by default pandas understand 1st row as the header aname 
pd.read_csv("services.csv",header=None) # internal integer indexes is provided for row and col by pandas


pd.read_csv("services.csv",skiprows=2) # skip first 2 row


# read only 2 col 
pd.read_csv("services.csv",usecols=["program_id","application_process"])


# data frame >> 2d in nature  multiple series combine to form a dataframe or we can say it is the collection of series
# series>> 1d in nature


type(df) #pandas.core.frame.DataFrame


df.application_process


type(df["application_process"]) #pandas.core.series.Series 


l=[1,2,3,4]
s=pd.Series(l)


s[1] # access elements of series 


s[1:]


s[:3]


s[2:4]


# by default index in integer 
# custom indec
d=pd.Series([100,200,300],index=["Ajay","Bijay","Piyush"])


d["Piyush"]


d.index


# to reset index
d.reset_index(drop=True) # drop original index
d.reset_index(drop=False)


# convert series to df
pd.DataFrame(d)


df.head()# first five rows


df.head(2)


df.tail()


df.tail(10)


df.shape


df.columns


list(df.columns)


df.sample(2)# 2random rows


df.info()


df.dtypes


df["id"]


d=pd.DataFrame(s)


d["new col"]="Ajay"
d


d["new_col"]=[12,23,33,43]


d.new_col


# cahnge col name 
d.columns={"col1","col2","col3"}


d.columns


d.reset_index(drop=True)


df[["name","status"]] # square bracket for multiple fields


# excel


df1=pd.read_excel("LUSID Excel - Setting up your market data.xlsx")


df1.shape
df1.columns
df1.dtypes
df1.info
df1.head()



# read from online source
# df2=pd.read_csv("link")


# html
url_df=pd.read_html("https://www.basketball-reference.com/leagues/NBA_2015_totals.html")


df4=url_df[0]
df4.to_csv("players.csv",index=False) # write object to a comm aseparated values


import requests
data=requests.get("https://www.sportslogos.net/#google_vignette")
data
