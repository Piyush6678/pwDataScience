import pandas as pd


df1 = pd.DataFrame({"description":["PW Skills is your one-stop-shop for upscaling. Get maximum value for timeand resources you invest, with job-ready courses & high-technology,available at the lowest cost."]})


df1


pd.set_option('display.max_colwidth', 1000)


df1


pd.set_option('display.max_rows', 100)
pd.set_option('display.max_columns', 100)


df1


len("pw skills")


df1["char_len"] = df1['description'].apply(len)


df1


a = "I am Ajay"
len(a)


len(a.split())


df1["word_count"] = df1["description"].apply(lambda x: len(x.split()))


df1


data = {'text':['Hello data science', 'I love ML', 'I read ml books']}
a = pd.DataFrame(data)


a


a['text_lower'] = a['text'].str.lower()


a


a['text_upper'] = a['text'].str.upper()


a


a['text'][0].startswith('H')


a['text'][1].startswith('H')


a['text'][1].startswith('I')


df1 = pd.DataFrame({'a':[1,2,4,5,6],
                      'b':[4,5,6,7,8],
})
df1


df1['mul_a'] = df1['a'] * 5


df1


df1.a.mean()


df1.a.median()


df1.a.mode()


df1.a.min()


df1.a.max()


df1.a.sum()


df1.a.var()


df1.a.describe()


df2 = pd.DataFrame({"a": [1, 2, 3, 4, 5, 6, 7, 8, 9]})
df2


df2.a.mean()


df2


df2.rolling(window = 1).mean()


df2.rolling(window = 2).mean()


df3 = df2.rolling(window = 3).mean()


df3


df3.dropna(inplace=True)


df3


#Typecasting
df3['a_int'] = df3['a'].astype(int)


df3


df2.rolling(window = 2).sum()


df2.rolling(window = 2).min()


df2.rolling(window = 2).max()


import numpy as np
np.random.choice(['A', 'B'])


df2['Group'] = np.random.choice(['A', 'B'], size = 9)


df2


#groupby with rolling sum
df2.groupby('Group')['a'].rolling(window = 2).sum()


df2.a.cumsum()


# date in pandas
df = pd.DataFrame({"date": ['2024-03-08', '2024-03-09', '2024-03-10']})


df


df.info()


df.dtypes


df['updated_date'] = pd.to_datetime(df["date"])


df


df.dtypes


df['year'] = df['updated_date'].dt.year


df


df['month'] = df['updated_date'].dt.month


df


df['day'] = df['updated_date'].dt.day


df


pd.date_range(start = '2024-07-10', end = '2025-07-10', freq = 'D') #generate daily data


pd.date_range(start = '2024-07-10', end = '2025-07-10', freq = 'H')


#the time now
pd.Timestamp.now()


#to check the execution/run time of a code
start = pd.Timestamp.now()
for i in range(10000):
    pass
end = pd.Timestamp.now()
print("Time taken for the execution of code", end-start)


#another way
import time
start = time.time()
for i in range(1000):
    pass
end = time.time()
print("Time taken for the execution of code in seconds", end-start)


#one more way to check the execution time
import time
start = time.perf_counter()
for i in range(1000):
    pass
end = time.perf_counter()
print("Time taken for the execution of code in seconds", end-start)


#to know date and time before a week exactly
start = pd.Timestamp.now() - pd.DateOffset(weeks=1)
start


end = pd.Timestamp.now()
end


end-start


from datetime import datetime
date = "2024-07-10"
date


date = datetime.strptime(date, "%Y-%m-%d")


date


print(date)


time = pd.Timedelta(days = 1, hours =5, minutes=40)
time


dt = pd.to_datetime("2024-07-10")
dt


dt+time


!pip install yfinance



import yfinance as yf


data = yf.download('GOOG', start = '2023-03-01', end = '2024-07-01')


data


data['Close'].resample('M').mean()


data['Close'].resample('D').mean()


#plotting functions in pandas
d = pd.Series([1, 2, 3, 7, 8, 9, 6])
d


d.plot()


data = {"A": [1, 2, 3], "B": [4, 5, 6]}
df = pd.DataFrame(data)
df


df.plot()


df['A'].plot(kind = 'line') #with time series data/or to know the trend


df['A'].plot(kind = 'bar') #categorical data >>frequency


df['A'].plot(kind = 'hist') #continuous data


df.plot(x = 'A', y = 'B', kind = 'scatter') #understand the relationship between two variables


















