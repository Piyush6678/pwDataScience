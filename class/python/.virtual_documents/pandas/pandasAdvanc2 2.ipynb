import pandas as pd


df=pd.read_csv("https://raw.githubusercontent.com/pandas-dev/pandas/master/doc/data/titanic.csv")



 # data frame sliccing
df[1:100]
df[1:100:2] #step 2



#axxess rows and columns
#implicit integer indexing
df.iloc[0:3] # used for integer indexing start from 1 and go till 2



# explicit 
df.loc[0:3] # 0 1 2 3 named indexing 


df.describe().loc["count":"std"]



# df.iloc[0:2,["name"]] give error as it use integer indexing
df.iloc[0:2,3:5]


df.loc[0:2,["Name"]] # it use named indexing 


list(df["Name"][2:5])
s=pd.Series(list(df["Name"][2:5]),index=["a","b","c"])
s1=pd.Series(list(df["Name"][5:8]),index=["a","b","c"])


# concat series with different index
# s1+s  give nan
# with same index can concat
s1+s


# df.drop("PassengerId") # default by row 
df.drop("PassengerId",axis=1) # drop col




df.drop("PassengerId",axis=1,inplace=True) # change original df


# drop a row
df.drop(2)# drop row 2 but index continuation break 
df.drop(2,inplace=True)# change original dfdrop row 2 but index continuation break 
df.reset_index()


# set a new index
df.set_index("Name",inplace=True)



df


df.loc["Braund, Mr. Owen Harris"]


df.reset_index()


d={
    "key1":[1,2,3,4],
    "key2":[5,6,7,8],
    "key3":[9,10,11,12],
} 
d



