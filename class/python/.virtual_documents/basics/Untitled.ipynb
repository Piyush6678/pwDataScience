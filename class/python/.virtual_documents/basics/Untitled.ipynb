a=100
if a>0:
    print("a is greater then 0")
if a%2==0:
    print("a is even ")
if ((a%4==0 && a%100!=0)||a%400):
    print("a is a leap year")
else:
    print("a is not leap year")


age=21
if a>18 :
    print("you are eligible for driving ")
else :
    print("you are not eligible")



