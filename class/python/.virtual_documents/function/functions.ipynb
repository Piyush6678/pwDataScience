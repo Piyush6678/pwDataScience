 # inbuild function type len print 



# user defined function
#def funct_name():
    #code


def greet(name):
    print(f"welcome to the office {name}")


greet("piyush")


def func():
    return "first function "
    
func() +"in python"


type(func()) # string


def func2():
    return "first function ",2,3,True
a=func2()


type(a)# tuple


a,b,c,d=func2()  


a 
b


def sum(a ,b):
    return a+b
sum(4,5)


sum("Piyush","Aggarwal")


def sum2(a,b=0,c=0): # default arguement is passed to function in the last
    return a+b+c

sum2(b=4,c=1,a=3)



# function retur all numerical value of lis
def num(a):
    b=[]
    for i in a : # || | will nor work onlr or works
        if type(i)==list:
            for j in i :
                 if(type(j)==float or type(j)==int):           
                     b.append(i);           
        if(type(i)==float or type(i)==int):
            b.append(i);
    return b            


num([1,2,4,20,"ava",True,5.2])


# variable length arguments>> when yo dont know no. of arg
def sum (*args):
    return args



sum(1,2,3,5)



