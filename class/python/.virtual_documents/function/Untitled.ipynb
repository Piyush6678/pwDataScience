# inbuild function print type len 
import math as m 
m.ceil(6.4)


m.floor(6.5)






