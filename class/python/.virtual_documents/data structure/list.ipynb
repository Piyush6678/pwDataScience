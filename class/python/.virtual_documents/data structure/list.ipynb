# list are ordered collection of items
#[]



type([]) # list





grocery_list=["milk","orange",1,3]
# list are mutable
grocery_list[0] ="apple"
grocery_list[-1]=5
grocery_list[1:] # orange 1 5
grocery_list[1:3] # orange 1  
grocery_list[:2] # apple orange


movies=["Action1","Action2"]


book_pages=["title_page"," chap1","chap2","conclusion"  ]
book_pages[-1]


grocery_list.append("banana")


grocery_list.insert(1,"potato")
grocery_list










