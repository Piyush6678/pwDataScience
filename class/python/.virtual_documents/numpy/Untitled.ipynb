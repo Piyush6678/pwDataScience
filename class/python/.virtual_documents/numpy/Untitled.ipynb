import numpy as np


arr1=np.random.randint(1,3,(3,3))
arr2=np.random.randint(1,3,(3,3))


arr1.flatten() # Return a copy of the array collapsed into one dimension.



# expand dimension
arr=np.array([1,2,3,4,5])
np.expand_dims(arr,axis=0) # increase the deimension by 1 >> 0 means row wise 1 means col wise 


np.expand_dims(arr,axis=1)


arr=np.zeros((3,4))
np.expand_dims(arr,axis=0) 
np.expand_dims(arr,axis=1)


a=np.array([[1],[2],[3]])
a



np.squeeze(a)# remove 1 dimension


np.repeat(a,4)


np.repeat(a,4,axis=0)


np.repeat(a,4,axis=1)


np.roll(a,-1) # shift 1 place


np.roll(a,1) # shift 1 place


c=np.array([[1,2],[3,4],[5,6],[7,8]])


np.roll(c,2)


np.roll(c,2,axis=0)


-arr1



