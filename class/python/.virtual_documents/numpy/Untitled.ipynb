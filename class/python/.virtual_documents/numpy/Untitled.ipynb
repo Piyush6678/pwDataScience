import numpy as np


arr1=np.random.randint(1,3,(3,3))
arr2=np.random.randint(1,3,(3,3))


arr1.flatten() # Return a copy of the array collapsed into one dimension.



# expand dimension
arr=np.array([1,2,3,4,5])
np.expand_dims(arr,axis=0) # increase the deimension by 1 >> 0 means row wise 1 means col wise 


np.expand_dims(arr,axis=1)


arr=np.zeros((3,4))
np.expand_dims(arr,axis=0) 
np.expand_dims(arr,axis=1)


a=np.array([[1],[2],[3]])
a



np.squeeze(a)# remove 1 dimension


np.repeat(a,4)


np.repeat(a,4,axis=0)


np.repeat(a,4,axis=1)


np.roll(a,-1) # shift 1 place


np.roll(a,1) # shift 1 place


c=np.array([[1,2],[3,4],[5,6],[7,8]])


np.roll(c,2)


np.roll(c,2,axis=0)


-arr1


# operation on numpy atrings array
d=np.array(["pw","skills"])


np.char.upper(d) 


np.char.capitalize(d)


np.sin(arr1)


np.cos(arr1)



np.log10(arr1)






np.power(arr1,3)


np.max(arr1)



np.exp(arr1)


np.mean(arr1)


np.std(arr1)


np.var(arr1)


np.subtract(arr1,arr2)


np.multiply(arr1,arr2)


np.mod(arr1,arr2)


np.sqrt(arr1)


# sorting and swarching



np.sort(arr1)


e=np.array([2,4,64,0,0,2345,645])


np.searchsorted(e,32) # give index 


np.count_nonzero(e)


np.where(e>0)


np.extract(e>0,e)


e.byteswap()


import numpy.matlib as nm


nm.zeros(5)


# numpy linear algebra



np.linalg.det(arr1)


# inverse 


np.linalg.inv(arr2)


# solving equation using numpy array
a=np.array([[7,5.3,-3],[3,-5,2],[5,3,-7]])
b=np.array([16,8,0])






