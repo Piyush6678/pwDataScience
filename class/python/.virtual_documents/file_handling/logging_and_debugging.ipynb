# start logging and debugging
# debugging>> it is the process to identify and fixing the bugs /issues in the code



# example



def divide(a,b):
    return a/b
for i in range(-10,10):
    divide(i,i+1)
     # gives error 
# breaking the code 2 steps loop and divide function


# using print statement to debug
def divide(a,b):
    return a/b
for i in range(-10,10):
    print(i,i+1)
    divide(i,i+1) 
# from print statement breaking at i=-1


# using another print statement to debug
def divide(a,b):
    print(a,b)
    return a/b
for i in range(-10,10):
    print(i,i+1)
    divide(i,i+1) 
# from print statement value goes in divide b is 0 gives error 


# breaking the code in terms of execution

def divide(a,b):
    if(b==0):
        return  ("Zero division error")
    else: 
        return a/b
for i in range(-10,10):
  
    print(divide(i,i+1)) 



# print stement is not a good practice 
# good for only simple code nut not for complex 
# use logging instead of printing 
# logging it records the state and flow of your program



# step 1 remove some elements 3 step 2 >> capitalise
# step 2 capitalise
# step 3 remove metropolitan cities
# step 4 lower case
# if list is empty after step 4   throw error
#>> logging supports different levels of logging


import logging


logging.basicConfig(filename="test.log",level=logging.INFO)


logging.info("this is my normal information")
logging.warning("there can be empty list here")
logging.debug("this is not in test.log less than info   ")
logging.error("soem error has happend")
logging.critical("software ha stoped")






import logging
logging.basicConfig(filename="test2.log",level=logging.DEBUG,format="%(Asctiem)s %(message)s")


logging.debug("test debug")



