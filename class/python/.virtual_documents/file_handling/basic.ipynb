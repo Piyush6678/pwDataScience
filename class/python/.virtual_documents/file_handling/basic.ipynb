# mode
# r -read 
# w-write 
# a append#r+w -read and write


#open("file.txt","r") # if there is no file and you open in read mode it will give you error
file=open("file.txt","w")# if file is not there it will create and open it


file.write("Hello this is my first line in file.txt") # 39 no of bytes


# as of now you open the file you will not able to see any text
# you have to close the file 
file.close()


file # file attributes 
file.closed # true


file.name


file.mode


#file.write("seconde write ") # you cannot write in a closed file 
# file= open("file.txt","w") # it will truncate all earlier content 

file = open("file.txt","a")
file.write("new line") 
file.close()


file= open("file.txt","r")


for i in file :
    print(i)


print(file.read()) # here the cursor / pointer is at lastposition
file.tell()


file.seek(0)


print(file.read()) #Hello this is my first line in file.txt new line


file=open("file.txt","r")
print(file.readline())
print(file.readlines()) # all lines comes in a list 
file.seek(0)



!pwd # gives presend working directory


import os



os.getcwd()


os.path.getsize("file.txt")



os.mkdir("test")


os.mkdir("test/test1")


os.makedirs("test2/test3")


ls



