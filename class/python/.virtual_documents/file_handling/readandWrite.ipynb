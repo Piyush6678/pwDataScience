text_content = """
example1 
example2
example3
"""


with open ("example.txt","w") as f:
    f.write(text_content)


with open("example.txt","r")as f:
    data=f.read()
print(data)


# csv >> comma separated value files 
data=[["name","course","fees"],
      ["piyush","ds","20000"],
      ["mridul","da","15000"]]



import csv
with open("course.csv","w") as f:
    w=csv.writer(f)
    for i in data :
        w.writerow(i)


with open ("course.csv","r") as f:
    r=csv.reader(f)
    for i in r:
        print(i)


# json javascript object nottation 
data={
    "name":"Piyush",
    "course":"ds",
    "fee":"20000"}


import json 
with open("course_json.json","w")as f:
    json.dump(data,f)
    


with open("course_json.json","r") as f:
    data=json.load(f)
    print(data)


# binary
with open("test_bin.bin","wb") as f:
    f.write(b"\x48")


with open("test_bin.bin","rb") as f:
    print(f.read())


# buffered reading and writing
# it allows the program to read and write data in chunks
import io
with open ("test_buf","wb") as f:
    file=io.BufferedWriter(f)
    file.write(b"hello world , how are you")
    file.write(b"I am studying data science")
    file.flush()
    



with open ("test_buf","rb") as f:
    file=io.BufferedReader(f)
    data=file.read(10)
    print(data)



