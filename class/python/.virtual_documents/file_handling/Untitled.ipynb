# exception is an event that occurs during programme execution that disrupts the code 




