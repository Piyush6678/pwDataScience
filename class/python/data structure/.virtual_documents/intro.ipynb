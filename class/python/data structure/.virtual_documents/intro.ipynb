# list >> you can store hetrogenous data
#list are mutable
num=[1,2,3,4]
type(num)


num[-1] #4
num[0] #1


# adding ele to lis 
num.append(5)
num.append("hello")
num
num.append("hello")
num


num.remove("hello")


num


lis=[123,[3,6,5,4]] #list of list
# list is mutable
lis[0]=["apple","orange","baingan"]


lis


#tuples>> immutable 
point=(2,3)
type(point)


# sets >> are unordere collection of unique elements
s={"red","orange"}
type(s)
s={"red","orange","red"}
s



#s[0] # error 
s.add(3)


s


s.remove("red")


s


# dictionary
phonebook ={"Dad":1234,"mom":456}
type(phonebook)



phonebook["Dad"]


phonebook.keys()
phonebook.values()


from array import array



# array is homogenous 



array("i",[1,2,3,4])


# string
st="string"
for i in s :
    print(s)


"I' am a student "


''' I study in pw skills 
i am learning data scinetist '''


#concatation
"hello" + " world"


#extraxtion /slicing of string
a="piyush is learning data science "
a[2:4] //index 4 in exclusive


a[:-2] # 'piyush is learning data scienc'



a[0:5:2] # step = 2 pys


a[:] #'piyush is learning data science 


a[::2] #'pys slann aasine'


a[::-1] # reverse ' ecneics atad gninrael si hsuyip'


#strings are imutable
#a[0] ="we"# error


#length of string
len(a)


#modification of string
a.replace("piyush","mridul")


a.lower()
a.upper()
a.swapcase()
a.capitalize()
a # wiil not get changed 


#searching
"piyush"in a


#string comparision
str1="hello"
str2="world"
str1==str2


name=["piyush","mridul"]
sorted(name)


a="        piyush        "
a.strip()


 # string spliting
data="piyush,mridul,shivansh"
data.split(',')



