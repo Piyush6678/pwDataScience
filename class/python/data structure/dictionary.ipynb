{
 "cells": [
  {
   "cell_type": "code",
   "execution_count": 3,
   "id": "4431e197-4a78-484b-bae1-72fa611d02a3",
   "metadata": {},
   "outputs": [],
   "source": [
    "# dictionary store key and value keys are uniwue and immutable "
   ]
  },
  {
   "cell_type": "code",
   "execution_count": 5,
   "id": "7c5ee9ba-adb7-4f77-9987-ea9c56352216",
   "metadata": {},
   "outputs": [
    {
     "data": {
      "text/plain": [
       "dict"
      ]
     },
     "execution_count": 5,
     "metadata": {},
     "output_type": "execute_result"
    }
   ],
   "source": [
    "d={}\n",
    "type(d)"
   ]
  },
  {
   "cell_type": "code",
   "execution_count": 7,
   "id": "1a8d7090-1839-490d-b282-0dd5190b900d",
   "metadata": {},
   "outputs": [
    {
     "data": {
      "text/plain": [
       "{'name': 'Piyush', 'email': 'lopiyush@gmail.com', 'rollno.': '10'}"
      ]
     },
     "execution_count": 7,
     "metadata": {},
     "output_type": "execute_result"
    }
   ],
   "source": [
    "d={\"name\":\"Piyush\" ,\"email\" :\"lopiyush@gmail.com\" ,\"rollno.\" : \"10\"}\n",
    "d"
   ]
  },
  {
   "cell_type": "code",
   "execution_count": 12,
   "id": "486f0994-d643-4265-a6da-b62b218ed1f6",
   "metadata": {},
   "outputs": [
    {
     "data": {
      "text/plain": [
       "'Piyush'"
      ]
     },
     "execution_count": 12,
     "metadata": {},
     "output_type": "execute_result"
    }
   ],
   "source": [
    "d[\"name\"] # Piyush\n"
   ]
  },
  {
   "cell_type": "code",
   "execution_count": 14,
   "id": "cf41a577-1192-4719-9a93-02c3c2b12e17",
   "metadata": {},
   "outputs": [],
   "source": [
    "d[\"name\"]=\"Mridul\""
   ]
  },
  {
   "cell_type": "code",
   "execution_count": 16,
   "id": "def31433-e975-40b7-ba10-95883e668cd7",
   "metadata": {},
   "outputs": [
    {
     "data": {
      "text/plain": [
       "{'name': 'Mridul', 'email': 'lopiyush@gmail.com', 'rollno.': '10'}"
      ]
     },
     "execution_count": 16,
     "metadata": {},
     "output_type": "execute_result"
    }
   ],
   "source": [
    "d"
   ]
  },
  {
   "cell_type": "code",
   "execution_count": 18,
   "id": "884c7985-dc97-4159-94a1-c99f44d9e76a",
   "metadata": {},
   "outputs": [],
   "source": [
    "d2={\"add\":\"shahdara\"}\n",
    "# cant access using value"
   ]
  },
  {
   "cell_type": "code",
   "execution_count": 20,
   "id": "2fd358ca-9379-4be4-81c3-72cce5e2903d",
   "metadata": {},
   "outputs": [],
   "source": [
    "# key can be number string boolean tuple\n",
    "# key cant be special character list,set(mutable) dictionary\n",
    "# key should be unique last key valuye be used \n"
   ]
  },
  {
   "cell_type": "code",
   "execution_count": 22,
   "id": "cdc98b54-66f4-42c9-aa1c-d87f02bd6422",
   "metadata": {},
   "outputs": [],
   "source": [
    "# valuse can be number string list set tuple  "
   ]
  },
  {
   "cell_type": "code",
   "execution_count": 24,
   "id": "f7339a0b-004d-4f0c-98b2-37ce730b5b8e",
   "metadata": {},
   "outputs": [],
   "source": [
    "d[\"address\"]=\"delhi\" # new key value pair "
   ]
  },
  {
   "cell_type": "code",
   "execution_count": 26,
   "id": "bbb2a36d-0f91-4625-912e-10b00c4df313",
   "metadata": {},
   "outputs": [
    {
     "data": {
      "text/plain": [
       "{'name': 'Mridul',\n",
       " 'email': 'lopiyush@gmail.com',\n",
       " 'rollno.': '10',\n",
       " 'address': 'delhi'}"
      ]
     },
     "execution_count": 26,
     "metadata": {},
     "output_type": "execute_result"
    }
   ],
   "source": [
    "d"
   ]
  },
  {
   "cell_type": "code",
   "execution_count": null,
   "id": "9c2c260f-5395-4cf4-94d8-1e63d5563f47",
   "metadata": {},
   "outputs": [],
   "source": [
    "del d [\"address\"]\n",
    "d.clear()"
   ]
  },
  {
   "cell_type": "code",
   "execution_count": 28,
   "id": "70e65365-7a02-45e7-b981-2be01d5dedf6",
   "metadata": {},
   "outputs": [
    {
     "data": {
      "text/plain": [
       "4"
      ]
     },
     "execution_count": 28,
     "metadata": {},
     "output_type": "execute_result"
    }
   ],
   "source": [
    "len(d)"
   ]
  },
  {
   "cell_type": "code",
   "execution_count": 30,
   "id": "4d07ee89-d78c-4317-b7b9-4927aa012db1",
   "metadata": {},
   "outputs": [
    {
     "data": {
      "text/plain": [
       "dict_keys(['name', 'email', 'rollno.', 'address'])"
      ]
     },
     "execution_count": 30,
     "metadata": {},
     "output_type": "execute_result"
    }
   ],
   "source": [
    "d.keys()"
   ]
  },
  {
   "cell_type": "code",
   "execution_count": 32,
   "id": "853dd952-e085-4baa-9c99-9185e327f170",
   "metadata": {},
   "outputs": [
    {
     "data": {
      "text/plain": [
       "dict_values(['Mridul', 'lopiyush@gmail.com', '10', 'delhi'])"
      ]
     },
     "execution_count": 32,
     "metadata": {},
     "output_type": "execute_result"
    }
   ],
   "source": [
    "d.values()"
   ]
  },
  {
   "cell_type": "code",
   "execution_count": 34,
   "id": "2b85fbde-c932-40c5-b569-8405ec649200",
   "metadata": {},
   "outputs": [],
   "source": [
    "d3=d.copy()"
   ]
  },
  {
   "cell_type": "code",
   "execution_count": 36,
   "id": "48b2a61f-64cd-4206-9592-4e99d2c8ec6a",
   "metadata": {},
   "outputs": [],
   "source": [
    "del d"
   ]
  },
  {
   "cell_type": "code",
   "execution_count": 40,
   "id": "c23ecd47-9323-42c1-b28c-80441b60cbc4",
   "metadata": {},
   "outputs": [
    {
     "data": {
      "text/plain": [
       "{'name': 'Mridul',\n",
       " 'email': 'lopiyush@gmail.com',\n",
       " 'rollno.': '10',\n",
       " 'address': 'delhi'}"
      ]
     },
     "execution_count": 40,
     "metadata": {},
     "output_type": "execute_result"
    }
   ],
   "source": [
    "d3\n"
   ]
  },
  {
   "cell_type": "code",
   "execution_count": 44,
   "id": "4296be97-0600-4176-9789-bf3f864f1c62",
   "metadata": {},
   "outputs": [
    {
     "data": {
      "text/plain": [
       "'10'"
      ]
     },
     "execution_count": 44,
     "metadata": {},
     "output_type": "execute_result"
    }
   ],
   "source": [
    "d3.pop(\"rollno.\")"
   ]
  },
  {
   "cell_type": "code",
   "execution_count": 46,
   "id": "634b76e9-9b17-42f0-b611-b43ff9b3d62f",
   "metadata": {},
   "outputs": [],
   "source": [
    "d1={\"course\":\"ds\"}\n",
    "d3.update(d1)"
   ]
  },
  {
   "cell_type": "code",
   "execution_count": 48,
   "id": "483cbdcc-de69-481a-9cca-1d3e850deba6",
   "metadata": {},
   "outputs": [
    {
     "data": {
      "text/plain": [
       "{'name': 'Mridul',\n",
       " 'email': 'lopiyush@gmail.com',\n",
       " 'address': 'delhi',\n",
       " 'course': 'ds'}"
      ]
     },
     "execution_count": 48,
     "metadata": {},
     "output_type": "execute_result"
    }
   ],
   "source": [
    "d3"
   ]
  },
  {
   "cell_type": "code",
   "execution_count": 52,
   "id": "999ebffe-7e8b-4910-a597-bc3c6ea738ec",
   "metadata": {},
   "outputs": [
    {
     "data": {
      "text/plain": [
       "'Mridul'"
      ]
     },
     "execution_count": 52,
     "metadata": {},
     "output_type": "execute_result"
    }
   ],
   "source": [
    "d3.get(\"name\")"
   ]
  },
  {
   "cell_type": "code",
   "execution_count": 56,
   "id": "80c4eb2a-f109-470a-b734-407eacddcdd8",
   "metadata": {},
   "outputs": [
    {
     "data": {
      "text/plain": [
       "'ds'"
      ]
     },
     "execution_count": 56,
     "metadata": {},
     "output_type": "execute_result"
    }
   ],
   "source": [
    "d3[\"course\"]"
   ]
  },
  {
   "cell_type": "code",
   "execution_count": 58,
   "id": "bf7b0c3b-2b7d-425a-b040-535a1ccd96c7",
   "metadata": {},
   "outputs": [
    {
     "data": {
      "text/plain": [
       "{1: ('a', 'b', 'c'), 2: ('a', 'b', 'c'), 3: ('a', 'b', 'c')}"
      ]
     },
     "execution_count": 58,
     "metadata": {},
     "output_type": "execute_result"
    }
   ],
   "source": [
    "d3.fromkeys((1,2,3),(\"a\",\"b\",\"c\"))"
   ]
  },
  {
   "cell_type": "code",
   "execution_count": 62,
   "id": "b0994ff9-6b96-4180-9f1c-9c37b1fc28cf",
   "metadata": {},
   "outputs": [],
   "source": [
    "# dict comprehension\n",
    "# zip function \n",
    "students=[\"Arun\",\"Ajay\",\"Bijay\"]\n",
    "marks=[80,95,100]\n",
    "students_marks={}\n",
    "for  student,mark in zip(students,marks):\n",
    "    students_marks[student]=mark\n",
    "    "
   ]
  },
  {
   "cell_type": "code",
   "execution_count": 64,
   "id": "5d4b9586-7855-4ac7-87ec-964711ae3891",
   "metadata": {},
   "outputs": [
    {
     "data": {
      "text/plain": [
       "{'Arun': 80, 'Ajay': 95, 'Bijay': 100}"
      ]
     },
     "execution_count": 64,
     "metadata": {},
     "output_type": "execute_result"
    }
   ],
   "source": [
    "students_marks"
   ]
  },
  {
   "cell_type": "code",
   "execution_count": 66,
   "id": "a9224076-d8f9-48af-aa3e-191136ac65ca",
   "metadata": {},
   "outputs": [
    {
     "data": {
      "text/plain": [
       "{'Arun': 80, 'Ajay': 95, 'Bijay': 100}"
      ]
     },
     "execution_count": 66,
     "metadata": {},
     "output_type": "execute_result"
    }
   ],
   "source": [
    "# using dictionary comprehension\n",
    "{student:mark for student ,mark in zip(students,marks)}"
   ]
  },
  {
   "cell_type": "code",
   "execution_count": null,
   "id": "1da3ddc7-b876-43d6-9c13-5a80b72601c6",
   "metadata": {},
   "outputs": [],
   "source": []
  }
 ],
 "metadata": {
  "kernelspec": {
   "display_name": "Python 3 (ipykernel)",
   "language": "python",
   "name": "python3"
  },
  "language_info": {
   "codemirror_mode": {
    "name": "ipython",
    "version": 3
   },
   "file_extension": ".py",
   "mimetype": "text/x-python",
   "name": "python",
   "nbconvert_exporter": "python",
   "pygments_lexer": "ipython3",
   "version": "3.12.7"
  }
 },
 "nbformat": 4,
 "nbformat_minor": 5
}
