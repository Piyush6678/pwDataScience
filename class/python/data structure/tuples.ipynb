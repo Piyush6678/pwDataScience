{
 "cells": [
  {
   "cell_type": "code",
   "execution_count": 1,
   "id": "e1aee841-2252-4595-8274-20bc85bf3f13",
   "metadata": {},
   "outputs": [],
   "source": [
    "# tuples >> orderd colection of data type heterogenous immutable "
   ]
  },
  {
   "cell_type": "code",
   "execution_count": 5,
   "id": "e9de92f7-4a3d-4831-ad9e-f9c7f3182015",
   "metadata": {},
   "outputs": [
    {
     "data": {
      "text/plain": [
       "tuple"
      ]
     },
     "execution_count": 5,
     "metadata": {},
     "output_type": "execute_result"
    }
   ],
   "source": [
    "t=()\n",
    "type(t)"
   ]
  },
  {
   "cell_type": "code",
   "execution_count": 13,
   "id": "4cd95ca4-aab4-4763-af79-5f8df2d2ff80",
   "metadata": {},
   "outputs": [
    {
     "data": {
      "text/plain": [
       "43"
      ]
     },
     "execution_count": 13,
     "metadata": {},
     "output_type": "execute_result"
    }
   ],
   "source": [
    "t=(\"piyush\",\"ajay\",1,1,1,43,True,3+5j)\n",
    "t[1] # ajay\n",
    "t[-3] # 43"
   ]
  },
  {
   "cell_type": "code",
   "execution_count": 11,
   "id": "63bd8040-66e2-41d1-8de9-7c8af884c5e5",
   "metadata": {},
   "outputs": [
    {
     "ename": "TypeError",
     "evalue": "'tuple' object does not support item assignment",
     "output_type": "error",
     "traceback": [
      "\u001b[1;31m---------------------------------------------------------------------------\u001b[0m",
      "\u001b[1;31mTypeError\u001b[0m                                 Traceback (most recent call last)",
      "Cell \u001b[1;32mIn[11], line 1\u001b[0m\n\u001b[1;32m----> 1\u001b[0m t[\u001b[38;5;241m0\u001b[39m]\u001b[38;5;241m=\u001b[39m\u001b[38;5;241m100\u001b[39m\n",
      "\u001b[1;31mTypeError\u001b[0m: 'tuple' object does not support item assignment"
     ]
    }
   ],
   "source": [
    "# t[0]=100 # immutable give error"
   ]
  },
  {
   "cell_type": "code",
   "execution_count": 15,
   "id": "3a1a82fc-e989-4db2-bce0-065d4e4b5a36",
   "metadata": {},
   "outputs": [
    {
     "data": {
      "text/plain": [
       "4"
      ]
     },
     "execution_count": 15,
     "metadata": {},
     "output_type": "execute_result"
    }
   ],
   "source": [
    "t.count(1)"
   ]
  },
  {
   "cell_type": "code",
   "execution_count": 17,
   "id": "7f54c40f-0052-4c2c-b9ac-e33934bca4a5",
   "metadata": {},
   "outputs": [
    {
     "data": {
      "text/plain": [
       "2"
      ]
     },
     "execution_count": 17,
     "metadata": {},
     "output_type": "execute_result"
    }
   ],
   "source": [
    "t.index(1)"
   ]
  },
  {
   "cell_type": "code",
   "execution_count": 21,
   "id": "611f9bd6-3dca-45be-b877-2538a04c30da",
   "metadata": {},
   "outputs": [
    {
     "data": {
      "text/plain": [
       "('piyush',\n",
       " 'ajay',\n",
       " 1,\n",
       " 1,\n",
       " 1,\n",
       " 43,\n",
       " True,\n",
       " (3+5j),\n",
       " 'piyush',\n",
       " 'ajay',\n",
       " 1,\n",
       " 1,\n",
       " 1,\n",
       " 43,\n",
       " True,\n",
       " (3+5j))"
      ]
     },
     "execution_count": 21,
     "metadata": {},
     "output_type": "execute_result"
    }
   ],
   "source": [
    "t*2"
   ]
  },
  {
   "cell_type": "code",
   "execution_count": 25,
   "id": "4995ac91-7c89-475d-98e7-5df10d5bff91",
   "metadata": {},
   "outputs": [
    {
     "data": {
      "text/plain": [
       "('ajay', 1, 1)"
      ]
     },
     "execution_count": 25,
     "metadata": {},
     "output_type": "execute_result"
    }
   ],
   "source": [
    "t[1:4]"
   ]
  },
  {
   "cell_type": "code",
   "execution_count": 27,
   "id": "a75fd051-3002-4ebf-bf52-2299a00657ec",
   "metadata": {},
   "outputs": [
    {
     "data": {
      "text/plain": [
       "((3+5j), True, 43, 1, 1, 1, 'ajay', 'piyush')"
      ]
     },
     "execution_count": 27,
     "metadata": {},
     "output_type": "execute_result"
    }
   ],
   "source": [
    "t[::-1]"
   ]
  },
  {
   "cell_type": "code",
   "execution_count": 35,
   "id": "3a0e1803-f8bf-4983-bdd9-8fdf0e4e9690",
   "metadata": {},
   "outputs": [
    {
     "name": "stdout",
     "output_type": "stream",
     "text": [
      "piyush <class 'str'>\n",
      "ajay <class 'str'>\n",
      "1 <class 'int'>\n",
      "1 <class 'int'>\n",
      "1 <class 'int'>\n",
      "43 <class 'int'>\n",
      "True <class 'bool'>\n",
      "(3+5j) <class 'complex'>\n"
     ]
    }
   ],
   "source": [
    "for i in t:\n",
    "    print(i,type(i))"
   ]
  },
  {
   "cell_type": "code",
   "execution_count": 43,
   "id": "5022740d-3ed5-495b-83cd-5e7c28a7341f",
   "metadata": {},
   "outputs": [
    {
     "data": {
      "text/plain": [
       "1"
      ]
     },
     "execution_count": 43,
     "metadata": {},
     "output_type": "execute_result"
    }
   ],
   "source": [
    "t2=(1,2,3,5,4,8,52,74,2,4)\n",
    "max(t2)\n",
    "min(t2)"
   ]
  },
  {
   "cell_type": "code",
   "execution_count": 47,
   "id": "b5fb4f1f-394a-4f0f-99d4-dee641850b36",
   "metadata": {},
   "outputs": [
    {
     "data": {
      "text/plain": [
       "((50, 60, 40), (1, 2, 3, 5, 4, 8, 52, 74, 2, 4))"
      ]
     },
     "execution_count": 47,
     "metadata": {},
     "output_type": "execute_result"
    }
   ],
   "source": [
    "t1=(50,60,40)\n",
    "t3=(t1,t2)\n",
    "t3"
   ]
  },
  {
   "cell_type": "code",
   "execution_count": 49,
   "id": "b902dd40-16a5-4f5a-b6df-4995456a56c8",
   "metadata": {},
   "outputs": [],
   "source": [
    "del t3"
   ]
  },
  {
   "cell_type": "code",
   "execution_count": 51,
   "id": "6d16511e-28e0-4424-b649-5dea124fbc5a",
   "metadata": {},
   "outputs": [
    {
     "data": {
      "text/plain": [
       "10"
      ]
     },
     "execution_count": 51,
     "metadata": {},
     "output_type": "execute_result"
    }
   ],
   "source": [
    "len(t2)"
   ]
  },
  {
   "cell_type": "code",
   "execution_count": 55,
   "id": "82646f46-4267-45f3-95d8-16018fb24dd7",
   "metadata": {},
   "outputs": [
    {
     "data": {
      "text/plain": [
       "True"
      ]
     },
     "execution_count": 55,
     "metadata": {},
     "output_type": "execute_result"
    }
   ],
   "source": [
    "1 in t1\n",
    "1 not in t1"
   ]
  },
  {
   "cell_type": "code",
   "execution_count": 57,
   "id": "c73172ea-3089-43d9-889d-5441965fb364",
   "metadata": {},
   "outputs": [
    {
     "data": {
      "text/plain": [
       "(50, 60, 40, 1, 2, 3, 5, 4, 8, 52, 74, 2, 4)"
      ]
     },
     "execution_count": 57,
     "metadata": {},
     "output_type": "execute_result"
    }
   ],
   "source": [
    "t1+t2"
   ]
  },
  {
   "cell_type": "code",
   "execution_count": 59,
   "id": "d5613a3b-9462-499b-a01a-a18a5a8dd2b8",
   "metadata": {},
   "outputs": [],
   "source": [
    "# sets\n",
    "#>> unordered and unique collection \n",
    "# >> doesnot allow duplicate entry"
   ]
  },
  {
   "cell_type": "code",
   "execution_count": 61,
   "id": "046372f8-022f-4f34-9987-51e07f80a58a",
   "metadata": {},
   "outputs": [
    {
     "data": {
      "text/plain": [
       "set"
      ]
     },
     "execution_count": 61,
     "metadata": {},
     "output_type": "execute_result"
    }
   ],
   "source": [
    "s={1,2,3,4}\n",
    "type(s)\n"
   ]
  },
  {
   "cell_type": "code",
   "execution_count": 63,
   "id": "5b0ace26-a1da-4e5a-b03c-4db25e33fbbe",
   "metadata": {},
   "outputs": [
    {
     "data": {
      "text/plain": [
       "{1, 2, 3, 'Ajay', 'ajay'}"
      ]
     },
     "execution_count": 63,
     "metadata": {},
     "output_type": "execute_result"
    }
   ],
   "source": [
    "s={1,2,3,1,1,\"Ajay\",\"ajay\",\"Ajay\"}\n",
    "s #{1, 2, 3, 'Ajay', 'ajay'}"
   ]
  },
  {
   "cell_type": "code",
   "execution_count": 67,
   "id": "daa0f27f-7f8c-45a3-af3e-2080d0229d87",
   "metadata": {},
   "outputs": [],
   "source": [
    "# use case\n",
    "list1 =[1,2,3,\"Brinjal\",\"Brinjal\",\"Apple\",\"Apple\"]\n",
    "s2=set(list1)"
   ]
  },
  {
   "cell_type": "code",
   "execution_count": 69,
   "id": "e1dd5a6f-c229-4fa4-a9f0-b65f0939b2d1",
   "metadata": {},
   "outputs": [
    {
     "data": {
      "text/plain": [
       "{1, 2, 3, 'Apple', 'Brinjal'}"
      ]
     },
     "execution_count": 69,
     "metadata": {},
     "output_type": "execute_result"
    }
   ],
   "source": [
    "s2 #{1, 2, 3, 'Apple', 'Brinjal'}"
   ]
  },
  {
   "cell_type": "code",
   "execution_count": 71,
   "id": "75e685fa-ccc3-408e-9313-ae64a812de91",
   "metadata": {},
   "outputs": [],
   "source": [
    "list2=list(s2)"
   ]
  },
  {
   "cell_type": "code",
   "execution_count": 73,
   "id": "3acf7979-a8b2-405b-a4c5-e92e59dad777",
   "metadata": {},
   "outputs": [
    {
     "ename": "SyntaxError",
     "evalue": "invalid syntax (3596539804.py, line 1)",
     "output_type": "error",
     "traceback": [
      "\u001b[1;36m  Cell \u001b[1;32mIn[73], line 1\u001b[1;36m\u001b[0m\n\u001b[1;33m    s={1,1,2,,5,14,62,{1,2},1}# set inside set must be immutable\u001b[0m\n\u001b[1;37m             ^\u001b[0m\n\u001b[1;31mSyntaxError\u001b[0m\u001b[1;31m:\u001b[0m invalid syntax\n"
     ]
    }
   ],
   "source": [
    "s={1,1,2,5,14,62,{1,2},1}# set inside set must be immutable \n",
    "s=[1,2,3,4,[4,5,2]]\n",
    "\n"
   ]
  },
  {
   "cell_type": "code",
   "execution_count": 77,
   "id": "bef99a08-93bc-4e7a-8f3f-17524d1f0224",
   "metadata": {},
   "outputs": [
    {
     "data": {
      "text/plain": [
       "{(4, 5, 78), 1, 2, 4, 5}"
      ]
     },
     "execution_count": 77,
     "metadata": {},
     "output_type": "execute_result"
    }
   ],
   "source": [
    "s={1,2,4,5,2,1,4,(4,5,78)}\n",
    "s"
   ]
  },
  {
   "cell_type": "code",
   "execution_count": 81,
   "id": "deb4cc15-24a6-4938-9e32-f0eabc8fc4d0",
   "metadata": {},
   "outputs": [
    {
     "name": "stdout",
     "output_type": "stream",
     "text": [
      "1\n",
      "2\n",
      "4\n",
      "5\n",
      "(4, 5, 78)\n"
     ]
    }
   ],
   "source": [
    "for i in s:\n",
    "    print(i)"
   ]
  },
  {
   "cell_type": "code",
   "execution_count": 85,
   "id": "d0bb9864-8036-4e06-8bbf-d05772844aa0",
   "metadata": {},
   "outputs": [
    {
     "data": {
      "text/plain": [
       "{(4, 5, 78), 1, 100, 2, 4, 5}"
      ]
     },
     "execution_count": 85,
     "metadata": {},
     "output_type": "execute_result"
    }
   ],
   "source": [
    "# it is mutable\n",
    "s.add(100)\n",
    "s"
   ]
  },
  {
   "cell_type": "code",
   "execution_count": 89,
   "id": "8c57aab4-9b45-4693-9f2c-9fe4225eb130",
   "metadata": {},
   "outputs": [
    {
     "data": {
      "text/plain": [
       "1"
      ]
     },
     "execution_count": 89,
     "metadata": {},
     "output_type": "execute_result"
    }
   ],
   "source": [
    "s.pop()  "
   ]
  },
  {
   "cell_type": "code",
   "execution_count": 91,
   "id": "b3d8f1ae-c6cd-41d8-8a16-36c2d495e567",
   "metadata": {},
   "outputs": [],
   "source": [
    "s.remove(2)"
   ]
  },
  {
   "cell_type": "code",
   "execution_count": 97,
   "id": "86bcf248-639d-48c8-bad3-2fbd28aa755e",
   "metadata": {},
   "outputs": [],
   "source": [
    "s.update(\"Ajay\")\n",
    "s\n",
    "s.update([\"Ajay\"])"
   ]
  },
  {
   "cell_type": "code",
   "execution_count": 99,
   "id": "36b6d3d6-28cd-440b-9b4f-47dcbfb6dee3",
   "metadata": {},
   "outputs": [],
   "source": [
    "s.update([2,5])"
   ]
  },
  {
   "cell_type": "code",
   "execution_count": null,
   "id": "b4817775-a81e-418b-be1f-5a1e4431ffb6",
   "metadata": {},
   "outputs": [],
   "source": [
    "s.clear()\n",
    "del s"
   ]
  },
  {
   "cell_type": "code",
   "execution_count": 101,
   "id": "0d52781f-94fc-4be7-b63e-2fee85bb2d22",
   "metadata": {},
   "outputs": [],
   "source": [
    "s.discard(123) # doesnot give error remove will thrown error"
   ]
  },
  {
   "cell_type": "code",
   "execution_count": null,
   "id": "06cc879f-10de-40c6-8cff-96f1d8af69cf",
   "metadata": {},
   "outputs": [],
   "source": []
  }
 ],
 "metadata": {
  "kernelspec": {
   "display_name": "Python 3 (ipykernel)",
   "language": "python",
   "name": "python3"
  },
  "language_info": {
   "codemirror_mode": {
    "name": "ipython",
    "version": 3
   },
   "file_extension": ".py",
   "mimetype": "text/x-python",
   "name": "python",
   "nbconvert_exporter": "python",
   "pygments_lexer": "ipython3",
   "version": "3.12.7"
  }
 },
 "nbformat": 4,
 "nbformat_minor": 5
}
