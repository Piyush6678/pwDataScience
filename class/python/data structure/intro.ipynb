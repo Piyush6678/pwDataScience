{
 "cells": [
  {
   "cell_type": "code",
   "execution_count": 1,
   "id": "7876167a-1cb9-43ea-8c4b-bc0943337e93",
   "metadata": {},
   "outputs": [
    {
     "data": {
      "text/plain": [
       "list"
      ]
     },
     "execution_count": 1,
     "metadata": {},
     "output_type": "execute_result"
    }
   ],
   "source": [
    "# list >> you can store hetrogenous data\n",
    "#list are mutable\n",
    "num=[1,2,3,4]\n",
    "type(num)"
   ]
  },
  {
   "cell_type": "code",
   "execution_count": 5,
   "id": "87f68b64-6ac6-4728-991b-46350e184d34",
   "metadata": {},
   "outputs": [
    {
     "data": {
      "text/plain": [
       "1"
      ]
     },
     "execution_count": 5,
     "metadata": {},
     "output_type": "execute_result"
    }
   ],
   "source": [
    "num[-1] #4\n",
    "num[0] #1"
   ]
  },
  {
   "cell_type": "code",
   "execution_count": 9,
   "id": "7800aba4-00b9-48a9-99f3-5a6a19a753b1",
   "metadata": {},
   "outputs": [
    {
     "data": {
      "text/plain": [
       "[1, 2, 3, 4, 5, 'hello', 5, 'hello', 'hello']"
      ]
     },
     "execution_count": 9,
     "metadata": {},
     "output_type": "execute_result"
    }
   ],
   "source": [
    "# adding ele to lis \n",
    "num.append(5)\n",
    "num.append(\"hello\")\n",
    "num\n",
    "num.append(\"hello\")\n",
    "num"
   ]
  },
  {
   "cell_type": "code",
   "execution_count": 21,
   "id": "a28c04cb-ce1d-4a16-95c4-2fedef1d94a0",
   "metadata": {},
   "outputs": [],
   "source": [
    "num.remove(\"hello\")"
   ]
  },
  {
   "cell_type": "code",
   "execution_count": 23,
   "id": "128501e8-ed0d-4aaa-9154-6079ce4ff8ba",
   "metadata": {},
   "outputs": [
    {
     "data": {
      "text/plain": [
       "[1, 2, 3, 4, 5, 5]"
      ]
     },
     "execution_count": 23,
     "metadata": {},
     "output_type": "execute_result"
    }
   ],
   "source": [
    "num"
   ]
  },
  {
   "cell_type": "code",
   "execution_count": 25,
   "id": "8f03668d-ec22-4882-a360-e3d9ff2301da",
   "metadata": {},
   "outputs": [],
   "source": [
    "lis=[123,[3,6,5,4]] #list of list\n",
    "# list is mutable\n",
    "lis[0]=[\"apple\",\"orange\",\"baingan\"]"
   ]
  },
  {
   "cell_type": "code",
   "execution_count": 27,
   "id": "7921004d-5785-465b-9f20-2010c44f75eb",
   "metadata": {},
   "outputs": [
    {
     "data": {
      "text/plain": [
       "[['apple', 'orange', 'baingan'], [3, 6, 5, 4]]"
      ]
     },
     "execution_count": 27,
     "metadata": {},
     "output_type": "execute_result"
    }
   ],
   "source": [
    "lis"
   ]
  },
  {
   "cell_type": "code",
   "execution_count": 29,
   "id": "d5c45445-bdca-4db5-85d8-0746a7f22c3d",
   "metadata": {},
   "outputs": [
    {
     "data": {
      "text/plain": [
       "tuple"
      ]
     },
     "execution_count": 29,
     "metadata": {},
     "output_type": "execute_result"
    }
   ],
   "source": [
    "#tuples>> immutable \n",
    "point=(2,3)\n",
    "type(point)"
   ]
  },
  {
   "cell_type": "code",
   "execution_count": 37,
   "id": "4f21066c-cff9-4daf-8904-bd209dcdac7c",
   "metadata": {},
   "outputs": [
    {
     "data": {
      "text/plain": [
       "{'orange', 'red'}"
      ]
     },
     "execution_count": 37,
     "metadata": {},
     "output_type": "execute_result"
    }
   ],
   "source": [
    "# sets >> are unordere collection of unique elements\n",
    "s={\"red\",\"orange\"}\n",
    "type(s)\n",
    "s={\"red\",\"orange\",\"red\"}\n",
    "s\n"
   ]
  },
  {
   "cell_type": "code",
   "execution_count": 41,
   "id": "abff54fa-3802-49da-bfca-b9f1cb259a80",
   "metadata": {},
   "outputs": [],
   "source": [
    "#s[0] # error \n",
    "s.add(3)"
   ]
  },
  {
   "cell_type": "code",
   "execution_count": 43,
   "id": "5570f394-2464-43f1-a719-d513937abe7b",
   "metadata": {},
   "outputs": [
    {
     "data": {
      "text/plain": [
       "{3, 'orange', 'red'}"
      ]
     },
     "execution_count": 43,
     "metadata": {},
     "output_type": "execute_result"
    }
   ],
   "source": [
    "s"
   ]
  },
  {
   "cell_type": "code",
   "execution_count": 45,
   "id": "692bf46a-6dee-410c-a162-47ed1a84d8e3",
   "metadata": {},
   "outputs": [],
   "source": [
    "s.remove(\"red\")"
   ]
  },
  {
   "cell_type": "code",
   "execution_count": 47,
   "id": "f8f9e807-b62e-4488-8055-8796036775d2",
   "metadata": {},
   "outputs": [
    {
     "data": {
      "text/plain": [
       "{3, 'orange'}"
      ]
     },
     "execution_count": 47,
     "metadata": {},
     "output_type": "execute_result"
    }
   ],
   "source": [
    "s"
   ]
  },
  {
   "cell_type": "code",
   "execution_count": 51,
   "id": "602a8f41-5013-4884-a4d6-4a96a7b6b79d",
   "metadata": {},
   "outputs": [
    {
     "data": {
      "text/plain": [
       "dict"
      ]
     },
     "execution_count": 51,
     "metadata": {},
     "output_type": "execute_result"
    }
   ],
   "source": [
    "# dictionary\n",
    "phonebook ={\"Dad\":1234,\"mom\":456}\n",
    "type(phonebook)\n"
   ]
  },
  {
   "cell_type": "code",
   "execution_count": 53,
   "id": "99535dcf-6f76-46ca-9c17-ba578f8b5290",
   "metadata": {},
   "outputs": [
    {
     "data": {
      "text/plain": [
       "1234"
      ]
     },
     "execution_count": 53,
     "metadata": {},
     "output_type": "execute_result"
    }
   ],
   "source": [
    "phonebook[\"Dad\"]"
   ]
  },
  {
   "cell_type": "code",
   "execution_count": 59,
   "id": "36d60f13-4170-4fcf-b80f-0864ae7bcfc7",
   "metadata": {},
   "outputs": [
    {
     "data": {
      "text/plain": [
       "dict_values([1234, 456])"
      ]
     },
     "execution_count": 59,
     "metadata": {},
     "output_type": "execute_result"
    }
   ],
   "source": [
    "phonebook.keys()\n",
    "phonebook.values()"
   ]
  },
  {
   "cell_type": "code",
   "execution_count": 61,
   "id": "db2c4a48-d491-40a8-a41c-cdfa0552e80e",
   "metadata": {},
   "outputs": [],
   "source": [
    "from array import array\n"
   ]
  },
  {
   "cell_type": "code",
   "execution_count": 63,
   "id": "02ab62aa-89c0-48ba-8926-a279eb1f0b6d",
   "metadata": {},
   "outputs": [],
   "source": [
    "# array is homogenous \n"
   ]
  },
  {
   "cell_type": "code",
   "execution_count": 65,
   "id": "c2d239de-ca51-411a-ad51-8ff8031a3dce",
   "metadata": {},
   "outputs": [
    {
     "data": {
      "text/plain": [
       "array('i', [1, 2, 3, 4])"
      ]
     },
     "execution_count": 65,
     "metadata": {},
     "output_type": "execute_result"
    }
   ],
   "source": [
    "array(\"i\",[1,2,3,4])"
   ]
  },
  {
   "cell_type": "code",
   "execution_count": 69,
   "id": "b61bf6b2-5eae-4822-a168-1daf59b769af",
   "metadata": {},
   "outputs": [
    {
     "name": "stdout",
     "output_type": "stream",
     "text": [
      "{'orange', 3}\n",
      "{'orange', 3}\n"
     ]
    }
   ],
   "source": [
    "# string\n",
    "st=\"string\"\n",
    "for i in s :\n",
    "    print(s)"
   ]
  },
  {
   "cell_type": "code",
   "execution_count": 1,
   "id": "8ccc072c-1bb5-4eff-bb30-3522229f89f4",
   "metadata": {},
   "outputs": [
    {
     "data": {
      "text/plain": [
       "\"I' am a student \""
      ]
     },
     "execution_count": 1,
     "metadata": {},
     "output_type": "execute_result"
    }
   ],
   "source": [
    "\"I' am a student \""
   ]
  },
  {
   "cell_type": "code",
   "execution_count": 3,
   "id": "61824967-2bd1-4547-8d7f-9619fd81e5b2",
   "metadata": {},
   "outputs": [
    {
     "data": {
      "text/plain": [
       "' I study in pw skills \\ni am learning data scinetist '"
      ]
     },
     "execution_count": 3,
     "metadata": {},
     "output_type": "execute_result"
    }
   ],
   "source": [
    "''' I study in pw skills \n",
    "i am learning data scinetist '''"
   ]
  },
  {
   "cell_type": "code",
   "execution_count": 7,
   "id": "2d204625-164b-4626-994a-676092d513ae",
   "metadata": {},
   "outputs": [
    {
     "data": {
      "text/plain": [
       "'helloworld'"
      ]
     },
     "execution_count": 7,
     "metadata": {},
     "output_type": "execute_result"
    }
   ],
   "source": [
    "#concatation\n",
    "\"hello\" + \" world\""
   ]
  },
  {
   "cell_type": "code",
   "execution_count": 11,
   "id": "03767ca6-f3bc-49a3-bb0f-b9acbe9feac3",
   "metadata": {},
   "outputs": [
    {
     "data": {
      "text/plain": [
       "'yu'"
      ]
     },
     "execution_count": 11,
     "metadata": {},
     "output_type": "execute_result"
    }
   ],
   "source": [
    "#extraxtion /slicing of string\n",
    "a=\"piyush is learning data science \"\n",
    "a[2:4] //index 4 in exclusive"
   ]
  },
  {
   "cell_type": "code",
   "execution_count": 13,
   "id": "c7ab691e-63cb-4474-91ba-5d1e97f08a58",
   "metadata": {},
   "outputs": [
    {
     "data": {
      "text/plain": [
       "'piyush is learning data scienc'"
      ]
     },
     "execution_count": 13,
     "metadata": {},
     "output_type": "execute_result"
    }
   ],
   "source": [
    "a[:-2] # 'piyush is learning data scienc'\n"
   ]
  },
  {
   "cell_type": "code",
   "execution_count": 15,
   "id": "207c4244-21b0-4452-8347-4aea21835023",
   "metadata": {},
   "outputs": [
    {
     "data": {
      "text/plain": [
       "'pys'"
      ]
     },
     "execution_count": 15,
     "metadata": {},
     "output_type": "execute_result"
    }
   ],
   "source": [
    "a[0:5:2] # step = 2 pys"
   ]
  },
  {
   "cell_type": "code",
   "execution_count": 17,
   "id": "2c70ba7e-201c-4aa8-a7cd-86141a33a361",
   "metadata": {},
   "outputs": [
    {
     "data": {
      "text/plain": [
       "'piyush is learning data science '"
      ]
     },
     "execution_count": 17,
     "metadata": {},
     "output_type": "execute_result"
    }
   ],
   "source": [
    "a[:] #'piyush is learning data science "
   ]
  },
  {
   "cell_type": "code",
   "execution_count": 19,
   "id": "087f6c5f-a2c2-4ac2-922d-9a688d100844",
   "metadata": {},
   "outputs": [
    {
     "data": {
      "text/plain": [
       "'pys slann aasine'"
      ]
     },
     "execution_count": 19,
     "metadata": {},
     "output_type": "execute_result"
    }
   ],
   "source": [
    "a[::2] #'pys slann aasine'"
   ]
  },
  {
   "cell_type": "code",
   "execution_count": 21,
   "id": "446d0a14-2851-4fe2-8ba9-84b8086d9ae4",
   "metadata": {},
   "outputs": [
    {
     "data": {
      "text/plain": [
       "' ecneics atad gninrael si hsuyip'"
      ]
     },
     "execution_count": 21,
     "metadata": {},
     "output_type": "execute_result"
    }
   ],
   "source": [
    "a[::-1] # reverse ' ecneics atad gninrael si hsuyip'"
   ]
  },
  {
   "cell_type": "code",
   "execution_count": 23,
   "id": "bab3f1a1-fd6f-4a4c-bf86-3ca195bfa5a1",
   "metadata": {},
   "outputs": [
    {
     "ename": "TypeError",
     "evalue": "'str' object does not support item assignment",
     "output_type": "error",
     "traceback": [
      "\u001b[1;31m---------------------------------------------------------------------------\u001b[0m",
      "\u001b[1;31mTypeError\u001b[0m                                 Traceback (most recent call last)",
      "Cell \u001b[1;32mIn[23], line 2\u001b[0m\n\u001b[0;32m      1\u001b[0m \u001b[38;5;66;03m#strings are imutable\u001b[39;00m\n\u001b[1;32m----> 2\u001b[0m a[\u001b[38;5;241m0\u001b[39m] \u001b[38;5;241m=\u001b[39m\u001b[38;5;124m\"\u001b[39m\u001b[38;5;124mwe\u001b[39m\u001b[38;5;124m\"\u001b[39m\n",
      "\u001b[1;31mTypeError\u001b[0m: 'str' object does not support item assignment"
     ]
    }
   ],
   "source": [
    "#strings are imutable\n",
    "#a[0] =\"we\"# error"
   ]
  },
  {
   "cell_type": "code",
   "execution_count": 33,
   "id": "d7c310d4-fea8-4a1f-b74e-9fab4796deb6",
   "metadata": {},
   "outputs": [
    {
     "data": {
      "text/plain": [
       "32"
      ]
     },
     "execution_count": 33,
     "metadata": {},
     "output_type": "execute_result"
    }
   ],
   "source": [
    "#length of string\n",
    "len(a)"
   ]
  },
  {
   "cell_type": "code",
   "execution_count": 35,
   "id": "2036b5b4-c1d1-4190-811a-a2ed7cff9653",
   "metadata": {},
   "outputs": [
    {
     "data": {
      "text/plain": [
       "'mridul is learning data science '"
      ]
     },
     "execution_count": 35,
     "metadata": {},
     "output_type": "execute_result"
    }
   ],
   "source": [
    "#modification of string\n",
    "a.replace(\"piyush\",\"mridul\")"
   ]
  },
  {
   "cell_type": "code",
   "execution_count": 41,
   "id": "f2d20afe-55cb-47fc-874f-71edbc4a71f3",
   "metadata": {},
   "outputs": [
    {
     "data": {
      "text/plain": [
       "'piyush is learning data science '"
      ]
     },
     "execution_count": 41,
     "metadata": {},
     "output_type": "execute_result"
    }
   ],
   "source": [
    "a.lower()\n",
    "a.upper()\n",
    "a.swapcase()\n",
    "a.capitalize()\n",
    "a # wiil not get changed "
   ]
  },
  {
   "cell_type": "code",
   "execution_count": 43,
   "id": "6ef09ffa-ccc0-47a9-832f-2c21c7e1ba7b",
   "metadata": {},
   "outputs": [
    {
     "data": {
      "text/plain": [
       "True"
      ]
     },
     "execution_count": 43,
     "metadata": {},
     "output_type": "execute_result"
    }
   ],
   "source": [
    "#searching\n",
    "\"piyush\"in a"
   ]
  },
  {
   "cell_type": "code",
   "execution_count": 45,
   "id": "a31674f7-1145-4288-8977-7f36c9bc1659",
   "metadata": {},
   "outputs": [
    {
     "data": {
      "text/plain": [
       "False"
      ]
     },
     "execution_count": 45,
     "metadata": {},
     "output_type": "execute_result"
    }
   ],
   "source": [
    "#string comparision\n",
    "str1=\"hello\"\n",
    "str2=\"world\"\n",
    "str1==str2"
   ]
  },
  {
   "cell_type": "code",
   "execution_count": 47,
   "id": "2d4ef013-d66f-4bea-a5d2-4d142620fae2",
   "metadata": {},
   "outputs": [
    {
     "data": {
      "text/plain": [
       "['mridul', 'piyush']"
      ]
     },
     "execution_count": 47,
     "metadata": {},
     "output_type": "execute_result"
    }
   ],
   "source": [
    "name=[\"piyush\",\"mridul\"]\n",
    "sorted(name)"
   ]
  },
  {
   "cell_type": "code",
   "execution_count": 49,
   "id": "b58894bb-6e14-4220-8881-d5db2b5e906c",
   "metadata": {},
   "outputs": [
    {
     "data": {
      "text/plain": [
       "'piyush'"
      ]
     },
     "execution_count": 49,
     "metadata": {},
     "output_type": "execute_result"
    }
   ],
   "source": [
    "a=\"        piyush        \"\n",
    "a.strip()"
   ]
  },
  {
   "cell_type": "code",
   "execution_count": 51,
   "id": "93efa642-8237-44b1-bca0-72c7a68e0634",
   "metadata": {},
   "outputs": [
    {
     "data": {
      "text/plain": [
       "['piyush', 'mridul', 'shivansh']"
      ]
     },
     "execution_count": 51,
     "metadata": {},
     "output_type": "execute_result"
    }
   ],
   "source": [
    " # string spliting\n",
    "data=\"piyush,mridul,shivansh\"\n",
    "data.split(',')"
   ]
  },
  {
   "cell_type": "code",
   "execution_count": 53,
   "id": "ed432116-9d41-45fa-87d6-e6d42f9b7346",
   "metadata": {},
   "outputs": [],
   "source": [
    "# escape sequence\n",
    "address='''123, afeadsvijvnvv\n",
    "awfeff,\n",
    "faefefffaf'''\n",
    "#\\n>> new line\n",
    "#\\tab >>tab 4 spaces\n"
   ]
  },
  {
   "cell_type": "code",
   "execution_count": 55,
   "id": "122f7e65-1fee-44c6-a205-f0b92b61c8dd",
   "metadata": {},
   "outputs": [
    {
     "name": "stdout",
     "output_type": "stream",
     "text": [
      " i am piyush\n"
     ]
    }
   ],
   "source": [
    "# carriage return \\r>> moves the cursor in begining\n",
    "print(\"hello \\r i am piyush\")\n",
    "\n"
   ]
  },
  {
   "cell_type": "code",
   "execution_count": 57,
   "id": "5b0f5bc3-f7c9-482a-83ce-8ce7a01c0e56",
   "metadata": {},
   "outputs": [],
   "source": [
    "#string formating>> creating string with placeholder f strings>>formated string\n",
    "name=\"piyush\"\n",
    "greetings=f\"helo {name} ,how are your\""
   ]
  },
  {
   "cell_type": "code",
   "execution_count": 59,
   "id": "731c16b3-3445-4d90-a9e5-872808d16715",
   "metadata": {},
   "outputs": [],
   "source": [
    "#.format \n",
    "template='hello , {} welcome to {} '\n",
    "message=template.format(\"ajay\",\"datascience\")"
   ]
  },
  {
   "cell_type": "code",
   "execution_count": 61,
   "id": "4fa897cf-395a-4b73-b5b0-9e585510aa4a",
   "metadata": {},
   "outputs": [
    {
     "data": {
      "text/plain": [
       "False"
      ]
     },
     "execution_count": 61,
     "metadata": {},
     "output_type": "execute_result"
    }
   ],
   "source": [
    "a=\"piyush\"\n",
    "a.startswith(\"pi\")\n",
    "a.endswith(\"li\")"
   ]
  },
  {
   "cell_type": "code",
   "execution_count": null,
   "id": "0a2016e8-f1c0-4b2b-9a72-5570f4d2c541",
   "metadata": {},
   "outputs": [],
   "source": [
    "a=\"123ads\"\n",
    "a.isalnum()"
   ]
  }
 ],
 "metadata": {
  "kernelspec": {
   "display_name": "Python 3 (ipykernel)",
   "language": "python",
   "name": "python3"
  },
  "language_info": {
   "codemirror_mode": {
    "name": "ipython",
    "version": 3
   },
   "file_extension": ".py",
   "mimetype": "text/x-python",
   "name": "python",
   "nbconvert_exporter": "python",
   "pygments_lexer": "ipython3",
   "version": "3.12.7"
  }
 },
 "nbformat": 4,
 "nbformat_minor": 5
}
