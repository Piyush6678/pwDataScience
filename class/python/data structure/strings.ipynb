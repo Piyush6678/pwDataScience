{
 "cells": [
  {
   "cell_type": "code",
   "execution_count": 1,
   "id": "8528656f-55d9-4dd7-a9db-86a38241ca56",
   "metadata": {},
   "outputs": [],
   "source": [
    "# string is  sequence of character "
   ]
  },
  {
   "cell_type": "code",
   "execution_count": 9,
   "id": "623bde2f-5976-4ecf-b20c-2cb740f9b5cf",
   "metadata": {},
   "outputs": [
    {
     "data": {
      "text/plain": [
       "'A'"
      ]
     },
     "execution_count": 9,
     "metadata": {},
     "output_type": "execute_result"
    }
   ],
   "source": [
    "# ascii representation\n",
    "char =\"A\"\n",
    "ord(char) #>> ordina means what is numerical orer of character\n",
    "chr(65)\n"
   ]
  },
  {
   "cell_type": "code",
   "execution_count": 11,
   "id": "e5b4824f-2d86-4fc0-aaec-3f8df6be0373",
   "metadata": {},
   "outputs": [
    {
     "data": {
      "text/plain": [
       "97"
      ]
     },
     "execution_count": 11,
     "metadata": {},
     "output_type": "execute_result"
    }
   ],
   "source": [
    "ord(\"a\")"
   ]
  },
  {
   "cell_type": "code",
   "execution_count": 13,
   "id": "5adaae1b-9ee9-4495-b691-6a702722e135",
   "metadata": {},
   "outputs": [
    {
     "ename": "SyntaxError",
     "evalue": "unexpected character after line continuation character (68728143.py, line 1)",
     "output_type": "error",
     "traceback": [
      "\u001b[1;36m  Cell \u001b[1;32mIn[13], line 1\u001b[1;36m\u001b[0m\n\u001b[1;33m    chr(9\\)\u001b[0m\n\u001b[1;37m          ^\u001b[0m\n\u001b[1;31mSyntaxError\u001b[0m\u001b[1;31m:\u001b[0m unexpected character after line continuation character\n"
     ]
    }
   ],
   "source": [
    "chr(9)"
   ]
  },
  {
   "cell_type": "code",
   "execution_count": 15,
   "id": "0e07df0a-cc51-4bd9-bbd9-e29a9ccff3c8",
   "metadata": {},
   "outputs": [],
   "source": [
    "# unicode representation"
   ]
  },
  {
   "cell_type": "code",
   "execution_count": 33,
   "id": "72703310-3fbb-46a3-99fb-df31c6b6bffe",
   "metadata": {},
   "outputs": [
    {
     "data": {
      "text/plain": [
       "'ঀ'"
      ]
     },
     "execution_count": 33,
     "metadata": {},
     "output_type": "execute_result"
    }
   ],
   "source": [
    "'\\u0980'"
   ]
  },
  {
   "cell_type": "code",
   "execution_count": null,
   "id": "8e3e7029-0da6-4475-b113-865d05caa21d",
   "metadata": {},
   "outputs": [],
   "source": [
    "#srings\n",
    "\n",
    "string1=\"piyush\""
   ]
  }
 ],
 "metadata": {
  "kernelspec": {
   "display_name": "Python 3 (ipykernel)",
   "language": "python",
   "name": "python3"
  },
  "language_info": {
   "codemirror_mode": {
    "name": "ipython",
    "version": 3
   },
   "file_extension": ".py",
   "mimetype": "text/x-python",
   "name": "python",
   "nbconvert_exporter": "python",
   "pygments_lexer": "ipython3",
   "version": "3.12.7"
  }
 },
 "nbformat": 4,
 "nbformat_minor": 5
}
