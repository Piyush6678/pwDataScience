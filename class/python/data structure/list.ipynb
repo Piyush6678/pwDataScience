{
 "cells": [
  {
   "cell_type": "code",
   "execution_count": 1,
   "id": "cdf4cbe4-75f3-4c33-bb10-7965ed775f2a",
   "metadata": {},
   "outputs": [],
   "source": [
    "# list are ordered collection of items\n",
    "#[]\n"
   ]
  },
  {
   "cell_type": "code",
   "execution_count": 2,
   "id": "ffd1dd17-0505-444b-8aa1-b5529366551b",
   "metadata": {},
   "outputs": [
    {
     "data": {
      "text/plain": [
       "list"
      ]
     },
     "execution_count": 2,
     "metadata": {},
     "output_type": "execute_result"
    }
   ],
   "source": [
    "type([]) # list"
   ]
  },
  {
   "cell_type": "code",
   "execution_count": null,
   "id": "bfa3af88-ac0a-41bf-9616-10935100ded0",
   "metadata": {},
   "outputs": [],
   "source": []
  },
  {
   "cell_type": "code",
   "execution_count": 3,
   "id": "cd993375-d2a1-41ba-ae8b-874387cb5a2f",
   "metadata": {},
   "outputs": [
    {
     "data": {
      "text/plain": [
       "['apple', 'orange']"
      ]
     },
     "execution_count": 3,
     "metadata": {},
     "output_type": "execute_result"
    }
   ],
   "source": [
    "grocery_list=[\"milk\",\"orange\",1,3]\n",
    "# list are mutable\n",
    "grocery_list[0] =\"apple\"\n",
    "grocery_list[-1]=5\n",
    "grocery_list[1:] # orange 1 5\n",
    "grocery_list[1:3] # orange 1  \n",
    "grocery_list[:2] # apple orange"
   ]
  },
  {
   "cell_type": "code",
   "execution_count": 4,
   "id": "7e3cfe00-7d55-4310-bc0d-2476387ae2bc",
   "metadata": {},
   "outputs": [],
   "source": [
    "movies=[\"Action1\",\"Action2\"]"
   ]
  },
  {
   "cell_type": "code",
   "execution_count": 5,
   "id": "816bd316-40b4-4e6a-8c27-a8c5f35d3eb4",
   "metadata": {},
   "outputs": [
    {
     "data": {
      "text/plain": [
       "'conclusion'"
      ]
     },
     "execution_count": 5,
     "metadata": {},
     "output_type": "execute_result"
    }
   ],
   "source": [
    "book_pages=[\"title_page\",\" chap1\",\"chap2\",\"conclusion\"  ]\n",
    "book_pages[-1]"
   ]
  },
  {
   "cell_type": "code",
   "execution_count": 6,
   "id": "bcadbe3c-f2a6-4b8a-8dfd-d16bfe0dfc75",
   "metadata": {},
   "outputs": [],
   "source": [
    "grocery_list.append(\"banana\")"
   ]
  },
  {
   "cell_type": "code",
   "execution_count": 7,
   "id": "b48d7a42-3752-47e6-9822-c2d98e46a78a",
   "metadata": {},
   "outputs": [
    {
     "data": {
      "text/plain": [
       "['apple', 'potato', 'orange', 1, 5, 'banana']"
      ]
     },
     "execution_count": 7,
     "metadata": {},
     "output_type": "execute_result"
    }
   ],
   "source": [
    "grocery_list.insert(1,\"potato\")\n",
    "grocery_list\n"
   ]
  },
  {
   "cell_type": "code",
   "execution_count": 19,
   "id": "aeeaab6e-cec4-4718-be49-9dd6ede42b0f",
   "metadata": {},
   "outputs": [
    {
     "data": {
      "text/plain": [
       "['Ajay', 'Khusi', 'Aman', 'kishan']"
      ]
     },
     "execution_count": 19,
     "metadata": {},
     "output_type": "execute_result"
    }
   ],
   "source": [
    "# use case\n",
    "bus_seat=[\"Ajay\",\"Aman\",\"kishan\"]\n",
    "bus_seat.insert(1,\"Khusi\")\n",
    "bus_seat"
   ]
  },
  {
   "cell_type": "code",
   "execution_count": 21,
   "id": "023485cb-9357-412e-a57f-e24c8300579b",
   "metadata": {},
   "outputs": [],
   "source": [
    "# extend >> use to qappend from another list\n",
    "my_list=[\"Apple\",\"Banana\",\"Orange\"]\n",
    "bro_list=[\"Brinjal\",\"potato\",\"Tomato\"]"
   ]
  },
  {
   "cell_type": "code",
   "execution_count": 25,
   "id": "9afc5fc7-eed8-4eb6-b2a4-81ea86c5ba60",
   "metadata": {},
   "outputs": [
    {
     "data": {
      "text/plain": [
       "['Apple',\n",
       " 'Banana',\n",
       " 'Orange',\n",
       " 'Brinjal',\n",
       " 'potato',\n",
       " 'Tomato',\n",
       " 'Brinjal',\n",
       " 'potato',\n",
       " 'Tomato']"
      ]
     },
     "execution_count": 25,
     "metadata": {},
     "output_type": "execute_result"
    }
   ],
   "source": [
    "my_list.extend(bro_list)\n",
    "my_list\n"
   ]
  },
  {
   "cell_type": "code",
   "execution_count": 27,
   "id": "06af8359-b3e0-4af1-b223-6b411f7e4e87",
   "metadata": {},
   "outputs": [
    {
     "data": {
      "text/plain": [
       "['Apple',\n",
       " 'Banana',\n",
       " 'Orange',\n",
       " 'Brinjal',\n",
       " 'potato',\n",
       " 'Tomato',\n",
       " 'Brinjal',\n",
       " 'potato',\n",
       " 'Tomato',\n",
       " 'Brinjal',\n",
       " 'potato',\n",
       " 'Tomato']"
      ]
     },
     "execution_count": 27,
     "metadata": {},
     "output_type": "execute_result"
    }
   ],
   "source": [
    "#concatenate\n",
    "comnbine_list=my_list+bro_list # doesnot change original list"
   ]
  },
  {
   "cell_type": "code",
   "execution_count": 29,
   "id": "3fd3f6eb-fa63-4cbf-ad2a-cbe140e4e5c6",
   "metadata": {},
   "outputs": [
    {
     "data": {
      "text/plain": [
       "'*****'"
      ]
     },
     "execution_count": 29,
     "metadata": {},
     "output_type": "execute_result"
    }
   ],
   "source": [
    "# repeatation operation\n",
    "\"*\" *5 #'*****'"
   ]
  },
  {
   "cell_type": "code",
   "execution_count": 31,
   "id": "49c6fba4-9d63-49ae-9f87-2e31224b7192",
   "metadata": {},
   "outputs": [
    {
     "data": {
      "text/plain": [
       "[0, 0, 0, 0, 0, 0, 0, 0, 0, 0]"
      ]
     },
     "execution_count": 31,
     "metadata": {},
     "output_type": "execute_result"
    }
   ],
   "source": [
    "[0] * 10"
   ]
  },
  {
   "cell_type": "code",
   "execution_count": 33,
   "id": "8c7faf4f-708a-4be5-8858-651ec2d6cb52",
   "metadata": {},
   "outputs": [
    {
     "data": {
      "text/plain": [
       "[0,\n",
       " 1,\n",
       " 2,\n",
       " 3,\n",
       " 4,\n",
       " 5,\n",
       " 6,\n",
       " 7,\n",
       " 8,\n",
       " 9,\n",
       " 0,\n",
       " 1,\n",
       " 2,\n",
       " 3,\n",
       " 4,\n",
       " 5,\n",
       " 6,\n",
       " 7,\n",
       " 8,\n",
       " 9,\n",
       " 0,\n",
       " 1,\n",
       " 2,\n",
       " 3,\n",
       " 4,\n",
       " 5,\n",
       " 6,\n",
       " 7,\n",
       " 8,\n",
       " 9,\n",
       " 0,\n",
       " 1,\n",
       " 2,\n",
       " 3,\n",
       " 4,\n",
       " 5,\n",
       " 6,\n",
       " 7,\n",
       " 8,\n",
       " 9,\n",
       " 0,\n",
       " 1,\n",
       " 2,\n",
       " 3,\n",
       " 4,\n",
       " 5,\n",
       " 6,\n",
       " 7,\n",
       " 8,\n",
       " 9]"
      ]
     },
     "execution_count": 33,
     "metadata": {},
     "output_type": "execute_result"
    }
   ],
   "source": [
    "list(range(10)) * 5"
   ]
  },
  {
   "cell_type": "code",
   "execution_count": 41,
   "id": "40b02e08-13fb-47d3-ae21-dd15c2def0ef",
   "metadata": {},
   "outputs": [
    {
     "data": {
      "text/plain": [
       "True"
      ]
     },
     "execution_count": 41,
     "metadata": {},
     "output_type": "execute_result"
    }
   ],
   "source": [
    "#  membership\n",
    "\"milk\" in grocery_list #false\n",
    "\"milk\" not in grocery_list #true\n",
    "\n"
   ]
  },
  {
   "cell_type": "code",
   "execution_count": 45,
   "id": "9d3454d5-e0f8-404e-8e55-f00226eb8e83",
   "metadata": {},
   "outputs": [],
   "source": [
    "#deep copy ans shallow copy\n",
    "list1=[1,2,3]\n",
    "a=list1 # shallow copy points to same location\n",
    "a.append(4)"
   ]
  },
  {
   "cell_type": "code",
   "execution_count": 49,
   "id": "b3ae8164-fcb3-44e2-9ae8-3c217ae94fa2",
   "metadata": {},
   "outputs": [
    {
     "data": {
      "text/plain": [
       "[1, 2, 3, 4]"
      ]
     },
     "execution_count": 49,
     "metadata": {},
     "output_type": "execute_result"
    }
   ],
   "source": [
    "a # 1 2 3 4\n",
    "list1 # 1 2 3 4 "
   ]
  },
  {
   "cell_type": "code",
   "execution_count": 101,
   "id": "61235e18-7bee-4416-9d95-fc225ff9e916",
   "metadata": {},
   "outputs": [
    {
     "data": {
      "text/plain": [
       "[1, 2, 3, 4, 5]"
      ]
     },
     "execution_count": 101,
     "metadata": {},
     "output_type": "execute_result"
    }
   ],
   "source": [
    "# deep copy >> will not change th value of original list \n",
    "list1 =[1,2,3,4,5]\n",
    "a=list1.copy() # different memory location\n",
    "a # 1 2 3 4 5 \n",
    "a.append(6)\n",
    "a # 1 2 3 4 5 6\n",
    "list1 # 1 2 3 4 5"
   ]
  },
  {
   "cell_type": "code",
   "execution_count": 69,
   "id": "63d50100-e5e4-4053-ac1f-403e24269346",
   "metadata": {},
   "outputs": [
    {
     "data": {
      "text/plain": [
       "1"
      ]
     },
     "execution_count": 69,
     "metadata": {},
     "output_type": "execute_result"
    }
   ],
   "source": [
    "sorted(list1) # sort list \n",
    "list1.index(2) # give first  index of value"
   ]
  },
  {
   "cell_type": "code",
   "execution_count": 71,
   "id": "419ec597-41df-432b-a1d7-eb59365c0fd8",
   "metadata": {},
   "outputs": [
    {
     "data": {
      "text/plain": [
       "5"
      ]
     },
     "execution_count": 71,
     "metadata": {},
     "output_type": "execute_result"
    }
   ],
   "source": [
    "len(list1) # length / size of list \n"
   ]
  },
  {
   "cell_type": "code",
   "execution_count": 85,
   "id": "32982200-e2d2-40c0-9ec3-b635b145aa67",
   "metadata": {},
   "outputs": [
    {
     "data": {
      "text/plain": [
       "[1, 2, 3, 4, 5]"
      ]
     },
     "execution_count": 85,
     "metadata": {},
     "output_type": "execute_result"
    }
   ],
   "source": [
    "list1.count(2) # gives count of the specific item o f list\n",
    "list1"
   ]
  },
  {
   "cell_type": "code",
   "execution_count": 87,
   "id": "43cd5572-0427-4dfe-b008-ab8389813364",
   "metadata": {},
   "outputs": [],
   "source": [
    "list1.remove(3) \n"
   ]
  },
  {
   "cell_type": "code",
   "execution_count": 89,
   "id": "e10d2e01-bac9-429f-b288-a4add2a9ebbf",
   "metadata": {},
   "outputs": [],
   "source": [
    "del list1  #deletes the variable"
   ]
  },
  {
   "cell_type": "code",
   "execution_count": 99,
   "id": "dcb13680-7621-4c0f-832f-859e95c4615a",
   "metadata": {},
   "outputs": [],
   "source": [
    "list1.clear() # make list empty "
   ]
  },
  {
   "cell_type": "code",
   "execution_count": 105,
   "id": "bfef2ac7-9e30-4647-8bc5-478c1ba78641",
   "metadata": {},
   "outputs": [
    {
     "data": {
      "text/plain": [
       "[1, 2, 3]"
      ]
     },
     "execution_count": 105,
     "metadata": {},
     "output_type": "execute_result"
    }
   ],
   "source": [
    "list1.pop() # removes last element\n",
    "list1"
   ]
  },
  {
   "cell_type": "code",
   "execution_count": 107,
   "id": "ef542734-981c-463b-97bc-ce8982109cda",
   "metadata": {},
   "outputs": [
    {
     "data": {
      "text/plain": [
       "2"
      ]
     },
     "execution_count": 107,
     "metadata": {},
     "output_type": "execute_result"
    }
   ],
   "source": [
    "list1.pop(1)"
   ]
  },
  {
   "cell_type": "code",
   "execution_count": 118,
   "id": "c76773c2-f629-4a12-b552-4370de9f3630",
   "metadata": {},
   "outputs": [
    {
     "data": {
      "text/plain": [
       "[20, 40, 60, 80, 100]"
      ]
     },
     "execution_count": 118,
     "metadata": {},
     "output_type": "execute_result"
    }
   ],
   "source": [
    "# list comprehension\n",
    "# normal way\n",
    "price=[10,20,30,40,50]\n",
    "double_price=[]\n",
    "for  i in price:\n",
    "    double_price.append(i*2)\n",
    " # comprehension\n",
    "double_preice=[price*2  for price in prices]"
   ]
  },
  {
   "cell_type": "code",
   "execution_count": 124,
   "id": "455bf5d3-e638-41c0-a4bc-c10ad5ab467f",
   "metadata": {},
   "outputs": [
    {
     "data": {
      "text/plain": [
       "['Ajay', 'Piyush']"
      ]
     },
     "execution_count": 124,
     "metadata": {},
     "output_type": "execute_result"
    }
   ],
   "source": [
    "names=[\"Ajay\",\"Piyush\"]\n",
    "[name.capitalize() for name in names]"
   ]
  },
  {
   "cell_type": "code",
   "execution_count": 128,
   "id": "372cb5b1-5c3c-4020-b463-1a660aae06d8",
   "metadata": {},
   "outputs": [
    {
     "data": {
      "text/plain": [
       "[1, 4, 9, 16, 25]"
      ]
     },
     "execution_count": 128,
     "metadata": {},
     "output_type": "execute_result"
    }
   ],
   "source": [
    "# use case\n",
    "numbers=[1,2,3,4,5]\n",
    "[num**2 for num in numbers]"
   ]
  },
  {
   "cell_type": "code",
   "execution_count": 134,
   "id": "b20a7dbf-fcf7-4c6d-8842-9667cb6207d1",
   "metadata": {},
   "outputs": [
    {
     "data": {
      "text/plain": [
       "'ppt'"
      ]
     },
     "execution_count": 134,
     "metadata": {},
     "output_type": "execute_result"
    }
   ],
   "source": [
    "str1=\"doc.ppt\"\n",
    "str1.split(\".\")[-1]"
   ]
  },
  {
   "cell_type": "code",
   "execution_count": 136,
   "id": "ea3fe1b3-1b01-4e9e-aae8-4f946a9e6b42",
   "metadata": {},
   "outputs": [],
   "source": [
    "# conditional List Comprehension\n",
    "email_address=[\"piyush@yahoo.com\",\"mridul@yahoo.com\",\"adf@gmail.com\"]"
   ]
  },
  {
   "cell_type": "code",
   "execution_count": 142,
   "id": "042bc589-a8c6-49c8-a199-9eb1f5b8c6bb",
   "metadata": {},
   "outputs": [
    {
     "data": {
      "text/plain": [
       "['piyush@yahoo.com', 'mridul@yahoo.com']"
      ]
     },
     "execution_count": 142,
     "metadata": {},
     "output_type": "execute_result"
    }
   ],
   "source": [
    "[email for email  in email_address if email.endswith(\"@yahoo.com\")]"
   ]
  },
  {
   "cell_type": "code",
   "execution_count": 144,
   "id": "e6aa69a2-a435-4054-8b7d-1387ebb38a74",
   "metadata": {},
   "outputs": [
    {
     "data": {
      "text/plain": [
       "[[1, 4], [1, 5], [1, 6], [2, 4], [2, 5], [2, 6], [3, 4], [3, 5], [3, 6]]"
      ]
     },
     "execution_count": 144,
     "metadata": {},
     "output_type": "execute_result"
    }
   ],
   "source": [
    "#nested list comprehension\n",
    "[[x,y] for x in [1,2,3] for y in [4,5,6]]"
   ]
  },
  {
   "cell_type": "code",
   "execution_count": null,
   "id": "0660c5db-ffb2-42ad-8dc8-66629be78b27",
   "metadata": {},
   "outputs": [],
   "source": [
    "# list as stack and queue\n"
   ]
  }
 ],
 "metadata": {
  "kernelspec": {
   "display_name": "Python 3 (ipykernel)",
   "language": "python",
   "name": "python3"
  },
  "language_info": {
   "codemirror_mode": {
    "name": "ipython",
    "version": 3
   },
   "file_extension": ".py",
   "mimetype": "text/x-python",
   "name": "python",
   "nbconvert_exporter": "python",
   "pygments_lexer": "ipython3",
   "version": "3.12.7"
  }
 },
 "nbformat": 4,
 "nbformat_minor": 5
}
