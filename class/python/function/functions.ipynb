{
 "cells": [
  {
   "cell_type": "code",
   "execution_count": 8,
   "id": "32433dbe-3891-46ba-92d9-0614804ce4d5",
   "metadata": {},
   "outputs": [],
   "source": [
    " # inbuild function type len print \n"
   ]
  },
  {
   "cell_type": "code",
   "execution_count": 4,
   "id": "16548119-5bc8-4a07-b834-fd1a3a3a9dc4",
   "metadata": {},
   "outputs": [
    {
     "data": {
      "text/plain": [
       "6"
      ]
     },
     "execution_count": 4,
     "metadata": {},
     "output_type": "execute_result"
    }
   ],
   "source": [
    "# user defined function\n",
    "#def funct_name():\n",
    "    #code"
   ]
  },
  {
   "cell_type": "code",
   "execution_count": 18,
   "id": "5b92b52c-c966-4918-a449-3160d1d99a0d",
   "metadata": {},
   "outputs": [],
   "source": [
    "def greet(name):\n",
    "    print(f\"welcome to the office {name}\")"
   ]
  },
  {
   "cell_type": "code",
   "execution_count": 20,
   "id": "b7d514f9-20eb-4d5b-83f8-1302fe03e685",
   "metadata": {},
   "outputs": [
    {
     "name": "stdout",
     "output_type": "stream",
     "text": [
      "welcome to the office piyush\n"
     ]
    }
   ],
   "source": [
    "greet(\"piyush\")"
   ]
  },
  {
   "cell_type": "code",
   "execution_count": 24,
   "id": "d1c2a8b9-3bda-4066-8350-0ea6a8d7886e",
   "metadata": {},
   "outputs": [
    {
     "data": {
      "text/plain": [
       "'first function in python'"
      ]
     },
     "execution_count": 24,
     "metadata": {},
     "output_type": "execute_result"
    }
   ],
   "source": [
    "def func():\n",
    "    return \"first function \"\n",
    "    \n",
    "func() +\"in python\""
   ]
  },
  {
   "cell_type": "code",
   "execution_count": 28,
   "id": "cc53f5e3-103d-451d-94cc-0a09a830e2d2",
   "metadata": {},
   "outputs": [
    {
     "data": {
      "text/plain": [
       "str"
      ]
     },
     "execution_count": 28,
     "metadata": {},
     "output_type": "execute_result"
    }
   ],
   "source": [
    "type(func()) # string"
   ]
  },
  {
   "cell_type": "code",
   "execution_count": 30,
   "id": "442a0a60-1aad-4df7-85d6-ce52ac16c6da",
   "metadata": {},
   "outputs": [],
   "source": [
    "def func2():\n",
    "    return \"first function \",2,3,True\n",
    "a=func2()"
   ]
  },
  {
   "cell_type": "code",
   "execution_count": 34,
   "id": "6e8b336c-eaf5-4dca-a4f4-db33fed8e8c5",
   "metadata": {},
   "outputs": [
    {
     "data": {
      "text/plain": [
       "tuple"
      ]
     },
     "execution_count": 34,
     "metadata": {},
     "output_type": "execute_result"
    }
   ],
   "source": [
    "type(a)# tuple"
   ]
  },
  {
   "cell_type": "code",
   "execution_count": 36,
   "id": "c9c9608e-a977-4944-bad7-f3a36098d53d",
   "metadata": {},
   "outputs": [],
   "source": [
    "a,b,c,d=func2()  "
   ]
  },
  {
   "cell_type": "code",
   "execution_count": 40,
   "id": "a8b59d61-4800-4017-9a7a-008b033bb0dd",
   "metadata": {},
   "outputs": [
    {
     "data": {
      "text/plain": [
       "2"
      ]
     },
     "execution_count": 40,
     "metadata": {},
     "output_type": "execute_result"
    }
   ],
   "source": [
    "a \n",
    "b"
   ]
  },
  {
   "cell_type": "code",
   "execution_count": 44,
   "id": "4ef93904-e7c0-4a2e-a519-c6753f97ba04",
   "metadata": {},
   "outputs": [
    {
     "data": {
      "text/plain": [
       "9"
      ]
     },
     "execution_count": 44,
     "metadata": {},
     "output_type": "execute_result"
    }
   ],
   "source": [
    "def sum(a ,b):\n",
    "    return a+b\n",
    "sum(4,5)"
   ]
  },
  {
   "cell_type": "code",
   "execution_count": 48,
   "id": "514912a3-fa44-44aa-b867-df0a0f85680d",
   "metadata": {},
   "outputs": [
    {
     "data": {
      "text/plain": [
       "'asdfdsaf'"
      ]
     },
     "execution_count": 48,
     "metadata": {},
     "output_type": "execute_result"
    }
   ],
   "source": [
    "sum(\"Piyush\",\"Aggarwal\")"
   ]
  },
  {
   "cell_type": "code",
   "execution_count": 56,
   "id": "0d03ab88-93e5-474f-8278-953680924bd5",
   "metadata": {},
   "outputs": [
    {
     "data": {
      "text/plain": [
       "8"
      ]
     },
     "execution_count": 56,
     "metadata": {},
     "output_type": "execute_result"
    }
   ],
   "source": [
    "def sum2(a,b=0,c=0): # default arguement is passed to function in the last\n",
    "    return a+b+c\n",
    "\n",
    "sum2(b=4,c=1,a=3)\n"
   ]
  },
  {
   "cell_type": "code",
   "execution_count": 82,
   "id": "e5c2864d-385c-4e98-a05d-15d1085efcfe",
   "metadata": {},
   "outputs": [],
   "source": [
    "# function retur all numerical value of lis\n",
    "def num(a):\n",
    "    b=[]\n",
    "    for i in a : # || | will nor work onlr or works\n",
    "        if type(i)==list:\n",
    "            for j in i :\n",
    "                 if(type(j)==float or type(j)==int):           \n",
    "                     b.append(i);           \n",
    "        if(type(i)==float or type(i)==int):\n",
    "            b.append(i);\n",
    "    return b            "
   ]
  },
  {
   "cell_type": "code",
   "execution_count": 84,
   "id": "023b4f8a-92e8-48d6-bf3c-74e11ab2db05",
   "metadata": {},
   "outputs": [
    {
     "data": {
      "text/plain": [
       "[1, 2, 4, 20, 5.2]"
      ]
     },
     "execution_count": 84,
     "metadata": {},
     "output_type": "execute_result"
    }
   ],
   "source": [
    "num([1,2,4,20,\"ava\",True,5.2])"
   ]
  },
  {
   "cell_type": "code",
   "execution_count": 92,
   "id": "20a693aa-397d-4ab5-b77a-453038477cfe",
   "metadata": {},
   "outputs": [],
   "source": [
    "# variable length arguments>> when yo dont know no. of arg\n",
    "def sum (*args):\n",
    "    sum=0;\n",
    "    for i in args:\n",
    "        sum+=i;\n",
    "    return sum\n"
   ]
  },
  {
   "cell_type": "code",
   "execution_count": 94,
   "id": "767b586c-5e35-489f-a6e4-e58bab766d22",
   "metadata": {},
   "outputs": [
    {
     "data": {
      "text/plain": [
       "11"
      ]
     },
     "execution_count": 94,
     "metadata": {},
     "output_type": "execute_result"
    }
   ],
   "source": [
    "sum(1,2,3,5)"
   ]
  },
  {
   "cell_type": "code",
   "execution_count": null,
   "id": "d103762e-39c0-42b7-bc0f-38e45fb689f2",
   "metadata": {},
   "outputs": [],
   "source": []
  }
 ],
 "metadata": {
  "kernelspec": {
   "display_name": "Python 3 (ipykernel)",
   "language": "python",
   "name": "python3"
  },
  "language_info": {
   "codemirror_mode": {
    "name": "ipython",
    "version": 3
   },
   "file_extension": ".py",
   "mimetype": "text/x-python",
   "name": "python",
   "nbconvert_exporter": "python",
   "pygments_lexer": "ipython3",
   "version": "3.12.7"
  }
 },
 "nbformat": 4,
 "nbformat_minor": 5
}
