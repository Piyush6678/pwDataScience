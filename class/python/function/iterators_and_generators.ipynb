{
 "cells": [
  {
   "cell_type": "code",
   "execution_count": null,
   "id": "96d18f7b-cd9b-4459-aaea-e14663f45b2e",
   "metadata": {},
   "outputs": [],
   "source": [
    "#"
   ]
  },
  {
   "cell_type": "code",
   "execution_count": 5,
   "id": "9078c2ae-c8d3-4397-8624-59c00edb1ed9",
   "metadata": {},
   "outputs": [],
   "source": [
    "#>> iterable is any python object/sequential str/data structure that is capable of returning is memebers one at a time \n",
    "# permiting it to iterable over ia loop\n",
    "\n"
   ]
  },
  {
   "cell_type": "code",
   "execution_count": 7,
   "id": "f3ea9a94-fe67-4b0a-a271-1bf69c103863",
   "metadata": {},
   "outputs": [],
   "source": [
    "# iteration is a prcess of looping through a iterable data structure\n"
   ]
  },
  {
   "cell_type": "code",
   "execution_count": 9,
   "id": "3496b901-a354-4cc3-9ef9-f6ef593fee44",
   "metadata": {},
   "outputs": [],
   "source": [
    "# iterator >> it is an object stream of data return the data one"
   ]
  },
  {
   "cell_type": "code",
   "execution_count": null,
   "id": "cbc192f9-10e2-4d2b-ae4f-b1080cefcf72",
   "metadata": {},
   "outputs": [],
   "source": []
  },
  {
   "cell_type": "code",
   "execution_count": 18,
   "id": "16fe40fa-2e03-4aeb-bc5d-ff9a84f96b61",
   "metadata": {},
   "outputs": [
    {
     "name": "stdout",
     "output_type": "stream",
     "text": [
      "p\n",
      "w\n",
      "s\n",
      "k\n",
      "i\n",
      "l\n",
      "l\n",
      "s\n"
     ]
    }
   ],
   "source": [
    "s=\"pwskills\" #>> iterable\n",
    "for i in s :\n",
    "    print(i)\n",
    "a=iter(s)"
   ]
  },
  {
   "cell_type": "code",
   "execution_count": 20,
   "id": "4cf1a29e-eb85-480c-8ca2-30c13377e4cc",
   "metadata": {},
   "outputs": [
    {
     "data": {
      "text/plain": [
       "'p'"
      ]
     },
     "execution_count": 20,
     "metadata": {},
     "output_type": "execute_result"
    }
   ],
   "source": [
    "next(a)"
   ]
  },
  {
   "cell_type": "code",
   "execution_count": 22,
   "id": "a701c193-d5fb-4886-bea0-56e7f8e5d987",
   "metadata": {},
   "outputs": [],
   "source": [
    "# generator >>return iterator object\n",
    "# yield # >> return iterator object\n",
    "def square_number(n):\n",
    "    for i in range(n):\n",
    "        yield i**2"
   ]
  },
  {
   "cell_type": "code",
   "execution_count": 28,
   "id": "9b3222d8-2692-44a9-8441-af0869d55a84",
   "metadata": {},
   "outputs": [],
   "source": [
    "a=square_number(5)\n"
   ]
  },
  {
   "cell_type": "code",
   "execution_count": 40,
   "id": "29bff8a2-03c9-4287-ab7c-3d0c5d934602",
   "metadata": {},
   "outputs": [
    {
     "ename": "StopIteration",
     "evalue": "",
     "output_type": "error",
     "traceback": [
      "\u001b[1;31m---------------------------------------------------------------------------\u001b[0m",
      "\u001b[1;31mStopIteration\u001b[0m                             Traceback (most recent call last)",
      "Cell \u001b[1;32mIn[40], line 1\u001b[0m\n\u001b[1;32m----> 1\u001b[0m \u001b[38;5;28mnext\u001b[39m(a)\n",
      "\u001b[1;31mStopIteration\u001b[0m: "
     ]
    }
   ],
   "source": [
    "next(a)"
   ]
  },
  {
   "cell_type": "code",
   "execution_count": null,
   "id": "60ed5292-fa25-482b-a319-04d6ab33cccd",
   "metadata": {},
   "outputs": [],
   "source": []
  }
 ],
 "metadata": {
  "kernelspec": {
   "display_name": "Python 3 (ipykernel)",
   "language": "python",
   "name": "python3"
  },
  "language_info": {
   "codemirror_mode": {
    "name": "ipython",
    "version": 3
   },
   "file_extension": ".py",
   "mimetype": "text/x-python",
   "name": "python",
   "nbconvert_exporter": "python",
   "pygments_lexer": "ipython3",
   "version": "3.12.7"
  }
 },
 "nbformat": 4,
 "nbformat_minor": 5
}
