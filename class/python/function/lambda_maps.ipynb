{
 "cells": [
  {
   "cell_type": "code",
   "execution_count": 1,
   "id": "ff1d5ee1-14a2-4183-8eb2-4e333af96180",
   "metadata": {},
   "outputs": [],
   "source": [
    "# lambda >> short hand or anonymous function"
   ]
  },
  {
   "cell_type": "code",
   "execution_count": 2,
   "id": "5208b544-50b8-46b3-baf3-1c31992d0522",
   "metadata": {},
   "outputs": [
    {
     "data": {
      "text/plain": [
       "9"
      ]
     },
     "execution_count": 2,
     "metadata": {},
     "output_type": "execute_result"
    }
   ],
   "source": [
    "sq_lambda=lambda x : x**2\n",
    "sq_lambda(3)"
   ]
  },
  {
   "cell_type": "code",
   "execution_count": 3,
   "id": "d3b49a2e-998a-4f05-bd69-d80c8ddfecf0",
   "metadata": {},
   "outputs": [
    {
     "data": {
      "text/plain": [
       "7"
      ]
     },
     "execution_count": 3,
     "metadata": {},
     "output_type": "execute_result"
    }
   ],
   "source": [
    "add_lambda=lambda x,y : x+y\n",
    "add_lambda(3,4)"
   ]
  },
  {
   "cell_type": "code",
   "execution_count": 4,
   "id": "4d578047-8cab-462b-bd9c-d212a1e4832b",
   "metadata": {},
   "outputs": [],
   "source": [
    "#sort the list based on length \n",
    "length= lambda x:len(x)\n",
    "x=[\"ajay\",\"piyush\",\"mridul\"]\n"
   ]
  },
  {
   "cell_type": "code",
   "execution_count": 12,
   "id": "782700a6-eb75-4b80-99d5-a3356206f0b1",
   "metadata": {},
   "outputs": [
    {
     "data": {
      "text/plain": [
       "['ajay', 'piyush', 'mridul']"
      ]
     },
     "execution_count": 12,
     "metadata": {},
     "output_type": "execute_result"
    }
   ],
   "source": [
    "sorted(x,key=length)"
   ]
  },
  {
   "cell_type": "code",
   "execution_count": 16,
   "id": "6563b008-ac44-4e4b-85ce-12e0b2cffc0e",
   "metadata": {},
   "outputs": [
    {
     "data": {
      "text/plain": [
       "5"
      ]
     },
     "execution_count": 16,
     "metadata": {},
     "output_type": "execute_result"
    }
   ],
   "source": [
    "fib=lambda n: n if n<=1 else fib(n-1) + fib(n-2)\n",
    "fib(5)"
   ]
  },
  {
   "cell_type": "code",
   "execution_count": 28,
   "id": "b9b3c092-e15c-46c7-bf03-14451d223511",
   "metadata": {},
   "outputs": [
    {
     "data": {
      "text/plain": [
       "[1, 4, 9, 16, 25]"
      ]
     },
     "execution_count": 28,
     "metadata": {},
     "output_type": "execute_result"
    }
   ],
   "source": [
    "# map >> executes a specified function for each of item of iterable \n",
    "l=[1,2,3,4,5]\n",
    "def sq(x):\n",
    "    return x**2\n",
    "list(map(sq,l))\n",
    "list(map(lambda x:x**2,l))"
   ]
  },
  {
   "cell_type": "code",
   "execution_count": 32,
   "id": "6f938ffe-fb3b-4514-9cac-a86834c65c47",
   "metadata": {},
   "outputs": [],
   "source": [
    "# reduce\n",
    "from functools import reduce\n"
   ]
  },
  {
   "cell_type": "code",
   "execution_count": 42,
   "id": "6c7203a7-de44-4d81-aed7-dcaf06a0f9a8",
   "metadata": {},
   "outputs": [
    {
     "ename": "NameError",
     "evalue": "name 'y' is not defined",
     "output_type": "error",
     "traceback": [
      "\u001b[1;31m---------------------------------------------------------------------------\u001b[0m",
      "\u001b[1;31mNameError\u001b[0m                                 Traceback (most recent call last)",
      "Cell \u001b[1;32mIn[42], line 2\u001b[0m\n\u001b[0;32m      1\u001b[0m l\u001b[38;5;241m=\u001b[39m[\u001b[38;5;241m1\u001b[39m,\u001b[38;5;241m2\u001b[39m,\u001b[38;5;241m3\u001b[39m,\u001b[38;5;241m4\u001b[39m,\u001b[38;5;241m5\u001b[39m]\n\u001b[1;32m----> 2\u001b[0m reduce(\u001b[38;5;28;01mlambda\u001b[39;00m x,z :(x\u001b[38;5;241m+\u001b[39my),l)\n",
      "Cell \u001b[1;32mIn[42], line 2\u001b[0m, in \u001b[0;36m<lambda>\u001b[1;34m(x, z)\u001b[0m\n\u001b[0;32m      1\u001b[0m l\u001b[38;5;241m=\u001b[39m[\u001b[38;5;241m1\u001b[39m,\u001b[38;5;241m2\u001b[39m,\u001b[38;5;241m3\u001b[39m,\u001b[38;5;241m4\u001b[39m,\u001b[38;5;241m5\u001b[39m]\n\u001b[1;32m----> 2\u001b[0m reduce(\u001b[38;5;28;01mlambda\u001b[39;00m x,z :(x\u001b[38;5;241m+\u001b[39my),l)\n",
      "\u001b[1;31mNameError\u001b[0m: name 'y' is not defined"
     ]
    }
   ],
   "source": [
    "l=[1,2,3,4,5]\n",
    "reduce(lambda x,y :x+y,l) #>> takes only upto two "
   ]
  },
  {
   "cell_type": "code",
   "execution_count": 46,
   "id": "65327cdd-b23f-429d-b24a-31253dd6862c",
   "metadata": {},
   "outputs": [
    {
     "data": {
      "text/plain": [
       "[2, 4]"
      ]
     },
     "execution_count": 46,
     "metadata": {},
     "output_type": "execute_result"
    }
   ],
   "source": [
    "#filter\n",
    "list(filter(lambda x:x%2==0,l))"
   ]
  },
  {
   "cell_type": "code",
   "execution_count": null,
   "id": "324d5bcc-ed2b-4004-8701-af4ae9cbcf97",
   "metadata": {},
   "outputs": [],
   "source": []
  }
 ],
 "metadata": {
  "kernelspec": {
   "display_name": "Python 3 (ipykernel)",
   "language": "python",
   "name": "python3"
  },
  "language_info": {
   "codemirror_mode": {
    "name": "ipython",
    "version": 3
   },
   "file_extension": ".py",
   "mimetype": "text/x-python",
   "name": "python",
   "nbconvert_exporter": "python",
   "pygments_lexer": "ipython3",
   "version": "3.12.7"
  }
 },
 "nbformat": 4,
 "nbformat_minor": 5
}
