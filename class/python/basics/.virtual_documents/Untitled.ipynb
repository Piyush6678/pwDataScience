#loop >>it allows you ti execute a code of block repeatedly 
# >>while and for loop



#while loop >> execute a bock of code until a cinditio is true
n=7
i=1
while(i<n):
    print(i)
    i=i+1
    


n=7
i=1
while i<n:
    print(i)
    i=i+1
else:
    print("this will be executed when the while is run successfully without any break")


n=7
i=1
while i<n:
    print(i)
    i=i+1
    if(i==3):
        break
else:
    print("this will be executed when the while is run successfully without any break")


n=7
i=1
while i<n:
    i=i+1
    if(i==3):
        continue
    print(i)
else:
    print("this will be executed when the while is run successfully without any break")


# for loops >>iterate over a sequence of elements
for i in "pwskills":
    print(i)


l=[1,2,"ajay","piyush"]
for i in l:
    print(i)


# for else 
for i in l :
    print(i)
else :
    print("for loop is run successfully")


# break
for i in l :
    print(i)
    if(i=="ajay"):
        break
else :
    print("for loop is run successfully")


#continue 
for i in l :
    if(i=="ajay"):
        continue
    print(i)
else :
    print("for loop is run successfully")


for i in range(0,10):
    print(i)# it will give values it will give 1 to 9 


for i in range(0,10):
    print(i,end=" ")


# syntax of range (start,stop,step)
for i in range(0,10,2):
    print(i,end=" ")


#important
#print a right triangle with*
row=1
while(row<=4):
    col=1
    while col<=row:
        print("*",end=" ")
        col=col+1
    row=row+1
    print() #print new line


for i in range(1,5):
    for j in range(0,i):
         print("*",end=" ")
    print()    


for i in range (1,6):
    for j in range (1,11):
        product=i*j
        print(f"{i} * {j} = {product}")



