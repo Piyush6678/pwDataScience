{
 "cells": [
  {
   "cell_type": "code",
   "execution_count": 1,
   "id": "2fa96e3c-67bb-4386-b7d8-8d9e6a3891e9",
   "metadata": {},
   "outputs": [],
   "source": [
    "#loop >>it allows you ti execute a code of block repeatedly \n",
    "# >>while and for loop\n"
   ]
  },
  {
   "cell_type": "code",
   "execution_count": 10,
   "id": "ff1019ed-768f-47bd-a5f5-314e5e0f5d2b",
   "metadata": {},
   "outputs": [
    {
     "name": "stdout",
     "output_type": "stream",
     "text": [
      "1\n",
      "2\n",
      "3\n",
      "4\n",
      "5\n",
      "6\n"
     ]
    }
   ],
   "source": [
    "#while loop >> execute a bock of code until a cinditio is true\n",
    "n=7\n",
    "i=1\n",
    "while(i<n):\n",
    "    print(i)\n",
    "    i=i+1\n",
    "    "
   ]
  },
  {
   "cell_type": "code",
   "execution_count": 12,
   "id": "e230d45d-2f78-43cf-a1ed-8388f855576e",
   "metadata": {},
   "outputs": [
    {
     "name": "stdout",
     "output_type": "stream",
     "text": [
      "1\n",
      "2\n",
      "3\n",
      "4\n",
      "5\n",
      "6\n",
      "this will be exsecuted when the while is run successfully without any break\n"
     ]
    }
   ],
   "source": [
    "n=7\n",
    "i=1\n",
    "while i<n:\n",
    "    print(i)\n",
    "    i=i+1\n",
    "else:\n",
    "    print(\"this will be executed when the while is run successfully without any break\")"
   ]
  },
  {
   "cell_type": "code",
   "execution_count": 14,
   "id": "8a73fd1f-92cf-4781-91d7-114a5aae78dd",
   "metadata": {},
   "outputs": [
    {
     "name": "stdout",
     "output_type": "stream",
     "text": [
      "1\n",
      "2\n"
     ]
    }
   ],
   "source": [
    "n=7\n",
    "i=1\n",
    "while i<n:\n",
    "    print(i)\n",
    "    i=i+1\n",
    "    if(i==3):\n",
    "        break\n",
    "else:\n",
    "    print(\"this will be executed when the while is run successfully without any break\")"
   ]
  },
  {
   "cell_type": "code",
   "execution_count": 16,
   "id": "b222f990-b3e6-4cf3-be70-31bee705aa4c",
   "metadata": {},
   "outputs": [
    {
     "name": "stdout",
     "output_type": "stream",
     "text": [
      "2\n",
      "4\n",
      "5\n",
      "6\n",
      "7\n",
      "this will be executed when the while is run successfully without any break\n"
     ]
    }
   ],
   "source": [
    "n=7\n",
    "i=1\n",
    "while i<n:\n",
    "    i=i+1\n",
    "    if(i==3):\n",
    "        continue\n",
    "    print(i)\n",
    "else:\n",
    "    print(\"this will be executed when the while is run successfully without any break\")"
   ]
  },
  {
   "cell_type": "code",
   "execution_count": 18,
   "id": "5241f455-3799-48f2-a282-fcd39aa0f8f1",
   "metadata": {},
   "outputs": [
    {
     "name": "stdout",
     "output_type": "stream",
     "text": [
      "p\n",
      "w\n",
      "s\n",
      "k\n",
      "i\n",
      "l\n",
      "l\n",
      "s\n"
     ]
    }
   ],
   "source": [
    "# for loops >>iterate over a sequence of elements\n",
    "for i in \"pwskills\":\n",
    "    print(i)"
   ]
  },
  {
   "cell_type": "code",
   "execution_count": 20,
   "id": "a065a7b9-7129-4822-b638-2bd951f33d90",
   "metadata": {},
   "outputs": [
    {
     "name": "stdout",
     "output_type": "stream",
     "text": [
      "1\n",
      "2\n",
      "ajay\n",
      "piyush\n"
     ]
    }
   ],
   "source": [
    "l=[1,2,\"ajay\",\"piyush\"]\n",
    "for i in l:\n",
    "    print(i)"
   ]
  },
  {
   "cell_type": "code",
   "execution_count": null,
   "id": "a7bc0215-0cfa-4bf8-b481-760f99d9cfaa",
   "metadata": {},
   "outputs": [],
   "source": [
    "# for else \n",
    "for i in l :\n",
    "    print(i)\n",
    "else :\n",
    "    print(\"for loop is run successfully\")"
   ]
  },
  {
   "cell_type": "code",
   "execution_count": null,
   "id": "9efcd398-0b2e-4f20-91e0-50a3de326e2a",
   "metadata": {},
   "outputs": [],
   "source": [
    "# break\n",
    "for i in l :\n",
    "    print(i)\n",
    "    if(i==\"ajay\"):\n",
    "        break\n",
    "else :\n",
    "    print(\"for loop is run successfully\")"
   ]
  },
  {
   "cell_type": "code",
   "execution_count": 24,
   "id": "272d415d-7dd3-4682-b3a2-3b392a290c9b",
   "metadata": {},
   "outputs": [
    {
     "name": "stdout",
     "output_type": "stream",
     "text": [
      "1\n",
      "2\n",
      "piyush\n",
      "for loop is run successfully\n"
     ]
    }
   ],
   "source": [
    "#continue \n",
    "for i in l :\n",
    "    if(i==\"ajay\"):\n",
    "        continue\n",
    "    print(i)\n",
    "else :\n",
    "    print(\"for loop is run successfully\")"
   ]
  },
  {
   "cell_type": "code",
   "execution_count": 26,
   "id": "8bb8c311-603a-407a-aadf-92dde87f2d35",
   "metadata": {},
   "outputs": [
    {
     "name": "stdout",
     "output_type": "stream",
     "text": [
      "0\n",
      "1\n",
      "2\n",
      "3\n",
      "4\n",
      "5\n",
      "6\n",
      "7\n",
      "8\n",
      "9\n"
     ]
    }
   ],
   "source": [
    "for i in range(0,10):\n",
    "    print(i)# it will give values it will give 1 to 9 "
   ]
  },
  {
   "cell_type": "code",
   "execution_count": 28,
   "id": "da79fcf7-81b0-4407-bbae-a48eb175f9c9",
   "metadata": {},
   "outputs": [
    {
     "name": "stdout",
     "output_type": "stream",
     "text": [
      "0 1 2 3 4 5 6 7 8 9 "
     ]
    }
   ],
   "source": [
    "for i in range(0,10):\n",
    "    print(i,end=\" \")"
   ]
  },
  {
   "cell_type": "code",
   "execution_count": 30,
   "id": "0de43908-0695-4623-b2e2-ceacf34ca522",
   "metadata": {},
   "outputs": [
    {
     "name": "stdout",
     "output_type": "stream",
     "text": [
      "0 2 4 6 8 "
     ]
    }
   ],
   "source": [
    "# syntax of range (start,stop,step)\n",
    "for i in range(0,10,2):\n",
    "    print(i,end=\" \")"
   ]
  },
  {
   "cell_type": "code",
   "execution_count": 36,
   "id": "d5fe9f65-a011-4fc6-a75c-4b4724bcffbe",
   "metadata": {},
   "outputs": [
    {
     "name": "stdout",
     "output_type": "stream",
     "text": [
      "* \n",
      "* * \n",
      "* * * \n",
      "* * * * \n"
     ]
    }
   ],
   "source": [
    "#important\n",
    "#print a right triangle with*\n",
    "row=1\n",
    "while(row<=4):\n",
    "    col=1\n",
    "    while col<=row:\n",
    "        print(\"*\",end=\" \")\n",
    "        col=col+1\n",
    "    row=row+1\n",
    "    print() #print new line"
   ]
  },
  {
   "cell_type": "code",
   "execution_count": 44,
   "id": "fc4df0c8-0d01-4fd9-972b-660bcae98582",
   "metadata": {},
   "outputs": [
    {
     "name": "stdout",
     "output_type": "stream",
     "text": [
      "* \n",
      "* * \n",
      "* * * \n",
      "* * * * \n"
     ]
    }
   ],
   "source": [
    "for i in range(1,5):\n",
    "    for j in range(0,i):\n",
    "         print(\"*\",end=\" \")\n",
    "    print()    "
   ]
  },
  {
   "cell_type": "code",
   "execution_count": 48,
   "id": "4df8977f-a802-4faa-abea-589e1bc9016f",
   "metadata": {},
   "outputs": [
    {
     "name": "stdout",
     "output_type": "stream",
     "text": [
      "1 * 1 = 1 1 * 2 = 2 1 * 3 = 3 1 * 4 = 4 1 * 5 = 5 1 * 6 = 6 1 * 7 = 7 1 * 8 = 8 1 * 9 = 9 1 * 10 = 10 \n",
      "2 * 1 = 2 2 * 2 = 4 2 * 3 = 6 2 * 4 = 8 2 * 5 = 10 2 * 6 = 12 2 * 7 = 14 2 * 8 = 16 2 * 9 = 18 2 * 10 = 20 \n",
      "3 * 1 = 3 3 * 2 = 6 3 * 3 = 9 3 * 4 = 12 3 * 5 = 15 3 * 6 = 18 3 * 7 = 21 3 * 8 = 24 3 * 9 = 27 3 * 10 = 30 \n",
      "4 * 1 = 4 4 * 2 = 8 4 * 3 = 12 4 * 4 = 16 4 * 5 = 20 4 * 6 = 24 4 * 7 = 28 4 * 8 = 32 4 * 9 = 36 4 * 10 = 40 \n",
      "5 * 1 = 5 5 * 2 = 10 5 * 3 = 15 5 * 4 = 20 5 * 5 = 25 5 * 6 = 30 5 * 7 = 35 5 * 8 = 40 5 * 9 = 45 5 * 10 = 50 \n"
     ]
    }
   ],
   "source": [
    "for i in range (1,6):\n",
    "    for j in range (1,11):\n",
    "        product=i*j\n",
    "        print(f\"{i} * {j} = {product}\",end=\" \")\n",
    "    print()\n",
    "    "
   ]
  },
  {
   "cell_type": "code",
   "execution_count": null,
   "id": "8196fbb5-b17c-4927-88e7-61cc0b09efc8",
   "metadata": {},
   "outputs": [],
   "source": []
  }
 ],
 "metadata": {
  "kernelspec": {
   "display_name": "Python 3 (ipykernel)",
   "language": "python",
   "name": "python3"
  },
  "language_info": {
   "codemirror_mode": {
    "name": "ipython",
    "version": 3
   },
   "file_extension": ".py",
   "mimetype": "text/x-python",
   "name": "python",
   "nbconvert_exporter": "python",
   "pygments_lexer": "ipython3",
   "version": "3.12.7"
  }
 },
 "nbformat": 4,
 "nbformat_minor": 5
}
