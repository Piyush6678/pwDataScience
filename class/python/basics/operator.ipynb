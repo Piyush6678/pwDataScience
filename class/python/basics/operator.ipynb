{
 "cells": [
  {
   "cell_type": "code",
   "execution_count": 1,
   "id": "be4f1b34-2117-47dc-84c9-1cf661af7fd9",
   "metadata": {},
   "outputs": [],
   "source": [
    "#operators >>special keyword to perform operation\n",
    "a=10 \n",
    "b=2"
   ]
  },
  {
   "cell_type": "code",
   "execution_count": 3,
   "id": "706ba912-c745-4e5d-9cf7-f56a4dbbf62e",
   "metadata": {},
   "outputs": [],
   "source": [
    "#arithmatic operator\n",
    "add=a+b\n",
    "sub=a-b\n",
    "mult=a*b\n",
    "div=a/b\n",
    "remainder=a%b\n",
    "cube=a**3 # 1000\n",
    "c=4//3 #floor operator gives 1 \n",
    "\n"
   ]
  },
  {
   "cell_type": "code",
   "execution_count": 5,
   "id": "a7156352-66f5-4ad4-9b19-5bf76d0e1040",
   "metadata": {},
   "outputs": [
    {
     "data": {
      "text/plain": [
       "False"
      ]
     },
     "execution_count": 5,
     "metadata": {},
     "output_type": "execute_result"
    }
   ],
   "source": [
    "#comparison operator\n",
    "2==2 #True\n",
    "2!=2 #False\n",
    "10>2 #True\n",
    "10>=2 #True\n",
    "10<2 #false"
   ]
  },
  {
   "cell_type": "code",
   "execution_count": 7,
   "id": "160c33da-111e-4390-aaeb-6f8e0f23e0c7",
   "metadata": {},
   "outputs": [
    {
     "data": {
      "text/plain": [
       "True"
      ]
     },
     "execution_count": 7,
     "metadata": {},
     "output_type": "execute_result"
    }
   ],
   "source": [
    "#Logical Operator \n",
    "#and or \n",
    "True and True  # 1\n",
    "True and False #0\n",
    "False and False #0\n",
    "False and True # 0\n",
    "True or True  # 1\n",
    "True or False #1\n",
    "False or False #0\n",
    "False or True # 1"
   ]
  },
  {
   "cell_type": "code",
   "execution_count": 9,
   "id": "fa1c7a85-c362-42f2-a784-b6e7bed8323c",
   "metadata": {},
   "outputs": [
    {
     "ename": "SyntaxError",
     "evalue": "invalid syntax (2085595994.py, line 5)",
     "output_type": "error",
     "traceback": [
      "\u001b[1;36m  Cell \u001b[1;32mIn[9], line 5\u001b[1;36m\u001b[0m\n\u001b[1;33m    a*=10 a=a*10\u001b[0m\n\u001b[1;37m          ^\u001b[0m\n\u001b[1;31mSyntaxError\u001b[0m\u001b[1;31m:\u001b[0m invalid syntax\n"
     ]
    }
   ],
   "source": [
    "# assignment operator\n",
    "a+=5 #a=a+5\n",
    "a/=5 # a=a/5 \n",
    "a-=2 #a=a-2\n",
    "a*=10 # a=a*10"
   ]
  },
  {
   "cell_type": "code",
   "execution_count": 13,
   "id": "b52ddba4-da32-4cdc-a254-84ac51392531",
   "metadata": {},
   "outputs": [
    {
     "data": {
      "text/plain": [
       "False"
      ]
     },
     "execution_count": 13,
     "metadata": {},
     "output_type": "execute_result"
    }
   ],
   "source": [
    "# membership operator\n",
    "a=\"pwskills\"\n",
    "\"p\" in a #True\n",
    "\"p\" not in a #False \n",
    "a=[\"data\",\"science\"]\n",
    "\"dat\" in a # False\n",
    "\"data\" in a #True\n"
   ]
  },
  {
   "cell_type": "code",
   "execution_count": 15,
   "id": "1429dd3b-35f2-4656-8cd6-d3fa3bf046eb",
   "metadata": {},
   "outputs": [
    {
     "data": {
      "text/plain": [
       "True"
      ]
     },
     "execution_count": 15,
     "metadata": {},
     "output_type": "execute_result"
    }
   ],
   "source": [
    "# identity operator\n",
    "a=2 \n",
    "b=3 \n",
    "a is b # False \n",
    "a is not b # True \n"
   ]
  },
  {
   "cell_type": "code",
   "execution_count": 19,
   "id": "6c33139a-0666-4665-8ebd-b561c3a93b0b",
   "metadata": {},
   "outputs": [
    {
     "data": {
      "text/plain": [
       "True"
      ]
     },
     "execution_count": 19,
     "metadata": {},
     "output_type": "execute_result"
    }
   ],
   "source": [
    "a=2 \n",
    "b=a \n",
    "a is b # True\n",
    "a is not b # False "
   ]
  },
  {
   "cell_type": "code",
   "execution_count": null,
   "id": "f6b7a462-f53e-4ce3-b700-0da704fda4f6",
   "metadata": {},
   "outputs": [],
   "source": [
    "#bitwose Operator  &\n"
   ]
  },
  {
   "cell_type": "code",
   "execution_count": 21,
   "id": "8838f935-a118-4627-bca4-e6f41c4edf60",
   "metadata": {},
   "outputs": [
    {
     "data": {
      "text/plain": [
       "10"
      ]
     },
     "execution_count": 21,
     "metadata": {},
     "output_type": "execute_result"
    }
   ],
   "source": [
    "10 & 10 # 10"
   ]
  },
  {
   "cell_type": "code",
   "execution_count": 23,
   "id": "d7c5717c-aa8c-4325-8f21-1efd600b32c7",
   "metadata": {},
   "outputs": [
    {
     "data": {
      "text/plain": [
       "'0b1010'"
      ]
     },
     "execution_count": 23,
     "metadata": {},
     "output_type": "execute_result"
    }
   ],
   "source": [
    "bin(10) #1010"
   ]
  },
  {
   "cell_type": "code",
   "execution_count": 25,
   "id": "4af9b595-ae95-4f2d-93dd-825cb2baed9e",
   "metadata": {},
   "outputs": [
    {
     "data": {
      "text/plain": [
       "2"
      ]
     },
     "execution_count": 25,
     "metadata": {},
     "output_type": "execute_result"
    }
   ],
   "source": [
    "18& 3 #2"
   ]
  },
  {
   "cell_type": "code",
   "execution_count": 29,
   "id": "0e4f0419-7690-4cb1-bb50-decf8d5b5a04",
   "metadata": {},
   "outputs": [
    {
     "data": {
      "text/plain": [
       "7"
      ]
     },
     "execution_count": 29,
     "metadata": {},
     "output_type": "execute_result"
    }
   ],
   "source": [
    "3 | 5 # 7 \n"
   ]
  },
  {
   "cell_type": "code",
   "execution_count": 33,
   "id": "669ed566-3675-44c1-8df1-06742d83faa3",
   "metadata": {},
   "outputs": [
    {
     "data": {
      "text/plain": [
       "-4"
      ]
     },
     "execution_count": 33,
     "metadata": {},
     "output_type": "execute_result"
    }
   ],
   "source": [
    "# negation ` \n",
    "~3 #-4"
   ]
  },
  {
   "cell_type": "code",
   "execution_count": 35,
   "id": "6db98342-97b8-43ea-9ef6-41e509ec6f3b",
   "metadata": {},
   "outputs": [
    {
     "data": {
      "text/plain": [
       "6"
      ]
     },
     "execution_count": 35,
     "metadata": {},
     "output_type": "execute_result"
    }
   ],
   "source": [
    "# bitwise xor ^\n",
    "5^3 # 6 "
   ]
  },
  {
   "cell_type": "code",
   "execution_count": 41,
   "id": "31b480d7-0dcf-4f94-aa50-506587d2882c",
   "metadata": {},
   "outputs": [
    {
     "data": {
      "text/plain": [
       "25"
      ]
     },
     "execution_count": 41,
     "metadata": {},
     "output_type": "execute_result"
    }
   ],
   "source": [
    "# SHIFT \n",
    "#left Shift<<\n",
    "25<<3 # 25*2**3=200\n",
    "# Right Shift >>\n",
    "200>>3 #200/2**3=25"
   ]
  },
  {
   "cell_type": "code",
   "execution_count": null,
   "id": "7dec6dac-1464-4e7d-a7ce-1075b9b10d26",
   "metadata": {},
   "outputs": [],
   "source": [
    "#order of precedence\n",
    "# execution of python statement always left"
   ]
  }
 ],
 "metadata": {
  "kernelspec": {
   "display_name": "Python 3 (ipykernel)",
   "language": "python",
   "name": "python3"
  },
  "language_info": {
   "codemirror_mode": {
    "name": "ipython",
    "version": 3
   },
   "file_extension": ".py",
   "mimetype": "text/x-python",
   "name": "python",
   "nbconvert_exporter": "python",
   "pygments_lexer": "ipython3",
   "version": "3.12.7"
  }
 },
 "nbformat": 4,
 "nbformat_minor": 5
}
