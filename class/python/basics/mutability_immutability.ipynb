{
 "cells": [
  {
   "cell_type": "code",
   "execution_count": 2,
   "id": "dcca560c-64e8-4d7b-900b-7f4dfb04e40b",
   "metadata": {},
   "outputs": [],
   "source": [
    "# str are not mutable \n",
    "str=\"piyush\""
   ]
  },
  {
   "cell_type": "code",
   "execution_count": 8,
   "id": "086d0d55-83b7-4667-8aa9-ba251d930944",
   "metadata": {},
   "outputs": [
    {
     "data": {
      "text/plain": [
       "'piyush'"
      ]
     },
     "execution_count": 8,
     "metadata": {},
     "output_type": "execute_result"
    }
   ],
   "source": [
    "str"
   ]
  },
  {
   "cell_type": "code",
   "execution_count": 24,
   "id": "f615908c-72aa-46bc-9cd3-98fbab679ff9",
   "metadata": {},
   "outputs": [
    {
     "data": {
      "text/plain": [
       "'a'"
      ]
     },
     "execution_count": 24,
     "metadata": {},
     "output_type": "execute_result"
    }
   ],
   "source": [
    "str[0]"
   ]
  },
  {
   "cell_type": "code",
   "execution_count": 26,
   "id": "1c1c8ba2-213e-4e74-b4e9-1d79e5f18172",
   "metadata": {},
   "outputs": [],
   "source": [
    "str=\"aggarwal\""
   ]
  },
  {
   "cell_type": "code",
   "execution_count": 34,
   "id": "d9c4d87c-8b9a-4435-96b8-c5673bd4bd41",
   "metadata": {},
   "outputs": [
    {
     "data": {
      "text/plain": [
       "'w'"
      ]
     },
     "execution_count": 34,
     "metadata": {},
     "output_type": "execute_result"
    }
   ],
   "source": [
    "str[-3] #w"
   ]
  },
  {
   "cell_type": "code",
   "execution_count": 52,
   "id": "ea89ba8b-05dd-40a2-b60e-852240cf75cc",
   "metadata": {},
   "outputs": [
    {
     "ename": "TypeError",
     "evalue": "'str' object does not support item assignment",
     "output_type": "error",
     "traceback": [
      "\u001b[1;31m---------------------------------------------------------------------------\u001b[0m",
      "\u001b[1;31mTypeError\u001b[0m                                 Traceback (most recent call last)",
      "Cell \u001b[1;32mIn[52], line 1\u001b[0m\n\u001b[1;32m----> 1\u001b[0m \u001b[38;5;28mstr\u001b[39m[\u001b[38;5;241m1\u001b[39m]\u001b[38;5;241m=\u001b[39m\u001b[38;5;124m'\u001b[39m\u001b[38;5;124md\u001b[39m\u001b[38;5;124m'\u001b[39m\n",
      "\u001b[1;31mTypeError\u001b[0m: 'str' object does not support item assignment"
     ]
    }
   ],
   "source": [
    " str[1]='d' # error not allowed "
   ]
  },
  {
   "cell_type": "code",
   "execution_count": 44,
   "id": "9f2d1a3e-2d2a-4d2a-b364-27b94ca18417",
   "metadata": {},
   "outputs": [],
   "source": [
    "#LIST  are mutable\n",
    "list_count=[1,2,3,4,4.3,True,3+5j,\"piyush\"]"
   ]
  },
  {
   "cell_type": "code",
   "execution_count": 50,
   "id": "b4d6ed63-f707-4c29-b50e-75ebb5354ba0",
   "metadata": {},
   "outputs": [
    {
     "data": {
      "text/plain": [
       "'p'"
      ]
     },
     "execution_count": 50,
     "metadata": {},
     "output_type": "execute_result"
    }
   ],
   "source": [
    "list_count[7][0]"
   ]
  },
  {
   "cell_type": "code",
   "execution_count": 54,
   "id": "8b7166ab-d062-47e7-88b7-9b9c7708884b",
   "metadata": {},
   "outputs": [],
   "source": [
    "list_count[2]=\"mridul\""
   ]
  },
  {
   "cell_type": "code",
   "execution_count": 56,
   "id": "8e68e071-cc82-44d2-bb82-1cb77191253c",
   "metadata": {},
   "outputs": [
    {
     "data": {
      "text/plain": [
       "[1, 2, 'mridul', 4, 4.3, True, (3+5j), 'piyush']"
      ]
     },
     "execution_count": 56,
     "metadata": {},
     "output_type": "execute_result"
    }
   ],
   "source": [
    "list_count"
   ]
  },
  {
   "cell_type": "code",
   "execution_count": null,
   "id": "515fecf4-766a-4251-a2ed-f3623957cc1c",
   "metadata": {},
   "outputs": [],
   "source": []
  }
 ],
 "metadata": {
  "kernelspec": {
   "display_name": "Python 3 (ipykernel)",
   "language": "python",
   "name": "python3"
  },
  "language_info": {
   "codemirror_mode": {
    "name": "ipython",
    "version": 3
   },
   "file_extension": ".py",
   "mimetype": "text/x-python",
   "name": "python",
   "nbconvert_exporter": "python",
   "pygments_lexer": "ipython3",
   "version": "3.12.7"
  }
 },
 "nbformat": 4,
 "nbformat_minor": 5
}
