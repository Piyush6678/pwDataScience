{
 "cells": [
  {
   "cell_type": "code",
   "execution_count": 3,
   "id": "7a515c14-9882-4c5b-b372-c60d8ce8de1a",
   "metadata": {},
   "outputs": [
    {
     "name": "stdout",
     "output_type": "stream",
     "text": [
      "hello world\n"
     ]
    }
   ],
   "source": [
    "print(\"hello world\")"
   ]
  },
  {
   "cell_type": "code",
   "execution_count": 5,
   "id": "81503d23-a12f-41f0-979f-babde031d45f",
   "metadata": {},
   "outputs": [],
   "source": [
    "a=3"
   ]
  },
  {
   "cell_type": "code",
   "execution_count": 7,
   "id": "a572bf62-a991-44f8-bd84-a9115dff01aa",
   "metadata": {},
   "outputs": [
    {
     "data": {
      "text/plain": [
       "3"
      ]
     },
     "execution_count": 7,
     "metadata": {},
     "output_type": "execute_result"
    }
   ],
   "source": [
    "a"
   ]
  },
  {
   "cell_type": "raw",
   "id": "bbfc6a7e-a9ab-4f18-a83b-bd8e89ac7e26",
   "metadata": {},
   "source": [
    "# variable/identifiers >> placeholder where we keep variety of data which we can use to write logic \n",
    "# number >>integers/float\n",
    "# characters>>string in pthon \n",
    "# true/flase >>boolean\n",
    "# nond\n",
    "# variable is reserved memory space for storing value \n",
    "#complex "
   ]
  },
  {
   "cell_type": "code",
   "execution_count": 11,
   "id": "1b8df40c-f874-4148-be54-55249989a2fd",
   "metadata": {},
   "outputs": [],
   "source": [
    "c=\"piyush\""
   ]
  },
  {
   "cell_type": "code",
   "execution_count": 13,
   "id": "8a1ca369-fbec-4932-bdac-68c473417cff",
   "metadata": {},
   "outputs": [
    {
     "data": {
      "text/plain": [
       "'piyush'"
      ]
     },
     "execution_count": 13,
     "metadata": {},
     "output_type": "execute_result"
    }
   ],
   "source": [
    "c"
   ]
  },
  {
   "cell_type": "code",
   "execution_count": 15,
   "id": "556c27fa-86b1-4d10-bdc6-b492a6d1d37c",
   "metadata": {},
   "outputs": [
    {
     "data": {
      "text/plain": [
       "str"
      ]
     },
     "execution_count": 15,
     "metadata": {},
     "output_type": "execute_result"
    }
   ],
   "source": [
    "type(c)"
   ]
  },
  {
   "cell_type": "code",
   "execution_count": 17,
   "id": "b76e1e2d-0b57-44d3-9106-74de41898a87",
   "metadata": {},
   "outputs": [
    {
     "data": {
      "text/plain": [
       "int"
      ]
     },
     "execution_count": 17,
     "metadata": {},
     "output_type": "execute_result"
    }
   ],
   "source": [
    "type(a)"
   ]
  },
  {
   "cell_type": "code",
   "execution_count": 19,
   "id": "b79627e2-9257-4ce5-b645-d6f5424b6127",
   "metadata": {},
   "outputs": [],
   "source": [
    "b=4.5 \n"
   ]
  },
  {
   "cell_type": "code",
   "execution_count": 23,
   "id": "33b3ebd4-0823-4bbf-bfc7-68d7ff290fe7",
   "metadata": {},
   "outputs": [
    {
     "data": {
      "text/plain": [
       "float"
      ]
     },
     "execution_count": 23,
     "metadata": {},
     "output_type": "execute_result"
    }
   ],
   "source": [
    "type(b)\n",
    "\n"
   ]
  },
  {
   "cell_type": "code",
   "execution_count": 39,
   "id": "ed2026f6-4f81-4653-a7e6-0016348827c1",
   "metadata": {},
   "outputs": [],
   "source": [
    "a=True #1\n",
    "b=False  #0"
   ]
  },
  {
   "cell_type": "code",
   "execution_count": 33,
   "id": "a921be2f-0cea-4c86-bcef-d064b9b5710c",
   "metadata": {},
   "outputs": [
    {
     "data": {
      "text/plain": [
       "2"
      ]
     },
     "execution_count": 33,
     "metadata": {},
     "output_type": "execute_result"
    }
   ],
   "source": [
    "a-b # 1\n",
    "# b=True\n",
    "# a+b //2"
   ]
  },
  {
   "cell_type": "code",
   "execution_count": 41,
   "id": "7aa26492-bef6-421c-b067-6e63d8aaa083",
   "metadata": {},
   "outputs": [
    {
     "ename": "ZeroDivisionError",
     "evalue": "division by zero",
     "output_type": "error",
     "traceback": [
      "\u001b[1;31m---------------------------------------------------------------------------\u001b[0m",
      "\u001b[1;31mZeroDivisionError\u001b[0m                         Traceback (most recent call last)",
      "Cell \u001b[1;32mIn[41], line 1\u001b[0m\n\u001b[1;32m----> 1\u001b[0m \u001b[38;5;28;01mTrue\u001b[39;00m\u001b[38;5;241m/\u001b[39m\u001b[38;5;28;01mFalse\u001b[39;00m\n",
      "\u001b[1;31mZeroDivisionError\u001b[0m: division by zero"
     ]
    }
   ],
   "source": [
    "True/False # throw division by 0 error "
   ]
  },
  {
   "cell_type": "code",
   "execution_count": 43,
   "id": "f018636c-40f8-492e-a2f4-39bcd6d856a2",
   "metadata": {},
   "outputs": [],
   "source": [
    "f= None\n",
    "f"
   ]
  },
  {
   "cell_type": "code",
   "execution_count": 45,
   "id": "c6d6c382-c3e1-47d7-8112-8fbd26a48d5a",
   "metadata": {},
   "outputs": [
    {
     "data": {
      "text/plain": [
       "NoneType"
      ]
     },
     "execution_count": 45,
     "metadata": {},
     "output_type": "execute_result"
    }
   ],
   "source": [
    "type(f)"
   ]
  },
  {
   "cell_type": "code",
   "execution_count": 47,
   "id": "b11855a2-9119-40a1-a9a8-e8f5d62d4d77",
   "metadata": {},
   "outputs": [],
   "source": [
    "# x+iycompplex number "
   ]
  },
  {
   "cell_type": "code",
   "execution_count": 49,
   "id": "9714a290-6f5d-4ac0-9fbf-8d2b428e883a",
   "metadata": {},
   "outputs": [
    {
     "data": {
      "text/plain": [
       "complex"
      ]
     },
     "execution_count": 49,
     "metadata": {},
     "output_type": "execute_result"
    }
   ],
   "source": [
    "com=3+4j\n",
    "type(com)"
   ]
  },
  {
   "cell_type": "code",
   "execution_count": 51,
   "id": "83d6496d-a35b-47f6-935e-cc07e1a86c4a",
   "metadata": {},
   "outputs": [
    {
     "data": {
      "text/plain": [
       "(3+4j)"
      ]
     },
     "execution_count": 51,
     "metadata": {},
     "output_type": "execute_result"
    }
   ],
   "source": [
    "com"
   ]
  },
  {
   "cell_type": "code",
   "execution_count": 53,
   "id": "fe902fe7-4203-4816-a3df-8783d24b9db0",
   "metadata": {},
   "outputs": [
    {
     "data": {
      "text/plain": [
       "3.0"
      ]
     },
     "execution_count": 53,
     "metadata": {},
     "output_type": "execute_result"
    }
   ],
   "source": [
    "com.real"
   ]
  },
  {
   "cell_type": "code",
   "execution_count": 57,
   "id": "163ea6bf-d503-4199-8308-42d5c6d90abb",
   "metadata": {},
   "outputs": [
    {
     "data": {
      "text/plain": [
       "4.0"
      ]
     },
     "execution_count": 57,
     "metadata": {},
     "output_type": "execute_result"
    }
   ],
   "source": [
    "com.imag\n"
   ]
  },
  {
   "cell_type": "raw",
   "id": "709fd045-c01c-453c-b9ac-da4de118adfa",
   "metadata": {},
   "source": [
    "Rules of defining a variabl\n",
    "1) start with alphabet or _ "
   ]
  },
  {
   "cell_type": "raw",
   "id": "a45a86a8-9caf-49fb-9ff8-4e884ef5f750",
   "metadata": {},
   "source": [
    "comments"
   ]
  },
  {
   "cell_type": "code",
   "execution_count": 59,
   "id": "4d5f6d66-173e-46f6-8aec-4c4947aca604",
   "metadata": {},
   "outputs": [],
   "source": [
    "# this is way to define comments \n",
    "a=4 \n",
    "b=3"
   ]
  },
  {
   "cell_type": "code",
   "execution_count": 61,
   "id": "31cfb9d3-6e4f-4398-89d0-9c7016ea7e66",
   "metadata": {},
   "outputs": [],
   "source": [
    "# learning Python "
   ]
  },
  {
   "cell_type": "code",
   "execution_count": 65,
   "id": "2b785674-fc08-4a2a-820f-03c0a2d482a5",
   "metadata": {},
   "outputs": [
    {
     "data": {
      "text/plain": [
       "5"
      ]
     },
     "execution_count": 65,
     "metadata": {},
     "output_type": "execute_result"
    }
   ],
   "source": [
    "'''\n",
    "this is a multiline comments \n",
    "enjoying python \n",
    "'''\n",
    "a=5\n",
    "a"
   ]
  },
  {
   "cell_type": "code",
   "execution_count": null,
   "id": "455a1dfb-66ed-44b5-b0b1-30ea0e1407ab",
   "metadata": {},
   "outputs": [],
   "source": [
    "# keyWords >> predefined words has a specific meaning"
   ]
  },
  {
   "cell_type": "code",
   "execution_count": 69,
   "id": "05e2d665-0591-4578-afb9-d730a9e4bef2",
   "metadata": {},
   "outputs": [
    {
     "name": "stdout",
     "output_type": "stream",
     "text": [
      "hello world \n"
     ]
    }
   ],
   "source": [
    "print(\"hello world \") "
   ]
  },
  {
   "cell_type": "code",
   "execution_count": 73,
   "id": "6c250eea-cd6f-41df-8134-0a0fb9ffa5f6",
   "metadata": {},
   "outputs": [
    {
     "name": "stdout",
     "output_type": "stream",
     "text": [
      "\n",
      "Here is a list of the Python keywords.  Enter any keyword to get more help.\n",
      "\n",
      "False               class               from                or\n",
      "None                continue            global              pass\n",
      "True                def                 if                  raise\n",
      "and                 del                 import              return\n",
      "as                  elif                in                  try\n",
      "assert              else                is                  while\n",
      "async               except              lambda              with\n",
      "await               finally             nonlocal            yield\n",
      "break               for                 not                 \n",
      "\n"
     ]
    }
   ],
   "source": [
    "help('keywords')"
   ]
  },
  {
   "cell_type": "code",
   "execution_count": 83,
   "id": "043c99a5-9cf4-463a-8048-4349c1938afe",
   "metadata": {},
   "outputs": [
    {
     "name": "stdin",
     "output_type": "stream",
     "text": [
      "please enter your name :  2\n"
     ]
    }
   ],
   "source": [
    "#input output\n",
    "name=input(\"please enter your name : \")"
   ]
  },
  {
   "cell_type": "code",
   "execution_count": 79,
   "id": "2e429400-46e1-4fd2-9c60-158ac2efc27a",
   "metadata": {},
   "outputs": [
    {
     "data": {
      "text/plain": [
       "'Piyush'"
      ]
     },
     "execution_count": 79,
     "metadata": {},
     "output_type": "execute_result"
    }
   ],
   "source": [
    "name\n"
   ]
  },
  {
   "cell_type": "code",
   "execution_count": 81,
   "id": "01fcc0f2-90de-4154-8768-77fb4fd7c3c8",
   "metadata": {},
   "outputs": [],
   "source": [
    "#input takes every value as a string but we can conver "
   ]
  },
  {
   "cell_type": "code",
   "execution_count": 89,
   "id": "e92e4d7b-bbdc-4dd0-b12b-774f395b81d3",
   "metadata": {},
   "outputs": [],
   "source": [
    "name=int(name) "
   ]
  },
  {
   "cell_type": "code",
   "execution_count": 91,
   "id": "8b38f6a7-dfef-4adf-8df2-221e00cb0b02",
   "metadata": {},
   "outputs": [
    {
     "data": {
      "text/plain": [
       "int"
      ]
     },
     "execution_count": 91,
     "metadata": {},
     "output_type": "execute_result"
    }
   ],
   "source": [
    "type(name)\n"
   ]
  },
  {
   "cell_type": "code",
   "execution_count": 97,
   "id": "7f033ad0-24c7-43db-aeb1-40ff8ad26e91",
   "metadata": {},
   "outputs": [
    {
     "ename": "ValueError",
     "evalue": "invalid literal for int() with base 10: '342f4'",
     "output_type": "error",
     "traceback": [
      "\u001b[1;31m---------------------------------------------------------------------------\u001b[0m",
      "\u001b[1;31mValueError\u001b[0m                                Traceback (most recent call last)",
      "Cell \u001b[1;32mIn[97], line 1\u001b[0m\n\u001b[1;32m----> 1\u001b[0m name\u001b[38;5;241m=\u001b[39m\u001b[38;5;28mint\u001b[39m(\u001b[38;5;124m'\u001b[39m\u001b[38;5;124m342f4\u001b[39m\u001b[38;5;124m'\u001b[39m)\n\u001b[0;32m      2\u001b[0m name\n",
      "\u001b[1;31mValueError\u001b[0m: invalid literal for int() with base 10: '342f4'"
     ]
    }
   ],
   "source": []
  },
  {
   "cell_type": "code",
   "execution_count": null,
   "id": "1b1e56b9-ab7b-4e23-8fe4-dad870e978f9",
   "metadata": {},
   "outputs": [],
   "source": []
  }
 ],
 "metadata": {
  "kernelspec": {
   "display_name": "Python 3 (ipykernel)",
   "language": "python",
   "name": "python3"
  },
  "language_info": {
   "codemirror_mode": {
    "name": "ipython",
    "version": 3
   },
   "file_extension": ".py",
   "mimetype": "text/x-python",
   "name": "python",
   "nbconvert_exporter": "python",
   "pygments_lexer": "ipython3",
   "version": "3.12.7"
  }
 },
 "nbformat": 4,
 "nbformat_minor": 5
}
