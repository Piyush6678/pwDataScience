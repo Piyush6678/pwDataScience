{
 "cells": [
  {
   "cell_type": "code",
   "execution_count": 1,
   "id": "72c8e86b-9d8d-4a18-856d-3bba5e5aa087",
   "metadata": {},
   "outputs": [
    {
     "data": {
      "text/plain": [
       "str"
      ]
     },
     "execution_count": 1,
     "metadata": {},
     "output_type": "execute_result"
    }
   ],
   "source": [
    "a=5 \n",
    "type(a)\n",
    "b=5.3\n",
    "type(b)\n",
    "str=\"piyush\"\n",
    "type(str)\n",
    "\n"
   ]
  },
  {
   "cell_type": "code",
   "execution_count": 3,
   "id": "5cc653df-e68e-41ec-8043-333405ae371e",
   "metadata": {},
   "outputs": [
    {
     "data": {
      "text/plain": [
       "5"
      ]
     },
     "execution_count": 3,
     "metadata": {},
     "output_type": "execute_result"
    }
   ],
   "source": [
    "#type casting changing the type of variabel\n",
    "int(\"2\")+3"
   ]
  },
  {
   "cell_type": "code",
   "execution_count": 2,
   "id": "4becf9d6-91bc-4e85-b2b4-c96c377932da",
   "metadata": {},
   "outputs": [
    {
     "data": {
      "text/plain": [
       "3"
      ]
     },
     "execution_count": 2,
     "metadata": {},
     "output_type": "execute_result"
    }
   ],
   "source": [
    "a=3.4\n",
    "int(a) # 3"
   ]
  },
  {
   "cell_type": "code",
   "execution_count": 6,
   "id": "ee6337ca-7004-4179-93bc-ea47887f273c",
   "metadata": {},
   "outputs": [
    {
     "data": {
      "text/plain": [
       "2.0"
      ]
     },
     "execution_count": 6,
     "metadata": {},
     "output_type": "execute_result"
    }
   ],
   "source": [
    "b=2 \n",
    "float(b)\n"
   ]
  },
  {
   "cell_type": "code",
   "execution_count": 8,
   "id": "58e7ac8c-d53f-4888-91e5-7655cff9275a",
   "metadata": {},
   "outputs": [
    {
     "data": {
      "text/plain": [
       "'2'"
      ]
     },
     "execution_count": 8,
     "metadata": {},
     "output_type": "execute_result"
    }
   ],
   "source": [
    "str(b)"
   ]
  },
  {
   "cell_type": "code",
   "execution_count": 10,
   "id": "046da0e9-db45-4120-b706-62f5fccbf73d",
   "metadata": {},
   "outputs": [],
   "source": [
    "# Type casting implicit and explicit"
   ]
  },
  {
   "cell_type": "code",
   "execution_count": 12,
   "id": "fd459965-4ac8-4344-8be2-bebced402597",
   "metadata": {},
   "outputs": [],
   "source": [
    "#implicit >> python unserstand the datatype\n",
    "a=5 "
   ]
  },
  {
   "cell_type": "code",
   "execution_count": 14,
   "id": "d01e477b-2d7d-4b6c-9b3f-4e0afd34641d",
   "metadata": {},
   "outputs": [
    {
     "data": {
      "text/plain": [
       "'piyush aggarwal'"
      ]
     },
     "execution_count": 14,
     "metadata": {},
     "output_type": "execute_result"
    }
   ],
   "source": [
    "# explicit\n",
    "a=\"piyush \"\n",
    "b=\"aggarwal\"\n",
    "a+b # concatenation"
   ]
  },
  {
   "cell_type": "code",
   "execution_count": 24,
   "id": "977c8ac9-2586-4cc1-a263-18e5d841c41c",
   "metadata": {},
   "outputs": [
    {
     "data": {
      "text/plain": [
       "True"
      ]
     },
     "execution_count": 24,
     "metadata": {},
     "output_type": "execute_result"
    }
   ],
   "source": []
  },
  {
   "cell_type": "code",
   "execution_count": null,
   "id": "202c9766-3820-4beb-8f0e-3c8970faa7b0",
   "metadata": {},
   "outputs": [],
   "source": []
  }
 ],
 "metadata": {
  "kernelspec": {
   "display_name": "Python 3 (ipykernel)",
   "language": "python",
   "name": "python3"
  },
  "language_info": {
   "codemirror_mode": {
    "name": "ipython",
    "version": 3
   },
   "file_extension": ".py",
   "mimetype": "text/x-python",
   "name": "python",
   "nbconvert_exporter": "python",
   "pygments_lexer": "ipython3",
   "version": "3.12.7"
  }
 },
 "nbformat": 4,
 "nbformat_minor": 5
}
