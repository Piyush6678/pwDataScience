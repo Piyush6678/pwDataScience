{
 "cells": [
  {
   "cell_type": "code",
   "execution_count": null,
   "id": "75b42015-53ab-47c9-b268-de6463632d11",
   "metadata": {},
   "outputs": [],
   "source": [
    "a=100\n",
    "if a>0:\n",
    "    print(\"a is greater then 0\")\n",
    "if a%2==0:\n",
    "    print(\"a is even \")\n",
    "if ((a%4==0 && a%100!=0)||a%400):\n",
    "    print(\"a is a leap year\")\n",
    "else:\n",
    "    print(\"a is not leap year\")"
   ]
  },
  {
   "cell_type": "code",
   "execution_count": null,
   "id": "40137732-f0c2-46ee-8a62-7eabf9914438",
   "metadata": {},
   "outputs": [],
   "source": [
    "age=21\n",
    "if a>18 :\n",
    "    print(\"you are eligible for driving \")\n",
    "else :\n",
    "    print(\"you are not eligible\")"
   ]
  },
  {
   "cell_type": "code",
   "execution_count": null,
   "id": "1380e523-88cf-46ac-ab13-f3f8125c4629",
   "metadata": {},
   "outputs": [],
   "source": [
    "a=10\n",
    "if a>10:\n",
    "    print(\"this block will bexwcuted\")\n",
    "elif a<10:\n",
    "    print(\"this block will get executed:)\n",
    "else:\n",
    "    print(\"a is 10\")"
   ]
  }
 ],
 "metadata": {
  "kernelspec": {
   "display_name": "Python 3 (ipykernel)",
   "language": "python",
   "name": "python3"
  },
  "language_info": {
   "codemirror_mode": {
    "name": "ipython",
    "version": 3
   },
   "file_extension": ".py",
   "mimetype": "text/x-python",
   "name": "python",
   "nbconvert_exporter": "python",
   "pygments_lexer": "ipython3",
   "version": "3.12.7"
  }
 },
 "nbformat": 4,
 "nbformat_minor": 5
}
