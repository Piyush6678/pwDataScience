{
 "cells": [
  {
   "cell_type": "code",
   "execution_count": null,
   "id": "77354fe7-f7d3-416d-a3be-6a7161ef4d93",
   "metadata": {},
   "outputs": [],
   "source": [
    "#oops>> object oriented programing language\n",
    "\n"
   ]
  }
 ],
 "metadata": {
  "kernelspec": {
   "display_name": "Python 3 (ipykernel)",
   "language": "python",
   "name": "python3"
  },
  "language_info": {
   "codemirror_mode": {
    "name": "ipython",
    "version": 3
   },
   "file_extension": ".py",
   "mimetype": "text/x-python",
   "name": "python",
   "nbconvert_exporter": "python",
   "pygments_lexer": "ipython3",
   "version": "3.12.7"
  }
 },
 "nbformat": 4,
 "nbformat_minor": 5
}
